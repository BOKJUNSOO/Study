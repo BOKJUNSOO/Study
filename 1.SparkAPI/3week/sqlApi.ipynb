{
 "cells": [
  {
   "cell_type": "markdown",
   "metadata": {},
   "source": [
    "- spark api 공부 : https://velog.io/@newnew_daddy/spark01\n",
    "- spark document : https://spark.apache.org/docs/latest/api/python/reference/index.html\n"
   ]
  },
  {
   "cell_type": "markdown",
   "metadata": {},
   "source": [
    "# 정제할 때 사용한 컬럼\n",
    "- .agg(F.countDistinct)\n",
    "- pyspark.sql.window\n",
    "- groupby"
   ]
  }
 ],
 "metadata": {
  "language_info": {
   "name": "python"
  }
 },
 "nbformat": 4,
 "nbformat_minor": 2
}
