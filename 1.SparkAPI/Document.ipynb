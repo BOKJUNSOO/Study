{
 "cells": [
  {
   "cell_type": "markdown",
   "metadata": {},
   "source": [
    "- spark api 공부 : https://velog.io/@newnew_daddy/spark01  https://sparkbyexamples.com/\n",
    "- spark document : https://spark.apache.org/docs/latest/api/python/reference/index.html\n"
   ]
  }
 ],
 "metadata": {
  "language_info": {
   "name": "python"
  }
 },
 "nbformat": 4,
 "nbformat_minor": 2
}
