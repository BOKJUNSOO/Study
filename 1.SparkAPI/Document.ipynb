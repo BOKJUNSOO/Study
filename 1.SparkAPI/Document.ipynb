{
 "cells": [
  {
   "cell_type": "markdown",
   "metadata": {},
   "source": [
    "- spark api 공부 : https://velog.io/@newnew_daddy/spark01  https://sparkbyexamples.com/\n",
    "- spark document : https://spark.apache.org/docs/latest/api/python/reference/index.html\n"
   ]
  },
  {
   "cell_type": "code",
   "execution_count": 4,
   "metadata": {},
   "outputs": [
    {
     "name": "stdout",
     "output_type": "stream",
     "text": [
      "in for in=/opt/bitnami/spark/data/2024-07-07-16.json\n",
      "in for in=/opt/bitnami/spark/data/2024-07-07-17.json\n",
      "in for in=/opt/bitnami/spark/data/2024-07-07-18.json\n",
      "out of for in =/opt/bitnami/spark/data/2024-07-07-18.json\n",
      "in for in = ../data/2024-07-07-17\n",
      "in for in = ../data/2024-07-07-18\n",
      "out of for in = ../data/2024-07-07-18 \n"
     ]
    }
   ],
   "source": [
    "time = [16,17,18]\n",
    "for t in time:\n",
    "    input_path = f\"/opt/bitnami/spark/data/2024-07-07-{t}.json\"\n",
    "    print(\"in for in={}\".format(input_path))\n",
    "print(\"out of for in ={}\".format(input_path))\n",
    "\n",
    "target_date = \"2024-07-07\"\n",
    "hour = [17,18]\n",
    "for h in hour:\n",
    "    input_path = f\"../data/{target_date}-%d\" %h\n",
    "    print(\"in for in = {}\" .format(input_path))\n",
    "print(\"out of for in = {} \".format(input_path))"
   ]
  },
  {
   "cell_type": "code",
   "execution_count": 3,
   "metadata": {},
   "outputs": [],
   "source": [
    "hour = range(16,19)\n",
    "def pathhour(hour):\n",
    "    input_path = f\"/opt/bitnami/spark/data/2021-{hour}.json\"\n",
    "    return input_path\n",
    "\n",
    "\n"
   ]
  }
 ],
 "metadata": {
  "kernelspec": {
   "display_name": "Python 3",
   "language": "python",
   "name": "python3"
  },
  "language_info": {
   "codemirror_mode": {
    "name": "ipython",
    "version": 3
   },
   "file_extension": ".py",
   "mimetype": "text/x-python",
   "name": "python",
   "nbconvert_exporter": "python",
   "pygments_lexer": "ipython3",
   "version": "3.11.9"
  }
 },
 "nbformat": 4,
 "nbformat_minor": 2
}
