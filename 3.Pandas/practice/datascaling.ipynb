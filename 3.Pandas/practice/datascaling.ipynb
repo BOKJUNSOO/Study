{
 "cells": [
  {
   "cell_type": "code",
   "execution_count": 3,
   "metadata": {},
   "outputs": [],
   "source": [
    "import pandas as pd\n",
    "df = pd.read_csv(\"C:/Users/brian/OneDrive/바탕 화면/데이터/bigData-main/mtcars.csv\")"
   ]
  },
  {
   "cell_type": "code",
   "execution_count": 4,
   "metadata": {},
   "outputs": [],
   "source": [
    "X = df.drop(columns = 'mpg')\n",
    "Y = df['mpg']\n",
    "X = df.iloc[:,1:]"
   ]
  },
  {
   "cell_type": "code",
   "execution_count": 39,
   "metadata": {},
   "outputs": [
    {
     "name": "stdout",
     "output_type": "stream",
     "text": [
      "           0\n",
      "0  -0.226191\n",
      "1  -0.189010\n",
      "2  -0.083443\n",
      "3  -1.312404\n",
      "4  -0.189010\n",
      "5   0.023452\n",
      "6  -0.267355\n",
      "7   0.008845\n",
      "8   0.201389\n",
      "9  -0.104025\n",
      "10       NaN\n",
      "11 -0.163780\n",
      "12 -0.150501\n",
      "13 -0.123943\n",
      "14 -0.125271\n",
      "15 -0.135894\n",
      "16 -0.162452\n",
      "17 -0.026344\n",
      "18 -0.089418\n",
      "19  0.002206\n",
      "20  0.009509\n",
      "21 -0.198969\n",
      "22 -0.170420\n",
      "23 -0.295905\n",
      "24  5.320401\n",
      "25 -0.064188\n",
      "26 -0.210256\n",
      "27 -0.196977\n",
      "28 -0.356324\n",
      "29 -0.289930\n",
      "30 -0.349685\n",
      "31 -0.084107\n"
     ]
    }
   ],
   "source": [
    "# 싸이킷런 데이터 스케일링\n",
    "# https://jimmy-ai.tistory.com/139\n",
    "from sklearn.preprocessing import StandardScaler\n",
    "temp = X[['qsec']]\n",
    "scaler = StandardScaler()\n",
    "#print(scaler.fit_transform(temp))\n",
    "qsec_s_scaler = (pd.\n",
    "                DataFrame(scaler\n",
    "                          .fit_transform(temp))\n",
    "                )\n",
    "print(qsec_s_scaler)\n",
    "#sum(qsec_s_scaler)=0 , standard ~ mean = 0"
   ]
  },
  {
   "cell_type": "code",
   "execution_count": null,
   "metadata": {},
   "outputs": [],
   "source": []
  }
 ],
 "metadata": {
  "kernelspec": {
   "display_name": "Python 3",
   "language": "python",
   "name": "python3"
  },
  "language_info": {
   "codemirror_mode": {
    "name": "ipython",
    "version": 3
   },
   "file_extension": ".py",
   "mimetype": "text/x-python",
   "name": "python",
   "nbconvert_exporter": "python",
   "pygments_lexer": "ipython3",
   "version": "3.12.3"
  }
 },
 "nbformat": 4,
 "nbformat_minor": 2
}
