{
 "cells": [
  {
   "cell_type": "markdown",
   "metadata": {},
   "source": [
    "# Spark Context"
   ]
  },
  {
   "cell_type": "code",
   "execution_count": 12,
   "metadata": {},
   "outputs": [],
   "source": [
    "from pyspark.sql import SparkSession\n",
    "\n",
    "# Spark session & context\n",
    "spark = (SparkSession\n",
    "         .builder\n",
    "         .master(\"local\")\n",
    "         .appName(\"spark-sql\")\n",
    "         .getOrCreate())\n",
    "sc = spark.sparkContext"
   ]
  },
  {
   "cell_type": "code",
   "execution_count": 2,
   "metadata": {},
   "outputs": [],
   "source": [
    "df = (\n",
    "    spark.read\n",
    "    .format(\"csv\")\n",
    "    .option(\"header\", True)\n",
    "    .load(\"/home/jovyan/data/movies.csv\")\n",
    ")"
   ]
  },
  {
   "cell_type": "code",
   "execution_count": 3,
   "metadata": {},
   "outputs": [
    {
     "data": {
      "text/plain": [
       "DataFrame[summary: string, movieId: string, title: string, genres: string]"
      ]
     },
     "execution_count": 3,
     "metadata": {},
     "output_type": "execute_result"
    }
   ],
   "source": [
    "df.summary()"
   ]
  },
  {
   "cell_type": "code",
   "execution_count": 21,
   "metadata": {},
   "outputs": [
    {
     "name": "stdout",
     "output_type": "stream",
     "text": [
      "+-------+----------------------------------+-------------------------------------------+\n",
      "|movieId|title                             |genres                                     |\n",
      "+-------+----------------------------------+-------------------------------------------+\n",
      "|1      |Toy Story (1995)                  |Adventure|Animation|Children|Comedy|Fantasy|\n",
      "|2      |Jumanji (1995)                    |Adventure|Children|Fantasy                 |\n",
      "|3      |Grumpier Old Men (1995)           |Comedy|Romance                             |\n",
      "|4      |Waiting to Exhale (1995)          |Comedy|Drama|Romance                       |\n",
      "|5      |Father of the Bride Part II (1995)|Comedy                                     |\n",
      "|6      |Heat (1995)                       |Action|Crime|Thriller                      |\n",
      "|7      |Sabrina (1995)                    |Comedy|Romance                             |\n",
      "|8      |Tom and Huck (1995)               |Adventure|Children                         |\n",
      "|9      |Sudden Death (1995)               |Action                                     |\n",
      "|10     |GoldenEye (1995)                  |Action|Adventure|Thriller                  |\n",
      "+-------+----------------------------------+-------------------------------------------+\n",
      "only showing top 10 rows\n",
      "\n"
     ]
    }
   ],
   "source": [
    "df.show(10, False)"
   ]
  },
  {
   "cell_type": "code",
   "execution_count": 4,
   "metadata": {},
   "outputs": [
    {
     "name": "stdout",
     "output_type": "stream",
     "text": [
      "root\n",
      " |-- movieId: string (nullable = true)\n",
      " |-- title: string (nullable = true)\n",
      " |-- genres: string (nullable = true)\n",
      "\n"
     ]
    }
   ],
   "source": [
    "df.printSchema()"
   ]
  },
  {
   "cell_type": "code",
   "execution_count": 18,
   "metadata": {},
   "outputs": [],
   "source": [
    "df.createOrReplaceTempView(\"movies\")"
   ]
  },
  {
   "cell_type": "code",
   "execution_count": 19,
   "metadata": {},
   "outputs": [
    {
     "name": "stdout",
     "output_type": "stream",
     "text": [
      "+-------------------------------------------------+\n",
      "|genres                                           |\n",
      "+-------------------------------------------------+\n",
      "|Comedy|Horror|Thriller                           |\n",
      "|Adventure|Sci-Fi|Thriller                        |\n",
      "|Action|Adventure|Drama|Fantasy                   |\n",
      "|Action|Drama|Horror                              |\n",
      "|Action|Animation|Comedy|Sci-Fi                   |\n",
      "|Animation|Children|Drama|Musical|Romance         |\n",
      "|Action|Adventure|Drama                           |\n",
      "|Adventure|Sci-Fi                                 |\n",
      "|Documentary|Musical|IMAX                         |\n",
      "|Adventure|Children|Fantasy|Sci-Fi|Thriller       |\n",
      "|Adventure|Animation                              |\n",
      "|Musical|Romance|War                              |\n",
      "|Action|Adventure|Fantasy|Romance                 |\n",
      "|Adventure|Children|Drama|Fantasy|IMAX            |\n",
      "|Comedy|Crime|Horror|Thriller                     |\n",
      "|Crime|Drama|Fantasy|Horror|Thriller              |\n",
      "|Comedy|Mystery|Thriller                          |\n",
      "|Adventure|Fantasy                                |\n",
      "|Horror|Romance|Sci-Fi                            |\n",
      "|Drama|Film-Noir|Romance                          |\n",
      "|Crime|Drama|Film-Noir|Mystery|Thriller           |\n",
      "|Musical|Western                                  |\n",
      "|Adventure|Animation|Children|Musical|Romance     |\n",
      "|Comedy|Crime|Mystery|Romance|Thriller            |\n",
      "|Action|Animation|Children|Crime                  |\n",
      "|Adventure|Horror|Sci-Fi                          |\n",
      "|Comedy|Drama|Romance|Thriller                    |\n",
      "|Action|Drama|Mystery|Sci-Fi|Thriller             |\n",
      "|Adventure|Animation|Children|Comedy|Drama|Fantasy|\n",
      "|Action|Adventure|Mystery|Sci-Fi                  |\n",
      "+-------------------------------------------------+\n",
      "only showing top 30 rows\n",
      "\n"
     ]
    }
   ],
   "source": [
    "n_df = spark.sql(\"SELECT DISTINCT(genres) FROM movies\")\n",
    "n_df.show(30, False)"
   ]
  },
  {
   "cell_type": "code",
   "execution_count": 22,
   "metadata": {},
   "outputs": [
    {
     "name": "stdout",
     "output_type": "stream",
     "text": [
      "+------------------------------------------+\n",
      "|title                                     |\n",
      "+------------------------------------------+\n",
      "|Bottle Rocket (1996)                      |\n",
      "|Mr. Wrong (1996)                          |\n",
      "|Unforgettable (1996)                      |\n",
      "|Happy Gilmore (1996)                      |\n",
      "|Bridges of Madison County, The (1995)     |\n",
      "|Nobody Loves Me (Keiner liebt mich) (1994)|\n",
      "|Muppet Treasure Island (1996)             |\n",
      "|Catwalk (1996)                            |\n",
      "|Braveheart (1995)                         |\n",
      "|Taxi Driver (1976)                        |\n",
      "+------------------------------------------+\n",
      "only showing top 10 rows\n",
      "\n"
     ]
    }
   ],
   "source": [
    "spark.sql(\"SELECT title FROM movies WHERE movieId > 100\").show(10, False)"
   ]
  },
  {
   "cell_type": "code",
   "execution_count": 30,
   "metadata": {},
   "outputs": [
    {
     "name": "stderr",
     "output_type": "stream",
     "text": [
      "\r\n",
      "[Stage 15:===============================================>      (175 + 1) / 200]\r\n",
      "\r\n",
      "                                                                                \r"
     ]
    },
    {
     "data": {
      "text/plain": [
       "9732"
      ]
     },
     "execution_count": 30,
     "metadata": {},
     "output_type": "execute_result"
    }
   ],
   "source": [
    "spark.sql(\"\"\"\n",
    "    SELECT movieId, genres\n",
    "    FROM movies\n",
    "    GROUP BY genres, movieId\"\"\"\n",
    "    ).where(\"movieId > 10\"\n",
    "    ).count()"
   ]
  },
  {
   "cell_type": "markdown",
   "metadata": {},
   "source": [
    "## RDD with partitions"
   ]
  },
  {
   "cell_type": "code",
   "execution_count": 9,
   "metadata": {},
   "outputs": [],
   "source": [
    "rdd1 = sc.textFile(\"../data/movies.csv\")\n",
    "rdd2 = sc.textFile(\"../data/ratings.csv\")"
   ]
  },
  {
   "cell_type": "code",
   "execution_count": 16,
   "metadata": {},
   "outputs": [
    {
     "name": "stdout",
     "output_type": "stream",
     "text": [
      "defaultMinPartitions: 1\n",
      "name: rdd1, count: <bound method RDD.count of ../data/movies.csv MapPartitionsRDD[32] at textFile at NativeMethodAccessorImpl.java:0>, partitions: 1\n",
      "name: rdd2, count: <bound method RDD.count of ../data/ratings.csv MapPartitionsRDD[34] at textFile at NativeMethodAccessorImpl.java:0>, partitions: 1\n"
     ]
    }
   ],
   "source": [
    "\n",
    "print(f\"defaultMinPartitions: {sc.defaultMinPartitions}\")\n",
    "print(f\"name: rdd1, count: {rdd1.count}, partitions: {rdd1.getNumPartitions()}\")\n",
    "print(f\"name: rdd2, count: {rdd2.count}, partitions: {rdd2.getNumPartitions()}\")\n"
   ]
  },
  {
   "cell_type": "markdown",
   "metadata": {},
   "source": [
    "## Spark SQL"
   ]
  },
  {
   "cell_type": "code",
   "execution_count": 32,
   "metadata": {},
   "outputs": [
    {
     "name": "stdout",
     "output_type": "stream",
     "text": [
      "root\n",
      " |-- actor: string (nullable = true)\n",
      " |-- created_at: date (nullable = true)\n",
      " |-- id: long (nullable = true)\n",
      " |-- org: string (nullable = true)\n",
      " |-- payload: string (nullable = true)\n",
      " |-- public: boolean (nullable = true)\n",
      " |-- repo: string (nullable = true)\n",
      " |-- type: string (nullable = true)\n",
      "\n"
     ]
    }
   ],
   "source": [
    "from pyspark.sql import SparkSession\n",
    "from pyspark.sql.types import StructType, StructField, StringType, IntegerType, FloatType , DateType, TimestampType, LongType ,BooleanType\n",
    "\n",
    "schema = StructType([\n",
    "      StructField(\"actor\", StringType(), True),\n",
    "      StructField(\"created_at\", DateType(), True),\n",
    "      StructField(\"id\", LongType(), False),\n",
    "      StructField(\"org\", StringType(), True),\n",
    "      StructField(\"payload\", StringType(), True),\n",
    "      StructField(\"public\", BooleanType(), True),\n",
    "      StructField(\"repo\", StringType(), True),\n",
    "      StructField(\"type\", StringType(), True)\n",
    "  ])\n",
    "\n",
    "github = spark.read.json(\"../data/2024-06-01-17.json\" , schema = schema)\n",
    "github.printSchema()\n"
   ]
  },
  {
   "cell_type": "code",
   "execution_count": 7,
   "metadata": {},
   "outputs": [
    {
     "name": "stderr",
     "output_type": "stream",
     "text": [
      "                                                                                \r"
     ]
    },
    {
     "name": "stdout",
     "output_type": "stream",
     "text": [
      "+--------------------+----------+----+--------------------+--------------------+------+--------------------+-----------+\n",
      "|               actor|created_at|  id|                 org|             payload|public|                repo|       type|\n",
      "+--------------------+----------+----+--------------------+--------------------+------+--------------------+-----------+\n",
      "|{\"id\":120438850,\"...|2024-06-01|null|                null|{\"repository_id\":...|  true|{\"id\":583676719,\"...|  PushEvent|\n",
      "|{\"id\":85358022,\"l...|2024-06-01|null|                null|{\"repository_id\":...|  true|{\"id\":807004394,\"...|  PushEvent|\n",
      "|{\"id\":168934284,\"...|2024-06-01|null|                null|{\"ref\":null,\"ref_...|  true|{\"id\":809092693,\"...|CreateEvent|\n",
      "|{\"id\":143586580,\"...|2024-06-01|null|                null|{\"ref\":\"pullshark...|  true|{\"id\":808472583,\"...|DeleteEvent|\n",
      "|{\"id\":167545029,\"...|2024-06-01|null|                null|{\"ref\":\"main\",\"re...|  true|{\"id\":809092689,\"...|CreateEvent|\n",
      "|{\"id\":11133742,\"l...|2024-06-01|null|{\"id\":164844019,\"...|{\"action\":\"started\"}|  true|{\"id\":806709826,\"...| WatchEvent|\n",
      "|{\"id\":117595548,\"...|2024-06-01|null|                null|{\"action\":\"closed...|  true|{\"id\":698895438,\"...|IssuesEvent|\n",
      "|{\"id\":18086791,\"l...|2024-06-01|null|                null|{\"action\":\"started\"}|  true|{\"id\":764998085,\"...| WatchEvent|\n",
      "|{\"id\":49699333,\"l...|2024-06-01|null|                null|{\"ref\":\"dependabo...|  true|{\"id\":688738199,\"...|DeleteEvent|\n",
      "|{\"id\":48414362,\"l...|2024-06-01|null|                null|{\"repository_id\":...|  true|{\"id\":808774879,\"...|  PushEvent|\n",
      "+--------------------+----------+----+--------------------+--------------------+------+--------------------+-----------+\n",
      "only showing top 10 rows\n",
      "\n"
     ]
    }
   ],
   "source": [
    "github.show(10)"
   ]
  },
  {
   "cell_type": "code",
   "execution_count": 10,
   "metadata": {},
   "outputs": [
    {
     "name": "stderr",
     "output_type": "stream",
     "text": [
      "                                                                                \r"
     ]
    },
    {
     "name": "stdout",
     "output_type": "stream",
     "text": [
      "+--------------------------------------------------------------------------------------------------------------------------------------------------------------------------------------------+----------+----+----+-------------------------------------------------------------------------------------------------------------------------------------------------------------------------------------------------------------------------------------------------------------------------------------------------------------------------------------------------------------------------------------------------------------------------------------------------------------------------------------------------+------+--------------------------------------------------------------------------------------+---------+\n",
      "|actor                                                                                                                                                                                       |created_at|id  |org |payload                                                                                                                                                                                                                                                                                                                                                                                                                                                                                          |public|repo                                                                                  |type     |\n",
      "+--------------------------------------------------------------------------------------------------------------------------------------------------------------------------------------------+----------+----+----+-------------------------------------------------------------------------------------------------------------------------------------------------------------------------------------------------------------------------------------------------------------------------------------------------------------------------------------------------------------------------------------------------------------------------------------------------------------------------------------------------+------+--------------------------------------------------------------------------------------+---------+\n",
      "|{\"id\":120438850,\"login\":\"1992513\",\"display_login\":\"1992513\",\"gravatar_id\":\"\",\"url\":\"https://api.github.com/users/1992513\",\"avatar_url\":\"https://avatars.githubusercontent.com/u/120438850?\"}|2024-06-01|null|null|{\"repository_id\":583676719,\"push_id\":18686706767,\"size\":1,\"distinct_size\":1,\"ref\":\"refs/heads/master\",\"head\":\"e7efe6412721a00fb210ac82102efa936f9dd03b\",\"before\":\"be29ef06c2bd0f69f25196d8fe3044c64bbbf8e9\",\"commits\":[{\"sha\":\"e7efe6412721a00fb210ac82102efa936f9dd03b\",\"author\":{\"email\":\"120438850+1992513@users.noreply.github.com\",\"name\":\"1992513\"},\"message\":\"Update\",\"distinct\":true,\"url\":\"https://api.github.com/repos/1992513/djy/commits/e7efe6412721a00fb210ac82102efa936f9dd03b\"}]}|true  |{\"id\":583676719,\"name\":\"1992513/djy\",\"url\":\"https://api.github.com/repos/1992513/djy\"}|PushEvent|\n",
      "+--------------------------------------------------------------------------------------------------------------------------------------------------------------------------------------------+----------+----+----+-------------------------------------------------------------------------------------------------------------------------------------------------------------------------------------------------------------------------------------------------------------------------------------------------------------------------------------------------------------------------------------------------------------------------------------------------------------------------------------------------+------+--------------------------------------------------------------------------------------+---------+\n",
      "only showing top 1 row\n",
      "\n"
     ]
    }
   ],
   "source": [
    "github.show(1,False) # nested 한 내부 확인\n",
    "                     # 내부 구조에 대해서 각각 스키마작성"
   ]
  },
  {
   "cell_type": "code",
   "execution_count": 14,
   "metadata": {},
   "outputs": [
    {
     "name": "stdout",
     "output_type": "stream",
     "text": [
      "+-------------------------------------------------------------------------------------------------------------------------------------------------------------------------------------------------------------------------------------------------------------------------------------------------------------------------------------------------------------------------------------------------------------------------------------------------------------------------------------------------+\n",
      "|payload                                                                                                                                                                                                                                                                                                                                                                                                                                                                                          |\n",
      "+-------------------------------------------------------------------------------------------------------------------------------------------------------------------------------------------------------------------------------------------------------------------------------------------------------------------------------------------------------------------------------------------------------------------------------------------------------------------------------------------------+\n",
      "|{\"repository_id\":583676719,\"push_id\":18686706767,\"size\":1,\"distinct_size\":1,\"ref\":\"refs/heads/master\",\"head\":\"e7efe6412721a00fb210ac82102efa936f9dd03b\",\"before\":\"be29ef06c2bd0f69f25196d8fe3044c64bbbf8e9\",\"commits\":[{\"sha\":\"e7efe6412721a00fb210ac82102efa936f9dd03b\",\"author\":{\"email\":\"120438850+1992513@users.noreply.github.com\",\"name\":\"1992513\"},\"message\":\"Update\",\"distinct\":true,\"url\":\"https://api.github.com/repos/1992513/djy/commits/e7efe6412721a00fb210ac82102efa936f9dd03b\"}]}|\n",
      "+-------------------------------------------------------------------------------------------------------------------------------------------------------------------------------------------------------------------------------------------------------------------------------------------------------------------------------------------------------------------------------------------------------------------------------------------------------------------------------------------------+\n",
      "only showing top 1 row\n",
      "\n"
     ]
    }
   ],
   "source": [
    "github.select(\"payload\").show(1,False)"
   ]
  },
  {
   "cell_type": "code",
   "execution_count": 37,
   "metadata": {},
   "outputs": [
    {
     "name": "stderr",
     "output_type": "stream",
     "text": [
      "                                                                                \r"
     ]
    },
    {
     "name": "stdout",
     "output_type": "stream",
     "text": [
      "+---------------+--------------------+----------+----+-------------+----+-------------+-------+-----------+--------------------+--------------------+\n",
      "|          login|                 url|created_at|  id|repository_id|size|distinct_size|message|       type|                name|                 url|\n",
      "+---------------+--------------------+----------+----+-------------+----+-------------+-------+-----------+--------------------+--------------------+\n",
      "|        1992513|https://api.githu...|2024-06-01|null|    583676719|   1|            1|   null|  PushEvent|         1992513/djy|https://api.githu...|\n",
      "|         dds256|https://api.githu...|2024-06-01|null|    807004394|   1|            1|   null|  PushEvent|     dds256/MusicBot|https://api.githu...|\n",
      "|      Avamcotec|https://api.githu...|2024-06-01|null|         null|null|         null|   null|CreateEvent|        Avamcotec/db|https://api.githu...|\n",
      "|  lukebewitched|https://api.githu...|2024-06-01|null|         null|null|         null|   null|DeleteEvent|lukebewitched/ach...|https://api.githu...|\n",
      "|RAJESHKANNA1002|https://api.githu...|2024-06-01|null|         null|null|         null|   null|CreateEvent|RAJESHKANNA1002/I...|https://api.githu...|\n",
      "|      Insopitus|https://api.githu...|2024-06-01|null|         null|null|         null|   null| WatchEvent|      2noise/ChatTTS|https://api.githu...|\n",
      "|    varshith257|https://api.githu...|2024-06-01|null|         null|null|         null|   null|IssuesEvent|Anishkagupta04/RA...|https://api.githu...|\n",
      "|      ryudswift|https://api.githu...|2024-06-01|null|         null|null|         null|   null| WatchEvent|vince-lam/awesome...|https://api.githu...|\n",
      "|dependabot[bot]|https://api.githu...|2024-06-01|null|         null|null|         null|   null|DeleteEvent|TubaMirabilis/Emb...|https://api.githu...|\n",
      "|HagarAbouroumia|https://api.githu...|2024-06-01|null|    808774879|   2|            2|   null|  PushEvent|HagarAbouroumia/a...|https://api.githu...|\n",
      "+---------------+--------------------+----------+----+-------------+----+-------------+-------+-----------+--------------------+--------------------+\n",
      "only showing top 10 rows\n",
      "\n"
     ]
    }
   ],
   "source": [
    "from pyspark.sql.types import StructType, StructField, StringType, LongType\n",
    "from pyspark.sql.functions import from_json, col\n",
    "\n",
    "actor_schema = StructType([\n",
    "    StructField('login', StringType(), True),\n",
    "    StructField('url', StringType(), True)\n",
    "])\n",
    "\n",
    "payload_schema = StructType([\n",
    "    StructField('repository_id', LongType(), True),\n",
    "    StructField('size', LongType(), True),\n",
    "    StructField('distinct_size', LongType(), True),\n",
    "    StructField('message', StringType(), True)\n",
    "])\n",
    "\n",
    "repo_schema = StructType([\n",
    "    StructField('name', StringType(), True),\n",
    "    StructField('url', StringType(), True)\n",
    "])\n",
    "\n",
    "# * 컬럼에서 *_schema를 따라 json 파일을 추출\n",
    "new_df = github.withColumn('actor_json', from_json('actor', schema = actor_schema)) \\\n",
    "               .select(col('created_at'), col('id'), col('payload'), col('type'), col('actor_json.*'), col('repo'))\n",
    "\n",
    "new_df = new_df.withColumn('payload_json', from_json('payload', schema = payload_schema)) \\\n",
    "               .select(col('login'), col('url'), col('created_at'), col('id'), col('payload_json.*'), col('type'), col('repo'))\n",
    "\n",
    "new_df = new_df.withColumn('repo_json', from_json('repo', schema = repo_schema)) \\\n",
    "               .select(col('login'), col('url'), col('created_at'), col('id'), col('repository_id'), \n",
    "                       col('size'), col('distinct_size'), col('message'), col('type'), col('repo_json.*'))\n",
    "new_df.show(10)"
   ]
  },
  {
   "cell_type": "markdown",
   "metadata": {},
   "source": [
    "\n",
    "|login     |url    |created_at    |id   |repository_id|size|distinct_size|message|type  |\n",
    "| --- | ---| ---| --- | --- | --- | --- | --- | --- |\n",
    "| String | String | DateTime | Long | Long | Int | Int | String | String |\n",
    "\n",
    "Top 50 Push repositories\n",
    "Top 50 Commit repositories\n",
    "\n"
   ]
  },
  {
   "cell_type": "code",
   "execution_count": 55,
   "metadata": {},
   "outputs": [
    {
     "name": "stdout",
     "output_type": "stream",
     "text": [
      "root\n",
      " |-- login: string (nullable = true)\n",
      " |-- url: string (nullable = true)\n",
      " |-- created_at: string (nullable = true)\n",
      " |-- id: string (nullable = true)\n",
      " |-- repository_id: long (nullable = true)\n",
      " |-- size: long (nullable = true)\n",
      " |-- distinct_size: long (nullable = true)\n",
      " |-- message: string (nullable = true)\n",
      " |-- type: string (nullable = true)\n",
      " |-- name: string (nullable = true)\n",
      " |-- url: string (nullable = true)\n",
      "\n"
     ]
    }
   ],
   "source": [
    "new_df.printSchema()"
   ]
  },
  {
   "cell_type": "code",
   "execution_count": 38,
   "metadata": {},
   "outputs": [
    {
     "name": "stderr",
     "output_type": "stream",
     "text": [
      "                                                                                \r"
     ]
    },
    {
     "name": "stdout",
     "output_type": "stream",
     "text": [
      "+---------------+--------------------------------------------+----------+----+-------------+----+-------------+-------+-----------+------------------------------------------+-----------------------------------------------------------------------+----------+\n",
      "|login          |url                                         |created_at|id  |repository_id|size|distinct_size|message|type       |name                                      |url                                                                    |created_dt|\n",
      "+---------------+--------------------------------------------+----------+----+-------------+----+-------------+-------+-----------+------------------------------------------+-----------------------------------------------------------------------+----------+\n",
      "|1992513        |https://api.github.com/users/1992513        |2024-06-01|null|583676719    |1   |1            |null   |PushEvent  |1992513/djy                               |https://api.github.com/repos/1992513/djy                               |null      |\n",
      "|dds256         |https://api.github.com/users/dds256         |2024-06-01|null|807004394    |1   |1            |null   |PushEvent  |dds256/MusicBot                           |https://api.github.com/repos/dds256/MusicBot                           |null      |\n",
      "|Avamcotec      |https://api.github.com/users/Avamcotec      |2024-06-01|null|null         |null|null         |null   |CreateEvent|Avamcotec/db                              |https://api.github.com/repos/Avamcotec/db                              |null      |\n",
      "|lukebewitched  |https://api.github.com/users/lukebewitched  |2024-06-01|null|null         |null|null         |null   |DeleteEvent|lukebewitched/achievements                |https://api.github.com/repos/lukebewitched/achievements                |null      |\n",
      "|RAJESHKANNA1002|https://api.github.com/users/RAJESHKANNA1002|2024-06-01|null|null         |null|null         |null   |CreateEvent|RAJESHKANNA1002/InternationalUniversity   |https://api.github.com/repos/RAJESHKANNA1002/InternationalUniversity   |null      |\n",
      "|Insopitus      |https://api.github.com/users/Insopitus      |2024-06-01|null|null         |null|null         |null   |WatchEvent |2noise/ChatTTS                            |https://api.github.com/repos/2noise/ChatTTS                            |null      |\n",
      "|varshith257    |https://api.github.com/users/varshith257    |2024-06-01|null|null         |null|null         |null   |IssuesEvent|Anishkagupta04/RAPIDOC-HEALTHCARE-WEBSITE-|https://api.github.com/repos/Anishkagupta04/RAPIDOC-HEALTHCARE-WEBSITE-|null      |\n",
      "|ryudswift      |https://api.github.com/users/ryudswift      |2024-06-01|null|null         |null|null         |null   |WatchEvent |vince-lam/awesome-local-llms              |https://api.github.com/repos/vince-lam/awesome-local-llms              |null      |\n",
      "|dependabot[bot]|https://api.github.com/users/dependabot[bot]|2024-06-01|null|null         |null|null         |null   |DeleteEvent|TubaMirabilis/EmbassyAirlines             |https://api.github.com/repos/TubaMirabilis/EmbassyAirlines             |null      |\n",
      "|HagarAbouroumia|https://api.github.com/users/HagarAbouroumia|2024-06-01|null|808774879    |2   |2            |null   |PushEvent  |HagarAbouroumia/authentication-service    |https://api.github.com/repos/HagarAbouroumia/authentication-service    |null      |\n",
      "+---------------+--------------------------------------------+----------+----+-------------+----+-------------+-------+-----------+------------------------------------------+-----------------------------------------------------------------------+----------+\n",
      "only showing top 10 rows\n",
      "\n"
     ]
    }
   ],
   "source": [
    "# filter github action bot\n",
    "# created_at to datetime\n",
    "new_df = new_df.filter(col(\"login\") != \"github-actions[bot]\")\n",
    "new_df = new_df.withColumn('created_at', F.trim(F.regexp_replace(new_df.created_at, \"[TZ]\", \" \")))\n",
    "new_df = new_df.withColumn('created_dt', F.to_timestamp(new_df.created_at, 'yyyy-MM-dd HH:mm:ss'))\n",
    "new_df.show(10, False)"
   ]
  },
  {
   "cell_type": "code",
   "execution_count": 73,
   "metadata": {},
   "outputs": [
    {
     "name": "stdout",
     "output_type": "stream",
     "text": [
      "root\n",
      " |-- login: string (nullable = true)\n",
      " |-- url: string (nullable = true)\n",
      " |-- created_at: string (nullable = true)\n",
      " |-- id: string (nullable = true)\n",
      " |-- repository_id: long (nullable = true)\n",
      " |-- size: long (nullable = true)\n",
      " |-- distinct_size: long (nullable = true)\n",
      " |-- message: string (nullable = true)\n",
      " |-- type: string (nullable = true)\n",
      " |-- name: string (nullable = true)\n",
      " |-- url: string (nullable = true)\n",
      " |-- created_dt: timestamp (nullable = true)\n",
      "\n"
     ]
    }
   ],
   "source": [
    "new_df.printSchema()"
   ]
  },
  {
   "cell_type": "code",
   "execution_count": 64,
   "metadata": {},
   "outputs": [],
   "source": [
    "# name 컬럼 정제\n",
    "def check_repo_name(name):\n",
    "    sp = name.split(\"/\")\n",
    "    if not sp:\n",
    "        return name\n",
    "    else:\n",
    "        return sp[-1]\n",
    "    \n",
    "udf_check_repo_name = F.udf(check_repo_name, StringType())"
   ]
  },
  {
   "cell_type": "code",
   "execution_count": null,
   "metadata": {},
   "outputs": [],
   "source": [
    "# @F.udf(returnType=StringType())\n",
    "# def check_repo_name(val):\n",
    "#     sp = name.split(\"/\")\n",
    "#     if not sp:\n",
    "#         return name\n",
    "#     else:\n",
    "#         return sp[-1]"
   ]
  },
  {
   "cell_type": "code",
   "execution_count": 39,
   "metadata": {},
   "outputs": [],
   "source": [
    "udf_check_repo_name = F.udf(lambda name : name.split(\"/\")[1], StringType())"
   ]
  },
  {
   "cell_type": "code",
   "execution_count": 40,
   "metadata": {},
   "outputs": [
    {
     "name": "stderr",
     "output_type": "stream",
     "text": [
      "[Stage 21:>                                                         (0 + 1) / 1]\r"
     ]
    },
    {
     "name": "stdout",
     "output_type": "stream",
     "text": [
      "+---------------+--------------------------------------------+----------+----+-------------+----+-------------+-------+-----------+------------------------------------------+-----------------------------------------------------------------------+----------+---------------------------+\n",
      "|login          |url                                         |created_at|id  |repository_id|size|distinct_size|message|type       |name                                      |url                                                                    |created_dt|repo_name                  |\n",
      "+---------------+--------------------------------------------+----------+----+-------------+----+-------------+-------+-----------+------------------------------------------+-----------------------------------------------------------------------+----------+---------------------------+\n",
      "|1992513        |https://api.github.com/users/1992513        |2024-06-01|null|583676719    |1   |1            |null   |PushEvent  |1992513/djy                               |https://api.github.com/repos/1992513/djy                               |null      |djy                        |\n",
      "|dds256         |https://api.github.com/users/dds256         |2024-06-01|null|807004394    |1   |1            |null   |PushEvent  |dds256/MusicBot                           |https://api.github.com/repos/dds256/MusicBot                           |null      |MusicBot                   |\n",
      "|Avamcotec      |https://api.github.com/users/Avamcotec      |2024-06-01|null|null         |null|null         |null   |CreateEvent|Avamcotec/db                              |https://api.github.com/repos/Avamcotec/db                              |null      |db                         |\n",
      "|lukebewitched  |https://api.github.com/users/lukebewitched  |2024-06-01|null|null         |null|null         |null   |DeleteEvent|lukebewitched/achievements                |https://api.github.com/repos/lukebewitched/achievements                |null      |achievements               |\n",
      "|RAJESHKANNA1002|https://api.github.com/users/RAJESHKANNA1002|2024-06-01|null|null         |null|null         |null   |CreateEvent|RAJESHKANNA1002/InternationalUniversity   |https://api.github.com/repos/RAJESHKANNA1002/InternationalUniversity   |null      |InternationalUniversity    |\n",
      "|Insopitus      |https://api.github.com/users/Insopitus      |2024-06-01|null|null         |null|null         |null   |WatchEvent |2noise/ChatTTS                            |https://api.github.com/repos/2noise/ChatTTS                            |null      |ChatTTS                    |\n",
      "|varshith257    |https://api.github.com/users/varshith257    |2024-06-01|null|null         |null|null         |null   |IssuesEvent|Anishkagupta04/RAPIDOC-HEALTHCARE-WEBSITE-|https://api.github.com/repos/Anishkagupta04/RAPIDOC-HEALTHCARE-WEBSITE-|null      |RAPIDOC-HEALTHCARE-WEBSITE-|\n",
      "|ryudswift      |https://api.github.com/users/ryudswift      |2024-06-01|null|null         |null|null         |null   |WatchEvent |vince-lam/awesome-local-llms              |https://api.github.com/repos/vince-lam/awesome-local-llms              |null      |awesome-local-llms         |\n",
      "|dependabot[bot]|https://api.github.com/users/dependabot[bot]|2024-06-01|null|null         |null|null         |null   |DeleteEvent|TubaMirabilis/EmbassyAirlines             |https://api.github.com/repos/TubaMirabilis/EmbassyAirlines             |null      |EmbassyAirlines            |\n",
      "|HagarAbouroumia|https://api.github.com/users/HagarAbouroumia|2024-06-01|null|808774879    |2   |2            |null   |PushEvent  |HagarAbouroumia/authentication-service    |https://api.github.com/repos/HagarAbouroumia/authentication-service    |null      |authentication-service     |\n",
      "+---------------+--------------------------------------------+----------+----+-------------+----+-------------+-------+-----------+------------------------------------------+-----------------------------------------------------------------------+----------+---------------------------+\n",
      "only showing top 10 rows\n",
      "\n"
     ]
    },
    {
     "name": "stderr",
     "output_type": "stream",
     "text": [
      "\r\n",
      "                                                                                \r"
     ]
    }
   ],
   "source": [
    "new_df = new_df.withColumn('repo_name', udf_check_repo_name(F.col('name')))\n",
    "new_df.show(10, False)"
   ]
  },
  {
   "cell_type": "code",
   "execution_count": 85,
   "metadata": {},
   "outputs": [
    {
     "name": "stderr",
     "output_type": "stream",
     "text": [
      "                                                                                \r"
     ]
    },
    {
     "data": {
      "text/plain": [
       "171662"
      ]
     },
     "execution_count": 85,
     "metadata": {},
     "output_type": "execute_result"
    }
   ],
   "source": [
    "new_df.count()"
   ]
  },
  {
   "cell_type": "code",
   "execution_count": 84,
   "metadata": {},
   "outputs": [
    {
     "name": "stderr",
     "output_type": "stream",
     "text": [
      "[Stage 44:==============================================>           (4 + 1) / 5]\r"
     ]
    },
    {
     "name": "stdout",
     "output_type": "stream",
     "text": [
      "+----------------+\n",
      "|count(repo_name)|\n",
      "+----------------+\n",
      "|50439           |\n",
      "+----------------+\n",
      "\n"
     ]
    },
    {
     "name": "stderr",
     "output_type": "stream",
     "text": [
      "\r\n",
      "                                                                                \r"
     ]
    }
   ],
   "source": [
    "new_df.agg(F.countDistinct('repo_name')).show(5, False)"
   ]
  },
  {
   "cell_type": "code",
   "execution_count": 88,
   "metadata": {},
   "outputs": [
    {
     "name": "stderr",
     "output_type": "stream",
     "text": [
      "                                                                                \r"
     ]
    },
    {
     "data": {
      "text/plain": [
       "50439"
      ]
     },
     "execution_count": 88,
     "metadata": {},
     "output_type": "execute_result"
    }
   ],
   "source": [
    "# Window\n",
    "# 중복을 제거하고 각 repo 가 가장 최근에 작업한 내용만 가져오고싶다는 needs\n",
    "# ==> window 이용가능\n",
    "from pyspark.sql.window import Window\n",
    "from pyspark.sql.functions import col, row_number\n",
    "\n",
    "w = Window.partitionBy(\"repo_name\").orderBy(F.desc(col(\"size\")))\n",
    "new_df.withColumn(\"row\", row_number().over(w)) \\\n",
    "      .filter(col(\"row\") == 1).drop(\"row\") \\\n",
    "      .count()"
   ]
  },
  {
   "cell_type": "markdown",
   "metadata": {},
   "source": [
    "## Data Model\n",
    "\n",
    "1. Top 10 Repo\n",
    "- id\n",
    "- @timestamp\n",
    "- repo_url\n",
    "- repo_name\n",
    "- push_count\n",
    "- commit_count\n",
    "- pr_count\n",
    "- fork_count\n",
    "- issue_count\n",
    "- watch_count\n",
    "\n",
    "2. Top 10 User\n",
    "- id\n",
    "- @timestamp\n",
    "- user_name\n",
    "- push_count\n",
    "- commit_count\n",
    "- pr_count\n",
    "- issue_count\n",
    "- issue_comment_count\n",
    "\n",
    "3. Daily Stats\n",
    "- id\n",
    "- @timestamp\n",
    "- distinct_user_cnt\n",
    "- distinct_repo_cnt\n",
    "- push_count\n",
    "- commit_count\n",
    "- pr_count\n",
    "- issue_count\n",
    "- issue_comment_count\n",
    "- release_count\n",
    "- language\n",
    "\n",
    "4. Monthly Stats\n",
    "\n",
    "5. Weekly Stats"
   ]
  },
  {
   "cell_type": "code",
   "execution_count": 89,
   "metadata": {},
   "outputs": [
    {
     "name": "stderr",
     "output_type": "stream",
     "text": [
      "                                                                                \r"
     ]
    },
    {
     "name": "stdout",
     "output_type": "stream",
     "text": [
      "+--------------------+\n",
      "|                type|\n",
      "+--------------------+\n",
      "|PullRequestReview...|\n",
      "|           PushEvent|\n",
      "|         GollumEvent|\n",
      "|        ReleaseEvent|\n",
      "|  CommitCommentEvent|\n",
      "|         CreateEvent|\n",
      "|PullRequestReview...|\n",
      "|   IssueCommentEvent|\n",
      "|         DeleteEvent|\n",
      "|         IssuesEvent|\n",
      "|           ForkEvent|\n",
      "|         PublicEvent|\n",
      "|         MemberEvent|\n",
      "|          WatchEvent|\n",
      "|    PullRequestEvent|\n",
      "+--------------------+\n",
      "\n"
     ]
    }
   ],
   "source": [
    "new_df.select(\"type\").distinct().show()"
   ]
  },
  {
   "cell_type": "code",
   "execution_count": null,
   "metadata": {},
   "outputs": [],
   "source": []
  }
 ],
 "metadata": {
  "kernelspec": {
   "display_name": "Python 3 (ipykernel)",
   "language": "python",
   "name": "python3"
  },
  "language_info": {
   "codemirror_mode": {
    "name": "ipython",
    "version": 3
   },
   "file_extension": ".py",
   "mimetype": "text/x-python",
   "name": "python",
   "nbconvert_exporter": "python",
   "pygments_lexer": "ipython3",
   "version": "3.9.7"
  }
 },
 "nbformat": 4,
 "nbformat_minor": 2
}
