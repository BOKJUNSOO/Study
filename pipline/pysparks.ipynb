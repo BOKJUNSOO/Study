{
 "cells": [
  {
   "cell_type": "code",
   "execution_count": 1,
   "metadata": {},
   "outputs": [
    {
     "name": "stdout",
     "output_type": "stream",
     "text": [
      "root\n",
      " |-- _c0: string (nullable = true)\n",
      " |-- close: string (nullable = true)\n",
      " |-- diff: string (nullable = true)\n",
      " |-- open: string (nullable = true)\n",
      " |-- high: string (nullable = true)\n",
      " |-- low: string (nullable = true)\n",
      " |-- volume: string (nullable = true)\n",
      " |-- year: string (nullable = true)\n",
      " |-- month: string (nullable = true)\n",
      " |-- day_of_week: string (nullable = true)\n",
      "\n",
      "+---+-----+----+----+----+----+------+----+-----+-----------+\n",
      "|_c0|close|diff|open|high| low|volume|year|month|day_of_week|\n",
      "+---+-----+----+----+----+----+------+----+-----+-----------+\n",
      "|  0| 2150|  10|2130|2150|2115| 84668|2015|   10|          0|\n",
      "|  1| 2115| -35|2160|2160|2105| 14221|2015|   10|          1|\n",
      "|  2| 2120|   5|2140|2140|2115|  3520|2015|   10|          2|\n",
      "|  3| 2115|  -5|2120|2120|2110| 17423|2015|   10|          3|\n",
      "|  4| 2125|  10|2145|2145|2110| 30122|2015|   10|          4|\n",
      "|  5| 2125|   0|2125|2140|2125| 44734|2015|   10|          0|\n",
      "|  6| 2130|   5|2120|2130|2120|  6309|2015|   10|          1|\n",
      "|  7| 2120| -10|2145|2145|2100| 36138|2015|   10|          2|\n",
      "|  8| 2120|   0|2105|2120|2105| 44105|2015|   10|          3|\n",
      "|  9| 2140|  20|2120|2155|2115| 83476|2015|   10|          4|\n",
      "| 10| 2140|   0|2110|2140|2110|158103|2015|   10|          0|\n",
      "| 11| 2125| -15|2140|2140|2105| 10426|2015|   10|          1|\n",
      "| 12| 2120|  -5|2130|2130|2120| 21171|2015|   10|          2|\n",
      "| 13| 2130|  10|2105|2130|2105| 79956|2015|   10|          3|\n",
      "| 14| 2110| -20|2105|2120|2105| 71817|2015|   10|          4|\n",
      "| 15| 2120|  10|2105|2130|2105| 25348|2015|   11|          0|\n",
      "| 16| 2110| -10|2110|2120|2105| 22622|2015|   11|          1|\n",
      "| 17| 2115|   5|2105|2120|2105| 13834|2015|   11|          2|\n",
      "| 18| 2100| -15|2115|2115|2100| 21650|2015|   11|          3|\n",
      "| 19| 2100|   0|2100|2105|2100| 25746|2015|   11|          4|\n",
      "+---+-----+----+----+----+----+------+----+-----+-----------+\n",
      "only showing top 20 rows\n",
      "\n"
     ]
    }
   ],
   "source": [
    "from pyspark import SparkConf, SparkContext\n",
    "from pyspark.sql import SparkSession\n",
    "from pyspark.sql.types import StructType, StructField, StringType, IntegerType, FloatType , DateType, TimestampType\n",
    "\n",
    "spark = (\n",
    "    SparkSession.builder\n",
    "        .master(\"local\")\n",
    "        .appName(\"nexon_fi_data\")\n",
    "#        .config(\"spark.some.config.option\", \"some-value\")\n",
    "        .getOrCreate()\n",
    ")\n",
    "\n",
    "# read csv\n",
    "df = spark.read.option(\"header\" , \"true\").csv(r\"C:\\Users\\brian\\Desktop\\JUNSOO\\Dataengineering\\data\\nexon_fi.csv\" , encoding = 'cp949')\n",
    "\n",
    "#\n",
    "\n",
    "df.printSchema()\n",
    "df.show()"
   ]
  },
  {
   "cell_type": "code",
   "execution_count": 2,
   "metadata": {},
   "outputs": [],
   "source": [
    "schema = StructType([ StructField(\"close\", FloatType(), True),\n",
    "                      StructField(\"diff\", IntegerType(), True),\n",
    "                      StructField(\"open\", FloatType(), True),\n",
    "                      StructField(\"high\", FloatType(), True),\n",
    "                      StructField(\"low\", FloatType(), True),\n",
    "                      StructField(\"volume\", FloatType(), True),\n",
    "                      StructField(\"year\", DateType(), True),\n",
    "                      StructField(\"month\", DateType(), True),\n",
    "                      StructField(\"day_of_week\", DateType(), True) # 0 = 월 , 1 = 화, 2 = 수, 3 = 목 , 4 = 금\n",
    "\n",
    "                     ])\n"
   ]
  },
  {
   "cell_type": "code",
   "execution_count": null,
   "metadata": {},
   "outputs": [],
   "source": []
  }
 ],
 "metadata": {
  "kernelspec": {
   "display_name": "Python 3",
   "language": "python",
   "name": "python3"
  },
  "language_info": {
   "codemirror_mode": {
    "name": "ipython",
    "version": 3
   },
   "file_extension": ".py",
   "mimetype": "text/x-python",
   "name": "python",
   "nbconvert_exporter": "python",
   "pygments_lexer": "ipython3",
   "version": "3.11.9"
  }
 },
 "nbformat": 4,
 "nbformat_minor": 2
}
