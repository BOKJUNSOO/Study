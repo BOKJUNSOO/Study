{
 "cells": [
  {
   "cell_type": "markdown",
   "metadata": {},
   "source": [
    "탐색\n",
    "- 탐색 이란 많은 양의 데이터 중에서 \"원하는 데이터\"를 찾는 과정을 말합니다.\n",
    "\n",
    "- 대표적인 그래프 탐색 알고리즘으로는 DFS와 BFS가 있다.\n",
    "\n",
    "- DFS/BFS는 코딩 테스트에서 매우 자주 등장하는 유형!!"
   ]
  },
  {
   "cell_type": "markdown",
   "metadata": {},
   "source": [
    "DFS\n",
    "- DFS 는 깊이 우선 탐색 이라고도 부르며 , 그래프에서 깊은 부분을 우선적으로 탐색하는 알고리즘\n",
    "\n",
    "- DFS는 스택 자료구조를 이용하며, 구체적인 동작 과정은 다음과 같다.\n",
    "    1) 탐색 시작 노드를 스택에 삽입하고 방문처리를 합니다.\n",
    "\n",
    "    2) 스택의 최상단 노드에 방문하지 않은 인접한 노드가 하나라도 있으면 그 노드를 스택에 넣고 방문 처리합니다. 방문하지 않은 인접 노드가 없으면 스택에서 최상단 노드를 꺼냅니다.\n",
    "    \n",
    "    3) 더 이상 2번의 과정을 수행할 수 없을 때까지 반복합니다.\n"
   ]
  },
  {
   "cell_type": "code",
   "execution_count": null,
   "metadata": {},
   "outputs": [
    {
     "name": "stdout",
     "output_type": "stream",
     "text": [
      "1 2 7 6 8 3 4 5 "
     ]
    }
   ],
   "source": [
    "def dfs(graph,v,visited):\n",
    "    # 현재 노드를 방문 처리\n",
    "    visited[v] = True\n",
    "    print(v, end =' ')\n",
    "    for i in graph[v]:\n",
    "        if visited[i] == False:  # if not visited[i]\n",
    "            dfs(graph,i,visited)\n",
    "\n",
    "\n",
    "# 그래프 표현 2차원 리스트\n",
    "graph = [\n",
    "    [],\n",
    "    [2,3,8],\n",
    "    [1,7],\n",
    "    [1,4,5],\n",
    "    [3,5],\n",
    "    [3,4],\n",
    "    [7],\n",
    "    [2,6,8],\n",
    "    [1,7]\n",
    "]\n",
    "# 각 노드가 방문된 정보를 표현 (1차원 리스트)\n",
    "visited = [False] * 9\n",
    "\n",
    "# 정의된 DFS 호출\n",
    "dfs(graph , 1, visited)\n"
   ]
  },
  {
   "cell_type": "markdown",
   "metadata": {},
   "source": [
    "BFS\n",
    "- BFS는 너비 우선탐색이라고 부르며, 그래프에서 가까운 노드부터 우선적으로 탐색하는 알고리즘\n",
    "\n",
    "- 최단경로 문제를 해결할때도 이용된다.\n",
    "\n",
    "- BFS는 큐 자료구조를 이용하며, 구체적인 동작과정은 다음과 같다.\n",
    "\n",
    "    1) 탐색 시작 노드를 큐에 삽입하고 방문처리 한다.\n",
    "    \n",
    "    2) 큐에서 노드를 꺼낸 뒤에 해당 노드의 인접 노드 중에서 방문하지 않은 노드를 모두 큐에 삽입하고 방문 처리한다.\n",
    "\n",
    "    3) 더 이상 2번의 과정을 수행할 수 없을 때까지 반복한다.\n",
    "    "
   ]
  },
  {
   "cell_type": "code",
   "execution_count": 11,
   "metadata": {},
   "outputs": [
    {
     "name": "stdout",
     "output_type": "stream",
     "text": [
      "1 2 3 8 7 4 5 6 "
     ]
    }
   ],
   "source": [
    "from collections import deque\n",
    "def bfs(graph,start,visited):\n",
    "    queue = deque([start])\n",
    "    # 현재 노드를 방문 처리\n",
    "    visited[start] = True\n",
    "    # queue가 빌 때까지 반복\n",
    "    while queue:\n",
    "        # pop 으로 현재 큐에 있는 노드를 리턴\n",
    "        v = queue.popleft()\n",
    "        print(v, end = \" \")\n",
    "        for i in graph[v]:\n",
    "            if visited[i] == False:\n",
    "                # 인접 노드를 모두 큐에 집어 넣는다\n",
    "                queue.append(i)\n",
    "                visited[i] = True\n",
    "\n",
    "# 그래프 표현 2차원 리스트\n",
    "graph = [\n",
    "    [],\n",
    "    [2,3,8],\n",
    "    [1,7],\n",
    "    [1,4,5],\n",
    "    [3,5],\n",
    "    [3,4],\n",
    "    [7],\n",
    "    [2,6,8],\n",
    "    [1,7]\n",
    "]\n",
    "# 각 노드가 방문된 정보를 표현 (1차원 리스트)\n",
    "visited = [False] * 9\n",
    "\n",
    "bfs(graph, 1, visited)"
   ]
  },
  {
   "cell_type": "markdown",
   "metadata": {},
   "source": [
    "<문제>\n",
    "\n",
    "- N X M 크기의 얼음 틀이 있다. 구멍이 뚫려 있는 부분은 0, 칸막이가 존재하는 부분은 1로 표시된다. 구멍이 뚫려 있는 부분끼리 상,하,좌,우로 붙어 있는 경우 서로 연결되어 있는 것으로 간주한다.\n",
    "- 이때 얼음 틀의 모양이 주어졌을 때 생성되는 총 아이스크림의 개수를 구하는 프로그램을 작성하시오.\n",
    "\n",
    ">> 입력 조건 \n",
    "    1) 첫 번째 줄에 얼음 틀의 세로 길이 N과 가로 길이 M이 주어진다.\n",
    "    2) 두 번째 줄부터 N+1 번째 줄까지 얼음 틀의 형태가 주어진다.\n",
    "    3) 이때 구멍이 뚫려있는 부분은0, 그렇지 않은 부분은 1이다.\n",
    ">> 출력 조건\n",
    "    - 한 번에 만들수 있는 아이스크림의 개수를 출력한다."
   ]
  },
  {
   "cell_type": "code",
   "execution_count": null,
   "metadata": {},
   "outputs": [],
   "source": [
    "class Solution:\n",
    "    def ice_cream(self,N:int,M:int)->int:\n",
    "        pass"
   ]
  },
  {
   "cell_type": "code",
   "execution_count": null,
   "metadata": {},
   "outputs": [
    {
     "name": "stdout",
     "output_type": "stream",
     "text": [
      "[[0, 0, 1, 1, 1], [0, 0, 0, 0, 0], [1, 1, 1, 1, 1], [1, 1, 1, 1, 0]]\n"
     ]
    }
   ],
   "source": [
    "n, m = map(int,input().split())\n",
    "\n",
    "# 2차원 리스트 입력받기\n",
    "graph = []\n",
    "for i in range(n):\n",
    "    graph.append(list(map(int, input())))\n",
    "print(graph)"
   ]
  },
  {
   "cell_type": "code",
   "execution_count": null,
   "metadata": {},
   "outputs": [],
   "source": [
    "#5. 띄어쓰기 없이 정수 여러개 입력받아 2차원 배열로 저장하기 \n",
    "two_d = [list(map(int, input())) for _ in range(4)]\n",
    "print(two_d)\n"
   ]
  }
 ],
 "metadata": {
  "kernelspec": {
   "display_name": "Python 3",
   "language": "python",
   "name": "python3"
  },
  "language_info": {
   "codemirror_mode": {
    "name": "ipython",
    "version": 3
   },
   "file_extension": ".py",
   "mimetype": "text/x-python",
   "name": "python",
   "nbconvert_exporter": "python",
   "pygments_lexer": "ipython3",
   "version": "3.11.9"
  }
 },
 "nbformat": 4,
 "nbformat_minor": 2
}
