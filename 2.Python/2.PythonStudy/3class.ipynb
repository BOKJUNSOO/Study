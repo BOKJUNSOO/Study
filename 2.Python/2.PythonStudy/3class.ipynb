{
 "cells": [
  {
   "cell_type": "markdown",
   "metadata": {},
   "source": [
    "# 0) class //\n",
    " - class 는 물건을 만들어내는 틀이다.\n",
    " - 객체는 틀로 만들어낸 물건이다.\n",
    " - 객체는 클래스내의 메서드로 생성할 수 있다."
   ]
  },
  {
   "cell_type": "code",
   "execution_count": 1,
   "metadata": {},
   "outputs": [],
   "source": [
    "# 클래스 구조 만들기\n",
    "class FourCal:\n",
    "    def setdata(self, first, second):   # 클래스안에 저장된 메서드\n",
    "        self.first = first              # 메서드의 수행문\n",
    "        self.second = second            # 메서드의 수행문\n",
    "    def add(self):\n",
    "        result = self.first + self.second\n",
    "        return result\n",
    "    def mul(self):\n",
    "        result = self.first * self.second\n",
    "        return(result)\n",
    "    def div(self):\n",
    "        result = self.first / self.second\n",
    "        return(result)\n",
    "\n",
    "a = FourCal() # 객체생성\n",
    "a.setdata(4,2) # 객체로 메서드 호출\n"
   ]
  },
  {
   "cell_type": "markdown",
   "metadata": {},
   "source": [
    "- self, first, second 변수 3개인 함수처럼 보인다.\n",
    "- 하지만 객체로 메서드를 호출하면 메서드의 첫번째 변수 self에는 객체가 전달된다\n",
    "\n",
    "self.first = 4\\\n",
    "self.second = 2\n",
    "\n",
    "self는 전달된 객체이므로\\\n",
    "a.first = 4  \n",
    "a.second = 2\n",
    "- 이때 객체a에 first, second 라는 변수가 생성된다. \n",
    "- 이를 객체변수 또는 속성이라고 한다.\n",
    "\n",
    "- 클래스로 만든 객체의 객체변수는다른 객체의 객체변수에 상관없는 독립적인 값을 가진다."
   ]
  },
  {
   "cell_type": "code",
   "execution_count": 2,
   "metadata": {},
   "outputs": [
    {
     "data": {
      "text/plain": [
       "6"
      ]
     },
     "execution_count": 2,
     "metadata": {},
     "output_type": "execute_result"
    }
   ],
   "source": [
    "a = FourCal()\n",
    "a.setdata(4,2)  # a객체에 객체변수 4,2 를 저장했다.\n",
    "a.add()"
   ]
  },
  {
   "cell_type": "markdown",
   "metadata": {},
   "source": [
    "# 1) 메서드 해석\n",
    "- a라는 객체에 4,2 를 저장했다.\n",
    "- add() 메서드의 계산방식은 self.first + self.second 이다.\n",
    "- self.first = 4 , self.second = 2 로 저장되어 있으므로 a.add() = 6 이다."
   ]
  },
  {
   "cell_type": "code",
   "execution_count": 3,
   "metadata": {},
   "outputs": [],
   "source": [
    "class FourCal:\n",
    "    def setdata(self, first, second):   # 클래스안에 저장된 메서드\n",
    "        self.first = first              # 메서드의 수행문\n",
    "        self.second = second            # 메서드의 수행문\n",
    "    def add(self):\n",
    "        result = self.first + self.second\n",
    "        return result\n",
    "    def mul(self):\n",
    "        result = self.first * self.second\n",
    "        return(result)\n",
    "    def div(self):\n",
    "        result = self.first / self.second\n",
    "        return(result)"
   ]
  },
  {
   "cell_type": "code",
   "execution_count": 3,
   "metadata": {},
   "outputs": [
    {
     "ename": "TypeError",
     "evalue": "FourCal() takes no arguments",
     "output_type": "error",
     "traceback": [
      "\u001b[1;31m---------------------------------------------------------------------------\u001b[0m",
      "\u001b[1;31mTypeError\u001b[0m                                 Traceback (most recent call last)",
      "Cell \u001b[1;32mIn[3], line 1\u001b[0m\n\u001b[1;32m----> 1\u001b[0m a \u001b[38;5;241m=\u001b[39m \u001b[43mFourCal\u001b[49m\u001b[43m(\u001b[49m\u001b[38;5;241;43m4\u001b[39;49m\u001b[43m,\u001b[49m\u001b[38;5;241;43m2\u001b[39;49m\u001b[43m)\u001b[49m\n\u001b[0;32m      2\u001b[0m a\u001b[38;5;241m.\u001b[39madd()         \u001b[38;5;66;03m# 객체에 저장된 변수가 없기때문에 에러발생\u001b[39;00m\n",
      "\u001b[1;31mTypeError\u001b[0m: FourCal() takes no arguments"
     ]
    }
   ],
   "source": [
    "a = FourCal(4,2)        # 직접 arg를 받을 수 없다\n",
    "a.add()         # 객체에 저장된 변수가 없기때문에 에러발생\n"
   ]
  },
  {
   "cell_type": "markdown",
   "metadata": {},
   "source": [
    "# 2) 생성자(constructor)\n",
    " - setdata 메서드를 수행해야 객체변수가 first,second 생성된다.\n",
    " - 초깃값을 설정해야 할 필요가 있을 때는 \"생성자\"를 구현하는 것이 필수!!!\n",
    "\n",
    " - __init__ 메서드를 입력하면 객체를 생성하는 동시에 자동으로 호출된다.\n",
    " - 객체를 생성할때 값을 입력해주어야 한다."
   ]
  },
  {
   "cell_type": "code",
   "execution_count": 9,
   "metadata": {},
   "outputs": [],
   "source": [
    "class FourCal:\n",
    "    def __init__(self, first, second):  # 생성자, 메서드이름의 유의\n",
    "        self.first = first              # 객체를 생성할때 자동으로 생성해준다.\n",
    "        self.second = second            # 직접 객체변수를 class가 받을 수 있게 해준다.\n",
    "\n",
    "    def setdata(self, first, second):   \n",
    "        self.first = first              \n",
    "        self.second = second            \n",
    "\n",
    "    def add(self):\n",
    "        result = self.first + self.second\n",
    "        return result\n",
    "    \n",
    "    def mul(self):\n",
    "        result = self.first * self.second\n",
    "        return(result)\n",
    "    \n",
    "    def div(self):\n",
    "        result = self.first / self.second\n",
    "        return(result)"
   ]
  },
  {
   "cell_type": "code",
   "execution_count": 14,
   "metadata": {},
   "outputs": [
    {
     "name": "stdout",
     "output_type": "stream",
     "text": [
      "4\n",
      "2\n"
     ]
    }
   ],
   "source": [
    "a = FourCal(4,2)\n",
    "print(\n",
    "a.first\n",
    ",a.second    \n",
    ",sep = '\\n')"
   ]
  },
  {
   "cell_type": "markdown",
   "metadata": {},
   "source": [
    "# 3) 클래스의 상속\n",
    " - 어떤 클래스를 만들 때 다른 클래스의 기능을 물려받을 수 있게 만드는 것\n",
    " - 기존의 클래스를 '변경하지 않고' 기능을 추가하거나 기존 기능을 변경\n",
    " - 라이브러리 형태로 제공되거나 수정이 허용되지 않는 상황에서 유용하다\n"
   ]
  },
  {
   "cell_type": "code",
   "execution_count": 22,
   "metadata": {},
   "outputs": [
    {
     "data": {
      "text/plain": [
       "4"
      ]
     },
     "execution_count": 22,
     "metadata": {},
     "output_type": "execute_result"
    }
   ],
   "source": [
    "class MoreFourCal(FourCal):\n",
    "    def pow(self):\n",
    "        result = self.first ** self.second\n",
    "        return result"
   ]
  },
  {
   "cell_type": "markdown",
   "metadata": {},
   "source": [
    "# 4) 메서드 오버 라이딩\n",
    " - div() 메서드에서 self.second == 0 이면 오류가발생함\n",
    " - 오류가아닌 0을 리턴으로 받고싶다면?"
   ]
  },
  {
   "cell_type": "code",
   "execution_count": 23,
   "metadata": {},
   "outputs": [],
   "source": [
    "class SafeFourCal(FourCal):\n",
    "    def div(self):\n",
    "        if self.second == 0:\n",
    "            return 0\n",
    "        else:\n",
    "            return self.first / self.second"
   ]
  },
  {
   "cell_type": "markdown",
   "metadata": {},
   "source": [
    " - 부모 class 에있는 메서드 div 와 '동일한' 메서드 명으로 상속을시켰다\n",
    " - 이런 방법을 '메서드 오버라이딩'이라고 한다."
   ]
  },
  {
   "cell_type": "markdown",
   "metadata": {},
   "source": [
    "# 5) 클래스변수"
   ]
  },
  {
   "cell_type": "code",
   "execution_count": 27,
   "metadata": {},
   "outputs": [
    {
     "data": {
      "text/plain": [
       "'박'"
      ]
     },
     "execution_count": 27,
     "metadata": {},
     "output_type": "execute_result"
    }
   ],
   "source": [
    "class Family:\n",
    "    lastname = \"김\"\n",
    "\n",
    "a = Family()\n",
    "b = Family()\n",
    "\n",
    "Family.lastname = '박'\n",
    "a.lastname"
   ]
  },
  {
   "cell_type": "code",
   "execution_count": 1,
   "metadata": {},
   "outputs": [
    {
     "name": "stdout",
     "output_type": "stream",
     "text": [
      "상어\n",
      "나는 늑대 \n"
     ]
    }
   ],
   "source": [
    "class Monster:\n",
    "    def __init__(self, name):\n",
    "        self.name = name\n",
    "    \n",
    "    def say(self):\n",
    "        return print(f\"나는 {self.name} \")\n",
    "\n",
    "    def __str__(self):\n",
    "        return f\"{self.name}\"\n",
    "shark = Monster(\"상어\")\n",
    "print(shark)\n",
    "\n",
    "wolf = Monster(\"늑대\")\n",
    "wolf.say()"
   ]
  }
 ],
 "metadata": {
  "kernelspec": {
   "display_name": "Python 3",
   "language": "python",
   "name": "python3"
  },
  "language_info": {
   "codemirror_mode": {
    "name": "ipython",
    "version": 3
   },
   "file_extension": ".py",
   "mimetype": "text/x-python",
   "name": "python",
   "nbconvert_exporter": "python",
   "pygments_lexer": "ipython3",
   "version": "3.11.9"
  }
 },
 "nbformat": 4,
 "nbformat_minor": 2
}
