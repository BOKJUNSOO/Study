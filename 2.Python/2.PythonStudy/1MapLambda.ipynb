{
 "cells": [
  {
   "cell_type": "markdown",
   "metadata": {},
   "source": [
    "# 다시볼때 이부분 꼭 읽자) map, filter , reduce\n",
    "\n",
    "1) map 은 반복 가능한객체에 요소를 각각 변환한다.\n",
    "\n",
    "2) filter은 반복 가능한 객체에 특정 조건에맞는 요소만을 가져온다. True 값들만\n",
    "\n",
    "3) reduce는 반복 가능한 객체의 각 요소를 지정된 함수로 처리한 뒤 이전 결과와 누적해서 반환한다. lambda x,y"
   ]
  },
  {
   "cell_type": "markdown",
   "metadata": {},
   "source": [
    "# 1) map() : 반복연산을 가능하게 해주는 파이썬 내장함수\n",
    "\n",
    "    for i in range or while\n",
    "    \n",
    "for 문으로 자료를 나타내는 것을 조금 더 간결하게 해준다.\n",
    "\n",
    "world-count.py 참고 map// \n",
    " "
   ]
  },
  {
   "cell_type": "markdown",
   "metadata": {},
   "source": [
    "# 2) map() 함수의 구성\n",
    "\n",
    "# map(function, ilterable) \n",
    "\n",
    "literabe == 반복가능한 객체\n",
    "\n",
    "\n",
    "==> 반복가능한 객체에 있는 모든 값에 대해서 function 기능을 수행한다. (내부적인 for 문)\n",
    "\n",
    "# function 을 lambda function 으로 구성할 수 있다.\n",
    "\n",
    "==> map(lambda x : return_val , data)\n",
    "\n"
   ]
  },
  {
   "cell_type": "code",
   "execution_count": 1,
   "metadata": {},
   "outputs": [
    {
     "name": "stdout",
     "output_type": "stream",
     "text": [
      "a_square = [4, 16, 36, 64, 100, 144, 196, 256, 324, 400]\n",
      "withoutlambda_map_square = [4, 16, 36, 64, 100, 144, 196, 256, 324, 400]\n",
      "withlambda_map_square = [4, 16, 36, 64, 100, 144, 196, 256, 324, 400]\n"
     ]
    }
   ],
   "source": [
    "# 0) for 문을 이용한 2~20 까지의 짝수를 제곱하는 연산\n",
    "a = [2, 4, 6, 8, 10, 12, 14, 16, 18, 20]    # list\n",
    "\n",
    "a_square =[]\n",
    "for num in a:\n",
    "    a_square.append(num**2)\n",
    "\n",
    "print('a_square = {}'.format(a_square)) # format() 문법 ,a_square 로 {} 를 구성한다 \n",
    "\n",
    "## map 을 사용한 2~20 까지의 짝수를 제곱하는 연산\n",
    "# 1) without lambda \n",
    "def square(i):\n",
    "    return i**2         # map 함수를 사용하면 함수를 새로 정의해야한다\n",
    "\n",
    "a_square = list(map(square , a))        # list 형 변환을하지 않으면 \n",
    "                                        # map으로 인한 object객체로 자료 표현\n",
    "print('withoutlambda_map_square = {}'.format(a_square))\n",
    "\n",
    "# 2) with lambda\n",
    "a_square = list(map(lambda x: x**2,a))\n",
    "print('withlambda_map_square = {}'.format(a_square))"
   ]
  },
  {
   "cell_type": "code",
   "execution_count": null,
   "metadata": {},
   "outputs": [],
   "source": [
    "# name 과 list 를 구분하는 연산\n",
    "area = [\"seoul,605\" , \"busan,770\" , \"daegu,884\",\n",
    "        \"incheon,1063\", \"gwangju,501\" , \"daejeon,540\", \"ulsan,1062\"]\n",
    "\n",
    "names = list(map(lambda x: x.split(',')[0],area))       # split 함수 문법 , 기준으로 첫번째 str을 가져온다.\n",
    "areas = list(map(lambda x: x.split(',')[1],area))       # lambda : return\n",
    "\n",
    "print(\"names = {}\".format(names))\n",
    "print(\"areas = {}\".format(areas))\n"
   ]
  },
  {
   "cell_type": "markdown",
   "metadata": {},
   "source": [
    "### dataengineering IN SPARK WORLD!\n",
    "\n",
    "a_square = a.map(lambda x: x**2) \n",
    "\n",
    "# a : list 형데이터라 map을 함수로 받을수 없다.\n",
    "\n",
    "# pyspark의 parallelize() 를 이용하여 RDD Transformation 을 통해 map을 받을 수 있다.\n",
    "\n",
    "# pandas의 series 데이터도 object로 map을 받을 수 있음 pandasSeries.map()\n",
    "\n",
    "print('another = {}'.format(a_square))"
   ]
  }
 ],
 "metadata": {
  "kernelspec": {
   "display_name": "Python 3",
   "language": "python",
   "name": "python3"
  },
  "language_info": {
   "codemirror_mode": {
    "name": "ipython",
    "version": 3
   },
   "file_extension": ".py",
   "mimetype": "text/x-python",
   "name": "python",
   "nbconvert_exporter": "python",
   "pygments_lexer": "ipython3",
   "version": "3.11.9"
  }
 },
 "nbformat": 4,
 "nbformat_minor": 2
}
