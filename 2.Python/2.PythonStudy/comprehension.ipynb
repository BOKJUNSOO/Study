{
 "cells": [
  {
   "cell_type": "code",
   "execution_count": 28,
   "metadata": {},
   "outputs": [
    {
     "name": "stdout",
     "output_type": "stream",
     "text": [
      "{'name': 'junsoo', 'age': '28', 'sex': 'male', 'heigh': '180'}\n",
      "{'a': 0, 'b': 0, 'c': 0}\n",
      "{'a': 0, 'b': 1, 'c': 2}\n",
      "{0: 'a', 1: 'b', 2: 'c'}\n",
      "['o', 'k']\n"
     ]
    },
    {
     "data": {
      "text/plain": [
       "dict_values([2, 7, 7, 6])"
      ]
     },
     "execution_count": 28,
     "metadata": {},
     "output_type": "execute_result"
    }
   ],
   "source": [
    "key = [\"name\",\"age\",\"sex\",\"heigh\"]\n",
    "value = [\"junsoo\",\"28\",\"male\",\"180\"]\n",
    "\n",
    "# zip 함수를 사용해 dict 생성: zip(key list, value list)\n",
    "di = dict(zip(key,value))\n",
    "print(di)\n",
    "\n",
    "# dict 컴프리헨션\n",
    "string_list = [\"a\",\"b\",\"c\"]\n",
    "\n",
    "di = {string : 0 for string in string_list}\n",
    "print(di)\n",
    "\n",
    "di = {string : i for i, string in enumerate(string_list)}\n",
    "print(di)\n",
    "\n",
    "di = {i : string_list[i] for i in range(len(string_list))}\n",
    "print(di)\n",
    "\n",
    "# list 컴프리헨션으로 max value 찾기\n",
    "key = [\"b\",\"o\",\"k\",\"j\"]\n",
    "value = [2,7,7,6]\n",
    "di = dict(zip(key,value))\n",
    "\n",
    "max_list = [k for k , v in di.items() if max(di.values())== v]\n",
    "print(max_list)\n"
   ]
  }
 ],
 "metadata": {
  "kernelspec": {
   "display_name": "Python 3",
   "language": "python",
   "name": "python3"
  },
  "language_info": {
   "codemirror_mode": {
    "name": "ipython",
    "version": 3
   },
   "file_extension": ".py",
   "mimetype": "text/x-python",
   "name": "python",
   "nbconvert_exporter": "python",
   "pygments_lexer": "ipython3",
   "version": "3.11.9"
  }
 },
 "nbformat": 4,
 "nbformat_minor": 2
}
