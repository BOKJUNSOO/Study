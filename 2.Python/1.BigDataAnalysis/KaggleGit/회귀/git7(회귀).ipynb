{
 "cells": [
  {
   "cell_type": "code",
   "execution_count": 1,
   "metadata": {},
   "outputs": [
    {
     "name": "stderr",
     "output_type": "stream",
     "text": [
      "c:\\Users\\brian\\AppData\\Local\\Programs\\Python\\Python311\\Lib\\site-packages\\sklearn\\base.py:1473: DataConversionWarning: A column-vector y was passed when a 1d array was expected. Please change the shape of y to (n_samples,), for example using ravel().\n",
      "  return fit_method(estimator, *args, **kwargs)\n"
     ]
    },
    {
     "name": "stdout",
     "output_type": "stream",
     "text": [
      "this is xgboost label: 0.9911931537869687\n",
      "this is xgboost test: 0.9533283153467752\n",
      "\n",
      "this is rf label: 0.9932818023117918\n",
      "this is randomforest: 0.9931529630480298\n"
     ]
    }
   ],
   "source": [
    "import pandas as pd\n",
    "\n",
    "pd.options.display.max_columns = None\n",
    "\n",
    "x_train = pd.read_csv(r\"https://raw.githubusercontent.com/Datamanim/datarepo/main/hyundai/x_train.csv\")\n",
    "y_train = pd.read_csv(r\"https://raw.githubusercontent.com/Datamanim/datarepo/main/hyundai/y_train.csv\")\n",
    "x_test= pd.read_csv(r\"https://raw.githubusercontent.com/Datamanim/datarepo/main/hyundai/x_test.csv\")\n",
    "\n",
    "y_id = y_train[\"ID\"]\n",
    "y_train = y_train.drop(columns = \"ID\")\n",
    "x_train = x_train.drop(columns = \"ID\")\n",
    "x_test = x_test.drop(columns = \"ID\")\n",
    "\n",
    "labeling_list = [\"model\",\"year\",\"transmission\",\"fuelType\",\"engineSize\"]\n",
    "from sklearn.preprocessing import LabelEncoder\n",
    "encoder = LabelEncoder()\n",
    "for _ in labeling_list:\n",
    "    x_train[_] = pd.Series(encoder.fit_transform(x_train[_]))\n",
    "    x_test[_] = pd.Series(encoder.fit_transform(x_test[_]))\n",
    "\n",
    "#check = [\"tax(£)\", \"mileage\",\"mpg\"]\n",
    "\n",
    "from sklearn.model_selection import train_test_split\n",
    "X_TRAIN, X_TEST, Y_TRAIN, Y_TEST = train_test_split(x_train,y_train, test_size = 0.3, random_state = 2024)\n",
    "\n",
    "from xgboost import XGBRegressor\n",
    "model1 = XGBRegressor()\n",
    "model1.fit(X_TRAIN,Y_TRAIN)\n",
    "y_pre = pd.DataFrame(model1.predict(x_test)).rename(columns = {0:\"price\"}) # result\n",
    "Y_PRE = pd.DataFrame(model1.predict(X_TEST))\n",
    "label = pd.DataFrame(model1.predict(X_TRAIN))\n",
    "\n",
    "\n",
    "from sklearn.ensemble import RandomForestRegressor\n",
    "model2 = RandomForestRegressor()\n",
    "model2.fit(x_train, y_train)\n",
    "y_pre2 = pd.DataFrame(model2.predict(x_test)).rename(columns = {0:\"price\"})\n",
    "Y_PRE2 = pd.DataFrame(model2.predict(X_TEST)).rename(columns = {0:\"price\"})\n",
    "label2 = pd.DataFrame(model2.predict(X_TRAIN)).rename(columns = {0:\"price\"})\n",
    "\n",
    "# test model\n",
    "from sklearn.metrics import r2_score\n",
    "print(\"this is xgboost label:\",r2_score(Y_TRAIN,label))\n",
    "print(\"this is xgboost test:\", r2_score(Y_TEST,Y_PRE))\n",
    "print()\n",
    "print(\"this is rf label:\",r2_score(Y_TRAIN,label2))\n",
    "print(\"this is randomforest:\",r2_score(Y_TEST,Y_PRE2))\n"
   ]
  }
 ],
 "metadata": {
  "kernelspec": {
   "display_name": "Python 3",
   "language": "python",
   "name": "python3"
  },
  "language_info": {
   "codemirror_mode": {
    "name": "ipython",
    "version": 3
   },
   "file_extension": ".py",
   "mimetype": "text/x-python",
   "name": "python",
   "nbconvert_exporter": "python",
   "pygments_lexer": "ipython3",
   "version": "3.11.9"
  }
 },
 "nbformat": 4,
 "nbformat_minor": 2
}
