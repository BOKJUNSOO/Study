{
 "cells": [
  {
   "cell_type": "code",
   "execution_count": null,
   "metadata": {},
   "outputs": [
    {
     "name": "stdout",
     "output_type": "stream",
     "text": [
      "                0\n",
      "0     8985.606445\n",
      "1     4500.266113\n",
      "2    35945.175781\n",
      "3    13671.723633\n",
      "4     7891.100586\n",
      "..            ...\n",
      "967   1842.843018\n",
      "968  20256.851562\n",
      "969   3059.391846\n",
      "970   6327.353027\n",
      "971   7539.685059\n",
      "\n",
      "[972 rows x 1 columns]\n"
     ]
    },
    {
     "ename": "",
     "evalue": "",
     "output_type": "error",
     "traceback": [
      "\u001b[1;31m현재 셀 또는 이전 셀에서 코드를 실행하는 동안 Kernel이 충돌했습니다. \n",
      "\u001b[1;31m셀의 코드를 검토하여 가능한 오류 원인을 식별하세요. \n",
      "\u001b[1;31m자세한 내용을 보려면 <a href='https://aka.ms/vscodeJupyterKernelCrash'>여기</a>를 클릭하세요. \n",
      "\u001b[1;31m자세한 내용은 Jupyter <a href='command:jupyter.viewOutput'>로그</a>를 참조하세요."
     ]
    }
   ],
   "source": [
    "import pandas as pd\n",
    "\n",
    "pd.options.display.max_columns = None\n",
    "\n",
    "x_train = pd.read_csv(r\"https://raw.githubusercontent.com/Datamanim/datarepo/main/hyundai/x_train.csv\")\n",
    "y_train = pd.read_csv(r\"https://raw.githubusercontent.com/Datamanim/datarepo/main/hyundai/y_train.csv\")\n",
    "x_test= pd.read_csv(r\"https://raw.githubusercontent.com/Datamanim/datarepo/main/hyundai/x_test.csv\")\n",
    "\n",
    "y_id = y_train[\"ID\"]\n",
    "y_train = y_train.drop(columns = \"ID\")\n",
    "x_train = x_train.drop(columns = \"ID\")\n",
    "x_test = x_test.drop(columns = \"ID\")\n",
    "\n",
    "labeling_list = [\"model\",\"year\",\"transmission\",\"fuelType\",\"engineSize\"]\n",
    "from sklearn.preprocessing import LabelEncoder\n",
    "encoder = LabelEncoder()\n",
    "for _ in labeling_list:\n",
    "    x_train[_] = pd.Series(encoder.fit_transform(x_train[_]))\n",
    "    x_test[_] = pd.Series(encoder.fit_transform(x_test[_]))\n",
    "\n",
    "#check = [\"tax(£)\", \"mileage\",\"mpg\"]\n",
    "\n",
    "from sklearn.model_selection import train_test_split\n",
    "X_TRAIN, X_TEST, Y_TRAIN, Y_TEST = train_test_split(x_train,y_train, test_size = 0.3, random_state = 2024)\n",
    "\n",
    "from xgboost import XGBRegressor\n",
    "model1 = XGBRegressor()\n",
    "model1.fit(X_TRAIN,Y_TRAIN)\n",
    "y_pre = pd.DataFrame(model1.predict(x_test)).rename(columns = {0:\"price\"}) # result\n",
    "Y_PRE = pd.DataFrame(model1.predict(X_TEST))\n",
    "label = pd.DataFrame(model1.predict(X_TRAIN))\n",
    "\n",
    "\n",
    "from sklearn.ensemble import RandomForestRegressor\n",
    "model2 = RandomForestRegressor()\n",
    "model2.fit(x_train, y_train)\n",
    "y_pre2 = pd.DataFrame(model2.predict(x_test)).rename(columns = {0:\"price\"})\n",
    "Y_PRE2 = pd.DataFrame(model2.predict(X_TEST)).rename(columns = {0:\"price\"})\n",
    "label2 = pd.DataFrame(model2.predict(X_TRAIN)).rename(columns = {0:\"price\"})\n",
    "\n",
    "# test model\n",
    "from sklearn.metrics import r2_score\n",
    "print(\"this is xgboost label:\",r2_score(Y_TRAIN,label))\n",
    "print(\"this is xgboost test:\", r2_score(Y_TEST,Y_PRE))\n",
    "print()\n",
    "print(\"this is rf label:\",r2_score(Y_TRAIN,label2))\n",
    "print(\"this is randomforest:\",r2_score(Y_TEST,Y_PRE2))\n"
   ]
  }
 ],
 "metadata": {
  "kernelspec": {
   "display_name": "Python 3",
   "language": "python",
   "name": "python3"
  },
  "language_info": {
   "codemirror_mode": {
    "name": "ipython",
    "version": 3
   },
   "file_extension": ".py",
   "mimetype": "text/x-python",
   "name": "python",
   "nbconvert_exporter": "python",
   "pygments_lexer": "ipython3",
   "version": "3.11.9"
  }
 },
 "nbformat": 4,
 "nbformat_minor": 2
}
