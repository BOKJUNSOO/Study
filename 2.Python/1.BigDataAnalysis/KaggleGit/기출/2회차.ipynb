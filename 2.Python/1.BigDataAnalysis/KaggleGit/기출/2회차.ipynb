{
 "cells": [
  {
   "cell_type": "code",
   "execution_count": 1,
   "metadata": {},
   "outputs": [],
   "source": [
    "import pandas as pd\n",
    "df = pd.read_csv('https://raw.githubusercontent.com/Datamanim/datarepo/main/stroke_/train.csv')"
   ]
  },
  {
   "cell_type": "code",
   "execution_count": null,
   "metadata": {},
   "outputs": [
    {
     "name": "stdout",
     "output_type": "stream",
     "text": [
      "44.68623481781376\n"
     ]
    }
   ],
   "source": [
    "#1\n",
    "df[\"age\"] = df[\"age\"].replace(\"*82\",\"82\")\n",
    "df[\"age\"] = df[\"age\"].astype(int)\n",
    "stack = df.loc[df[\"gender\"] == \"Male\"][\"age\"].mean()\n",
    "print(stack)\n"
   ]
  },
  {
   "cell_type": "code",
   "execution_count": null,
   "metadata": {},
   "outputs": [
    {
     "name": "stdout",
     "output_type": "stream",
     "text": [
      "29.166\n"
     ]
    }
   ],
   "source": [
    "#2\n",
    "median_ = df[\"bmi\"].median()\n",
    "df[\"bmi\"] = df[\"bmi\"].fillna(median_)\n",
    "result = round(df[\"bmi\"].mean(), 3)\n",
    "print(result)"
   ]
  },
  {
   "cell_type": "code",
   "execution_count": 13,
   "metadata": {},
   "outputs": [],
   "source": [
    "df = pd.read_csv('https://raw.githubusercontent.com/Datamanim/datarepo/main/stroke_/train.csv')"
   ]
  },
  {
   "cell_type": "code",
   "execution_count": 31,
   "metadata": {},
   "outputs": [
    {
     "name": "stdout",
     "output_type": "stream",
     "text": [
      "29.188\n"
     ]
    }
   ],
   "source": [
    "#3\n",
    "stack = df.loc[df[\"bmi\"].isnull() == True]\n",
    "arr_ = list(stack.index)\n",
    "for i in arr_:\n",
    "    df.loc[i,\"bmi\"] = df.loc[i-1,\"bmi\"]\n",
    "result = round(df[\"bmi\"].mean(),3)\n",
    "print(result)\n"
   ]
  },
  {
   "cell_type": "code",
   "execution_count": null,
   "metadata": {},
   "outputs": [],
   "source": [
    "df = pd.read_csv('https://raw.githubusercontent.com/Datamanim/datarepo/main/stroke_/train.csv')"
   ]
  },
  {
   "cell_type": "markdown",
   "metadata": {},
   "source": [
    "#### ?\n",
    "- bmi컬럼의 각 결측치들을 결측치를 가진 환자 나이대(10단위)의 평균 bmi 값으로 대체한 후 대체된 bmi 컬럼의 평균을 소숫점 이하 3자리 까지 구하여라"
   ]
  },
  {
   "cell_type": "code",
   "execution_count": null,
   "metadata": {},
   "outputs": [
    {
     "data": {
      "text/plain": [
       "0       False\n",
       "1       False\n",
       "2       False\n",
       "3       False\n",
       "4       False\n",
       "        ...  \n",
       "1132    False\n",
       "1133    False\n",
       "1134    False\n",
       "1135    False\n",
       "1136    False\n",
       "Name: bmi, Length: 1137, dtype: bool"
      ]
     },
     "execution_count": 50,
     "metadata": {},
     "output_type": "execute_result"
    }
   ],
   "source": [
    "#4\n",
    "df[\"age\"] = df[\"age\"].replace(\"*82\",\"82\")\n",
    "df[\"age\"] = df[\"age\"].astype(int)\n",
    "df[\"age_\"] = (df[\"age\"]//10)*10\n",
    "\n",
    "stack = df.groupby([\"age_\"])[\"bmi\"].mean().reset_index()\n",
    "\"\"\"if df[\"bmi\"]  None:\n",
    "    print(\"go\")\n",
    "    if stack[\"age_\"] == df[\"age_\"]:\n",
    "        df[\"bmi\"] = stack[\"bmi\"]\n",
    "\"\"\"\n",
    "#print(df[\"bmi\"].isnull().sum())\n",
    "\n",
    "import pandas as pd\n",
    "df = pd.read_csv('https://raw.githubusercontent.com/Datamanim/datarepo/main/stroke_/train.csv')\n",
    "# Noise 데이터 int형 변환\n",
    "df['age'] = df['age'].str.replace('*','').astype('int')\n",
    "\n",
    "# 결측치 제외 나이대별 평균값 계산 및 dictionary 형태로 변환\n",
    "mean = df[df.bmi.notnull()].groupby(df.age//10 *10).bmi.mean()\n",
    "dic = { x:y for x,y in mean.items()}\n",
    "\n",
    "\n",
    "idx =df.loc[df.bmi.isnull(),['age','bmi']].index\n",
    "# 결측치 매핑\n",
    "df.loc[df.bmi.isnull(),'bmi']  =(df[df.bmi.isnull()].age//10*10).map(lambda x : dic[x])\n",
    "\n",
    "result = df.bmi.mean()\n",
    "print(result)\n"
   ]
  },
  {
   "cell_type": "markdown",
   "metadata": {},
   "source": [
    "#### 어떤 조건을 만족시키는 데이터의 값 변경\n",
    "### loc 는 힙을 직접 참조\n",
    "- avg_glucose_level 컬럼의 값이 200이상인 데이터를 모두 199로 변경하고 stroke값이 1인 데이터의 avg_glucose_level값의 평균을 소수점이하 3자리 까지 구하여라\n",
    "\n"
   ]
  },
  {
   "cell_type": "code",
   "execution_count": null,
   "metadata": {},
   "outputs": [
    {
     "name": "stdout",
     "output_type": "stream",
     "text": [
      "125.188\n"
     ]
    }
   ],
   "source": [
    "#5\n",
    "df = pd.read_csv('https://raw.githubusercontent.com/Datamanim/datarepo/main/stroke_/train.csv')\n",
    "arr_ = df.loc[df[\"avg_glucose_level\"] >= 200].index\n",
    "arr_ = list(arr_)\n",
    "#print(df[\"avg_glucose_level\"].mean())\n",
    "for i in arr_:\n",
    "    df.loc[i,\"avg_glucose_level\"] = 199\n",
    "stack = df.loc[df[\"stroke\"] == 1][\"avg_glucose_level\"].mean()\n",
    "print(round(stack,3))"
   ]
  },
  {
   "cell_type": "code",
   "execution_count": null,
   "metadata": {},
   "outputs": [
    {
     "name": "stdout",
     "output_type": "stream",
     "text": [
      "57\n"
     ]
    }
   ],
   "source": [
    "#6\n",
    "df = pd.read_csv(r\"https://raw.githubusercontent.com/Datamanim/datarepo/main/pok/Pokemon.csv\")\n",
    "stack = df.sort_values(by = \"Attack\", ascending = False).reset_index()\n",
    "stack1 = stack.loc[0:400]\n",
    "stack1 = stack1.loc[stack1[\"Legendary\"]].shape[0]\n",
    "stack2 = stack.loc[400:800]\n",
    "stack2 = stack2.loc[stack2[\"Legendary\"]].shape[0]\n",
    "print(abs(stack1-stack2))\n"
   ]
  },
  {
   "cell_type": "code",
   "execution_count": 80,
   "metadata": {},
   "outputs": [
    {
     "name": "stdout",
     "output_type": "stream",
     "text": [
      "Flying\n"
     ]
    }
   ],
   "source": [
    "# 7\n",
    "stack = df.groupby([\"Type 1\"])[\"Total\"].mean().to_frame(\"mean\").reset_index()\n",
    "stack = stack.sort_values(by = \"mean\", ascending = False)\n",
    "result = stack.iloc[2,0]\n",
    "print(result)"
   ]
  },
  {
   "cell_type": "code",
   "execution_count": null,
   "metadata": {},
   "outputs": [
    {
     "name": "stdout",
     "output_type": "stream",
     "text": [
      "37\n"
     ]
    }
   ],
   "source": [
    "#9\n",
    "fm = df.loc[df[\"Type 1\"] == \"Fire\"][\"Attack\"].mean()\n",
    "stack = df.loc[(df[\"Type 1\"] == \"Water\")&(df[\"Attack\"] >= fm)].shape[0]\n",
    "print(stack)"
   ]
  },
  {
   "cell_type": "code",
   "execution_count": 85,
   "metadata": {},
   "outputs": [
    {
     "name": "stdout",
     "output_type": "stream",
     "text": [
      "     Generation  diff\n",
      "230           2   225\n",
      "224           2   200\n",
      "333           3   180\n",
      "223           2   170\n",
      "789           6   156\n",
      "..          ...   ...\n",
      "558           5     0\n",
      "44            1     0\n",
      "559           5     0\n",
      "45            1     0\n",
      "547           4     0\n",
      "\n",
      "[800 rows x 2 columns]\n"
     ]
    }
   ],
   "source": [
    "#10\n",
    "df[\"diff\"] = abs(df[\"Speed\"] - df[\"Defense\"])\n",
    "stack = df[[\"Generation\",\"diff\"]]\n",
    "stack = stack.sort_values(by = \"diff\", ascending = False)\n",
    "print(stack)"
   ]
  },
  {
   "cell_type": "code",
   "execution_count": 122,
   "metadata": {},
   "outputs": [
    {
     "name": "stdout",
     "output_type": "stream",
     "text": [
      "       id    stroke         1\n",
      "0   47472  0.904003  0.095997\n",
      "1   36841  0.951156  0.048844\n",
      "2    3135  0.013445  0.986555\n",
      "3   65218  0.999865  0.000135\n",
      "4    1847  0.995884  0.004116\n",
      "5   50001  0.997499  0.002501\n",
      "6   32126  0.955189  0.044811\n",
      "7   19675  0.996201  0.003799\n",
      "8   29933  0.999637  0.000363\n",
      "9   55351  0.601497  0.398503\n",
      "10  35293  0.936397  0.063603\n",
      "11  65473  0.999157  0.000843\n",
      "12   2182  0.965291  0.034709\n",
      "13  11933  0.840622  0.159378\n",
      "14  56476  0.999948  0.000052\n",
      "15  40471  0.999545  0.000455\n",
      "16   2849  0.999397  0.000603\n",
      "17  43492  0.999861  0.000139\n",
      "18  14688  0.683205  0.316795\n",
      "19  47037  0.995375  0.004625\n",
      "20  49762  0.999955  0.000045\n",
      "21  59737  0.377174  0.622826\n",
      "22  28378  0.551385  0.448615\n",
      "23  65453  0.975072  0.024928\n",
      "24  21762  0.999885  0.000115\n",
      "25  52800  0.999498  0.000502\n",
      "26  10659  0.999373  0.000627\n",
      "27  38047  0.994932  0.005068\n",
      "28  67318  0.976671  0.023329\n",
      "29  67210  0.999027  0.000973\n",
      "score: 0.8596491228070176\n"
     ]
    }
   ],
   "source": [
    "import pandas as pd\n",
    "from sklearn.preprocessing import LabelEncoder\n",
    "from xgboost import XGBClassifier\n",
    "from sklearn.ensemble import RandomForestClassifier\n",
    "from sklearn.model_selection import train_test_split\n",
    "from sklearn.metrics import accuracy_score\n",
    "pd.options.display.max_columns = None\n",
    "\n",
    "train= pd.read_csv('https://raw.githubusercontent.com/Datamanim/datarepo/main/stroke_/train.csv')\n",
    "test= pd.read_csv('https://raw.githubusercontent.com/Datamanim/datarepo/main/stroke_/test.csv')\n",
    "\n",
    "x_train = train.drop(columns = [\"id\",\"stroke\"])\n",
    "y_train = train[\"stroke\"]\n",
    "x_test = test.drop(columns = [\"id\"])\n",
    "y_id = test[\"id\"]\n",
    "\n",
    "#print(y_train.head())\n",
    "# 인코딩\n",
    "arr_ = [\"gender\",\"ever_married\",\"work_type\",\"Residence_type\",\"smoking_status\"]\n",
    "encoder = LabelEncoder()\n",
    "for i in arr_:\n",
    "    x_train[i] = pd.Series(encoder.fit_transform(x_train[i]))\n",
    "    x_test[i] = pd.Series(encoder.fit_transform(x_test[i]))\n",
    "\n",
    "# 결측치 처리\n",
    "mean_ = x_train[\"bmi\"].mean()\n",
    "x_train[\"bmi\"] = x_train[\"bmi\"].fillna(mean_)\n",
    "x_test[\"bmi\"] = x_test[\"bmi\"].fillna(mean_)\n",
    "\n",
    "# 이상치 처리\n",
    "x_train[\"age\"] = x_train[\"age\"].str.replace(\"*\",\" \")\n",
    "x_train[\"age\"] = x_train[\"age\"].astype(int)\n",
    "\n",
    "\n",
    "#\n",
    "X_TRAIN, X_TEST, Y_TRAIN, Y_TEST = train_test_split(x_train, y_train, test_size = 0.3, random_state = 2024)\n",
    "model1 = XGBClassifier()\n",
    "model1.fit(X_TRAIN,Y_TRAIN)\n",
    "y_pre = pd.DataFrame(model1.predict_proba(x_test))\n",
    "Y_PRE = pd.DataFrame(model1.predict(X_TEST))\n",
    "\n",
    "result = pd.concat([y_id, y_pre], axis = 1).rename(columns = {0:\"stroke\"})\n",
    "print(result.head(30))\n",
    "print(\"score:\",accuracy_score(Y_TEST,Y_PRE))\n"
   ]
  },
  {
   "cell_type": "code",
   "execution_count": null,
   "metadata": {},
   "outputs": [
    {
     "name": "stdout",
     "output_type": "stream",
     "text": [
      "test roc score :  0.8486055776892429\n"
     ]
    }
   ],
   "source": [
    "from sklearn.model_selection import train_test_split\n",
    "from sklearn.metrics import roc_auc_score,classification_report\n",
    "from sklearn.ensemble import RandomForestClassifier\n",
    "\n",
    "\n",
    "# 전처리\n",
    "\n",
    "train['age'] =train['age'].str.replace('*','').astype('int')\n",
    "train['bmi'] = train['bmi'].fillna(train['bmi'].mean())\n",
    "test['bmi'] = test['bmi'].fillna(test['bmi'].mean())\n",
    "x = train.drop(columns =['id','stroke'])\n",
    "xd = pd.get_dummies(x)\n",
    "y = train['stroke']\n",
    "\n",
    "\n",
    "#학습\n",
    "\n",
    "x_train,x_test,y_train,y_test = train_test_split(xd,y,stratify =y ,random_state=1)\n",
    "rf = RandomForestClassifier()\n",
    "rf.fit(x_train,y_train)\n",
    "pred = rf.predict_proba(x_test)\n",
    "print('test roc score : ',roc_auc_score(y_test,pred[:,1]))\n",
    "\n",
    "\n",
    "# one-hot encoding시 train셋에만 존재하는 컬럼이 존재\n",
    "\n",
    "test_preprocessing =pd.get_dummies(test.drop(columns=['id']))\n",
    "test_preprocessing[list(set(x_train.columns) -set(test_preprocessing))] =0\n",
    "test_preprocessing =test_preprocessing[x_train.columns]\n",
    "test_pred = rf.predict_proba(test_preprocessing)\n",
    "\n",
    "# 아래 코드 예측변수와 수험번호를 개인별로 변경하여 활용\n",
    "# pd.DataFrame({'id': test.id, 'stroke': pred}).to_csv('003000000.csv', index=False)\n",
    "# result = pd.DataFrame({'id': test.id, 'stroke': test_pred[:,1]}).to_csv('003000000.csv', index=False)"
   ]
  }
 ],
 "metadata": {
  "kernelspec": {
   "display_name": "Python 3",
   "language": "python",
   "name": "python3"
  },
  "language_info": {
   "codemirror_mode": {
    "name": "ipython",
    "version": 3
   },
   "file_extension": ".py",
   "mimetype": "text/x-python",
   "name": "python",
   "nbconvert_exporter": "python",
   "pygments_lexer": "ipython3",
   "version": "3.12.7"
  }
 },
 "nbformat": 4,
 "nbformat_minor": 2
}
