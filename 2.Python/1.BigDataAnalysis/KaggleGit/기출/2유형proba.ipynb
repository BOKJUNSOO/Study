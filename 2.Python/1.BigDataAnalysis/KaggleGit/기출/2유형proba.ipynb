{
 "cells": [
  {
   "cell_type": "code",
   "execution_count": null,
   "metadata": {},
   "outputs": [
    {
     "name": "stdout",
     "output_type": "stream",
     "text": [
      "       ID         0         1\n",
      "0       6  0.840000  0.160000\n",
      "1       9  0.936667  0.063333\n",
      "2      20  0.831833  0.168167\n",
      "3      21  0.792167  0.207833\n",
      "4      23  0.890000  0.110000\n",
      "..    ...       ...       ...\n",
      "492  1964  0.947179  0.052821\n",
      "493  1970  0.246270  0.753730\n",
      "494  1973  0.000000  1.000000\n",
      "495  1976  0.552048  0.447952\n",
      "496  1982  0.020000  0.980000\n",
      "\n",
      "[497 rows x 3 columns]\n"
     ]
    },
    {
     "name": "stderr",
     "output_type": "stream",
     "text": [
      "c:\\Users\\brian\\AppData\\Local\\Programs\\Python\\Python311\\Lib\\site-packages\\sklearn\\base.py:1473: DataConversionWarning: A column-vector y was passed when a 1d array was expected. Please change the shape of y to (n_samples,), for example using ravel().\n",
      "  return fit_method(estimator, *args, **kwargs)\n"
     ]
    }
   ],
   "source": [
    "import pandas as pd\n",
    "train = pd.read_csv('https://raw.githubusercontent.com/Datamanim/datarepo/main/krdatacertificate/e3_p2_train_.csv')\n",
    "test = pd.read_csv('https://raw.githubusercontent.com/Datamanim/datarepo/main/krdatacertificate/e3_p2_test_.csv')\n",
    "\n",
    "y_id = test[\"ID\"]\n",
    "y_train = train[[\"TravelInsurance\"]]\n",
    "x_train = train.drop(columns = [\"ID\",\"TravelInsurance\"])\n",
    "x_test = test.drop(columns = \"ID\")\n",
    "\n",
    "#label\n",
    "from sklearn.preprocessing import LabelEncoder\n",
    "encoder = LabelEncoder()\n",
    "en_li = [\"Employment Type\",\"GraduateOrNot\",\"FrequentFlyer\",\"EverTravelledAbroad\"]\n",
    "for i in en_li:\n",
    "    x_train[i] = pd.Series(encoder.fit_transform(x_train[i]))\n",
    "    x_test[i] = pd.Series(encoder.fit_transform(x_test[i]))\n",
    "\n",
    "ss_li = [\"AnnualIncome\"]\n",
    "from sklearn.preprocessing import StandardScaler\n",
    "\"\"\"\n",
    "scaler = StandardScaler()\n",
    "temp = pd.DataFrame(scaler.fit_transform(x_train[ss_li])).rename(columns = {0:\"new\"})\n",
    "x_train = pd.concat([x_train, temp], axis = 1).drop(columns = ss_li)\n",
    "\n",
    "temp = pd.DataFrame(scaler.fit_transform(x_test[ss_li])).rename(columns = {0:\"new\"})\n",
    "x_test = pd.concat([x_test, temp], axis = 1).drop(columns = ss_li)\n",
    "\"\"\"\n",
    "from sklearn.ensemble import RandomForestClassifier\n",
    "from sklearn.model_selection import train_test_split\n",
    "from sklearn.metrics import roc_auc_score\n",
    "X_TRAIN, X_TEST , Y_TRAIN, Y_TEST = train_test_split(x_train,y_train, test_size = 0.3 ,random_state=1)\n",
    "model = RandomForestClassifier(random_state=14)\n",
    "model.fit(X_TRAIN,Y_TRAIN)\n",
    "y_pre = pd.DataFrame(model.predict_proba(x_test))\n",
    "Y_PRE = pd.DataFrame(model.predict_proba(X_TEST))\n",
    "\n",
    "result = pd.concat([y_id,y_pre], axis = 1)\n",
    "\n",
    "\n",
    "\n",
    "\n"
   ]
  }
 ],
 "metadata": {
  "kernelspec": {
   "display_name": "Python 3",
   "language": "python",
   "name": "python3"
  },
  "language_info": {
   "codemirror_mode": {
    "name": "ipython",
    "version": 3
   },
   "file_extension": ".py",
   "mimetype": "text/x-python",
   "name": "python",
   "nbconvert_exporter": "python",
   "pygments_lexer": "ipython3",
   "version": "3.11.9"
  }
 },
 "nbformat": 4,
 "nbformat_minor": 2
}
