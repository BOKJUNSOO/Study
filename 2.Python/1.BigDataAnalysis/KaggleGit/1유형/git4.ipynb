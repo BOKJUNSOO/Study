{
 "cells": [
  {
   "cell_type": "code",
   "execution_count": 18,
   "metadata": {},
   "outputs": [
    {
     "name": "stdout",
     "output_type": "stream",
     "text": [
      "day_name\n",
      "Friday       108877\n",
      "Monday       107568\n",
      "Saturday     101299\n",
      "Sunday        90918\n",
      "Thursday      55977\n",
      "Tuesday      103704\n",
      "Wednesday    110607\n",
      "Name: day_name, dtype: int64\n"
     ]
    }
   ],
   "source": [
    "import pandas as pd\n",
    "df =pd.read_csv('https://raw.githubusercontent.com/Datamanim/datarepo/main/bicycle/seoul_bi.csv')\n",
    "\n",
    "df[\"대여일자\"] = pd.to_datetime(df['대여일자'])\n",
    "df[\"day_name\"] = df.대여일자.dt.day_of_week\n",
    "df[\"day_name\"] = df.day_name.replace(0,\"Monday\").replace(1,\"Tuesday\").replace(2,\"Wednesday\")\\\n",
    "                            .replace(3,\"Thursday\").replace(4,\"Friday\").replace(5,\"Saturday\").replace(6,\"Sunday\")\n",
    "stack = df.groupby([\"day_name\"])[\"day_name\"].count()\n",
    "#stack = df.day_name.value_counts().to_frame()\n",
    "print(stack)"
   ]
  },
  {
   "cell_type": "code",
   "execution_count": null,
   "metadata": {},
   "outputs": [
    {
     "data": {
      "text/html": [
       "<div>\n",
       "<style scoped>\n",
       "    .dataframe tbody tr th:only-of-type {\n",
       "        vertical-align: middle;\n",
       "    }\n",
       "\n",
       "    .dataframe tbody tr th {\n",
       "        vertical-align: top;\n",
       "    }\n",
       "\n",
       "    .dataframe thead th {\n",
       "        text-align: right;\n",
       "    }\n",
       "</style>\n",
       "<table border=\"1\" class=\"dataframe\">\n",
       "  <thead>\n",
       "    <tr style=\"text-align: right;\">\n",
       "      <th></th>\n",
       "      <th>day_name</th>\n",
       "      <th>대여소번호</th>\n",
       "      <th>이용건수</th>\n",
       "    </tr>\n",
       "  </thead>\n",
       "  <tbody>\n",
       "    <tr>\n",
       "      <th>0</th>\n",
       "      <td>Wednesday</td>\n",
       "      <td>502</td>\n",
       "      <td>282</td>\n",
       "    </tr>\n",
       "    <tr>\n",
       "      <th>1</th>\n",
       "      <td>Tuesday</td>\n",
       "      <td>502</td>\n",
       "      <td>267</td>\n",
       "    </tr>\n",
       "    <tr>\n",
       "      <th>2</th>\n",
       "      <td>Thursday</td>\n",
       "      <td>2715</td>\n",
       "      <td>137</td>\n",
       "    </tr>\n",
       "    <tr>\n",
       "      <th>3</th>\n",
       "      <td>Sunday</td>\n",
       "      <td>502</td>\n",
       "      <td>372</td>\n",
       "    </tr>\n",
       "    <tr>\n",
       "      <th>4</th>\n",
       "      <td>Saturday</td>\n",
       "      <td>502</td>\n",
       "      <td>378</td>\n",
       "    </tr>\n",
       "    <tr>\n",
       "      <th>5</th>\n",
       "      <td>Monday</td>\n",
       "      <td>502</td>\n",
       "      <td>242</td>\n",
       "    </tr>\n",
       "    <tr>\n",
       "      <th>6</th>\n",
       "      <td>Friday</td>\n",
       "      <td>502</td>\n",
       "      <td>277</td>\n",
       "    </tr>\n",
       "  </tbody>\n",
       "</table>\n",
       "</div>"
      ],
      "text/plain": [
       "    day_name  대여소번호  이용건수\n",
       "0  Wednesday    502   282\n",
       "1    Tuesday    502   267\n",
       "2   Thursday   2715   137\n",
       "3     Sunday    502   372\n",
       "4   Saturday    502   378\n",
       "5     Monday    502   242\n",
       "6     Friday    502   277"
      ]
     },
     "metadata": {},
     "output_type": "display_data"
    },
    {
     "data": {
      "text/html": [
       "<div>\n",
       "<style scoped>\n",
       "    .dataframe tbody tr th:only-of-type {\n",
       "        vertical-align: middle;\n",
       "    }\n",
       "\n",
       "    .dataframe tbody tr th {\n",
       "        vertical-align: top;\n",
       "    }\n",
       "\n",
       "    .dataframe thead th {\n",
       "        text-align: right;\n",
       "    }\n",
       "</style>\n",
       "<table border=\"1\" class=\"dataframe\">\n",
       "  <thead>\n",
       "    <tr style=\"text-align: right;\">\n",
       "      <th></th>\n",
       "      <th>day_name</th>\n",
       "      <th>대여소번호</th>\n",
       "      <th>size</th>\n",
       "    </tr>\n",
       "  </thead>\n",
       "  <tbody>\n",
       "    <tr>\n",
       "      <th>0</th>\n",
       "      <td>Wednesday</td>\n",
       "      <td>502</td>\n",
       "      <td>282</td>\n",
       "    </tr>\n",
       "    <tr>\n",
       "      <th>1</th>\n",
       "      <td>Tuesday</td>\n",
       "      <td>502</td>\n",
       "      <td>267</td>\n",
       "    </tr>\n",
       "    <tr>\n",
       "      <th>2</th>\n",
       "      <td>Thursday</td>\n",
       "      <td>2715</td>\n",
       "      <td>137</td>\n",
       "    </tr>\n",
       "    <tr>\n",
       "      <th>3</th>\n",
       "      <td>Sunday</td>\n",
       "      <td>502</td>\n",
       "      <td>372</td>\n",
       "    </tr>\n",
       "    <tr>\n",
       "      <th>4</th>\n",
       "      <td>Saturday</td>\n",
       "      <td>502</td>\n",
       "      <td>378</td>\n",
       "    </tr>\n",
       "    <tr>\n",
       "      <th>5</th>\n",
       "      <td>Monday</td>\n",
       "      <td>502</td>\n",
       "      <td>242</td>\n",
       "    </tr>\n",
       "    <tr>\n",
       "      <th>6</th>\n",
       "      <td>Friday</td>\n",
       "      <td>502</td>\n",
       "      <td>277</td>\n",
       "    </tr>\n",
       "  </tbody>\n",
       "</table>\n",
       "</div>"
      ],
      "text/plain": [
       "    day_name  대여소번호  size\n",
       "0  Wednesday    502   282\n",
       "1    Tuesday    502   267\n",
       "2   Thursday   2715   137\n",
       "3     Sunday    502   372\n",
       "4   Saturday    502   378\n",
       "5     Monday    502   242\n",
       "6     Friday    502   277"
      ]
     },
     "metadata": {},
     "output_type": "display_data"
    }
   ],
   "source": [
    "# 집계 함수 sum, count , size\n",
    "# sum() 컬럼내의 값들의 합\n",
    "# count() 컬럼의 row를 센다\n",
    "# groupby(\"col\")[non] 일때 size 를 쓰면 유용하다\n",
    "stack = df.groupby([\"day_name\",\"대여소번호\"])[\"이용건수\"].count().reset_index(drop = False)\n",
    "stack = stack.sort_values(by = [\"day_name\",\"이용건수\"],ascending=False)\n",
    "stack = stack.drop_duplicates(\"day_name\", keep = \"first\").reset_index(drop = True)\n",
    "display(stack)\n",
    "result = df.groupby(['day_name','대여소번호']).size().to_frame('size').sort_values(['day_name','size'],ascending=False).reset_index()\n",
    "answer  = result.drop_duplicates('day_name',keep='first').reset_index(drop=True)\n",
    "display(answer)"
   ]
  },
  {
   "cell_type": "markdown",
   "metadata": {},
   "source": [
    "나이대별 대여구분 코드의 (일일권/전체횟수) 비율을 구한 후 \n",
    "\n",
    "가장 높은 비율을 가지는 나이대를 확인하라. \n",
    "\n",
    "일일권의 경우 일일권 과 일일권(비회원)을 모두 포함하라"
   ]
  },
  {
   "cell_type": "code",
   "execution_count": null,
   "metadata": {},
   "outputs": [
    {
     "name": "stdout",
     "output_type": "stream",
     "text": [
      "  연령대코드 연령대코드     ratio\n",
      "0   20대   20대  0.239913\n",
      "1   30대   30대  0.166702\n",
      "2   40대   40대  0.110585\n",
      "3   50대   50대  0.065414\n",
      "4   60대   60대  0.042462\n",
      "5  70대~  70대~  0.048962\n",
      "6  ~10대  ~10대  0.312525\n"
     ]
    }
   ],
   "source": [
    "# 1)\n",
    "daily = df[df.대여구분코드.isin(['일일권','일일권(비회원)'])].연령대코드.value_counts().sort_index()\n",
    "total = df.연령대코드.value_counts().sort_index()\n",
    "\n",
    "ratio = (daily /total).sort_values(ascending=False)\n",
    "print(ratio)\n",
    "print('max ratio age ',ratio.index[0])\n",
    "\n",
    "# 2)\n",
    "stack = df.groupby([\"연령대코드\",\"대여구분코드\"]).size().to_frame(\"size\").reset_index()\n",
    "stack = stack.groupby([\"연령대코드\"])[\"size\"].sum().reset_index()\n",
    "\n",
    "stack2 = df.groupby([\"연령대코드\",\"대여구분코드\"]).size().to_frame(\"sum\").reset_index()\n",
    "stack2 = stack2.loc[(stack2.대여구분코드 == \"일일권\")|(stack2.대여구분코드 == \"일일권(비회원)\")]\n",
    "stack2 = stack2.groupby([\"연령대코드\"])[\"sum\"].sum().reset_index()\n",
    "result = pd.concat([stack,stack2],axis = 1)\n",
    "result[\"ratio\"] = result[\"sum\"]/result[\"size\"]\n",
    "print(result[[\"연령대코드\",\"ratio\"]])"
   ]
  },
  {
   "cell_type": "code",
   "execution_count": null,
   "metadata": {},
   "outputs": [
    {
     "name": "stdout",
     "output_type": "stream",
     "text": [
      "1.613\n"
     ]
    }
   ],
   "source": [
    "stack = df.loc[df[\"연령대코드\"] == \"20대\"]\n",
    "mean_ = stack[\"이동거리\"].mean()\n",
    "stack = stack.loc[stack[\"이동거리\"] >= mean_]\n",
    "stack = stack.sort_values(by = [\"대여일자\",\"대여소번호\"], ascending = False).reset_index(drop=True)\n",
    "result = pd.DataFrame(stack.loc[0:199, \"탄소량\"])\n",
    "result[\"탄소량\"] = result[\"탄소량\"].astype(float)\n",
    "result = result[\"탄소량\"].mean()\n",
    "print(round(result, 3))"
   ]
  },
  {
   "cell_type": "code",
   "execution_count": 146,
   "metadata": {},
   "outputs": [
    {
     "data": {
      "text/plain": [
       "1.0"
      ]
     },
     "execution_count": 146,
     "metadata": {},
     "output_type": "execute_result"
    }
   ],
   "source": [
    "cod = (df[\"대여일자\"] == \"2021-06-07\")&(df[\"연령대코드\"] == \"~10대\")\n",
    "df.loc[cod][\"이용건수\"].median()"
   ]
  },
  {
   "cell_type": "code",
   "execution_count": null,
   "metadata": {},
   "outputs": [
    {
     "data": {
      "text/html": [
       "<div>\n",
       "<style scoped>\n",
       "    .dataframe tbody tr th:only-of-type {\n",
       "        vertical-align: middle;\n",
       "    }\n",
       "\n",
       "    .dataframe tbody tr th {\n",
       "        vertical-align: top;\n",
       "    }\n",
       "\n",
       "    .dataframe thead th {\n",
       "        text-align: right;\n",
       "    }\n",
       "</style>\n",
       "<table border=\"1\" class=\"dataframe\">\n",
       "  <thead>\n",
       "    <tr style=\"text-align: right;\">\n",
       "      <th></th>\n",
       "      <th></th>\n",
       "      <th>이용횟수</th>\n",
       "    </tr>\n",
       "    <tr>\n",
       "      <th>대여시간</th>\n",
       "      <th>대여소번호</th>\n",
       "      <th></th>\n",
       "    </tr>\n",
       "  </thead>\n",
       "  <tbody>\n",
       "    <tr>\n",
       "      <th rowspan=\"3\" valign=\"top\">8</th>\n",
       "      <th>2701</th>\n",
       "      <td>119</td>\n",
       "    </tr>\n",
       "    <tr>\n",
       "      <th>646</th>\n",
       "      <td>115</td>\n",
       "    </tr>\n",
       "    <tr>\n",
       "      <th>1152</th>\n",
       "      <td>92</td>\n",
       "    </tr>\n",
       "    <tr>\n",
       "      <th rowspan=\"3\" valign=\"top\">7</th>\n",
       "      <th>259</th>\n",
       "      <td>104</td>\n",
       "    </tr>\n",
       "    <tr>\n",
       "      <th>230</th>\n",
       "      <td>77</td>\n",
       "    </tr>\n",
       "    <tr>\n",
       "      <th>726</th>\n",
       "      <td>77</td>\n",
       "    </tr>\n",
       "    <tr>\n",
       "      <th rowspan=\"3\" valign=\"top\">6</th>\n",
       "      <th>2744</th>\n",
       "      <td>45</td>\n",
       "    </tr>\n",
       "    <tr>\n",
       "      <th>1125</th>\n",
       "      <td>40</td>\n",
       "    </tr>\n",
       "    <tr>\n",
       "      <th>1028</th>\n",
       "      <td>36</td>\n",
       "    </tr>\n",
       "  </tbody>\n",
       "</table>\n",
       "</div>"
      ],
      "text/plain": [
       "            이용횟수\n",
       "대여시간 대여소번호      \n",
       "8    2701    119\n",
       "     646     115\n",
       "     1152     92\n",
       "7    259     104\n",
       "     230      77\n",
       "     726      77\n",
       "6    2744     45\n",
       "     1125     40\n",
       "     1028     36"
      ]
     },
     "execution_count": 165,
     "metadata": {},
     "output_type": "execute_result"
    }
   ],
   "source": [
    "# groupby 2번\n",
    "stack = df.loc[((df[\"대여시간\"] == 6)|(df[\"대여시간\"] == 7)|(df[\"대여시간\"] == 8))&(df[\"day_name\"].isin(['Tuesday', 'Wednesday', 'Thursday', 'Friday','Monday']))]\n",
    "stack = stack.groupby([\"대여시간\",\"대여소번호\"])[\"이용건수\"].size().to_frame(\"이용횟수\")\n",
    "stack = stack.sort_values(by = [\"대여시간\",\"이용횟수\"], ascending = False).groupby([\"대여시간\"]).head(3)"
   ]
  },
  {
   "cell_type": "code",
   "execution_count": 168,
   "metadata": {},
   "outputs": [
    {
     "name": "stdout",
     "output_type": "stream",
     "text": [
      "5092.139707505356\n"
     ]
    }
   ],
   "source": [
    "mean_ = df[\"이동거리\"].mean()\n",
    "stack = df.loc[df[\"이동거리\"] >= mean_]\n",
    "result = stack[\"이동거리\"].std()\n",
    "print(result)"
   ]
  },
  {
   "cell_type": "code",
   "execution_count": 175,
   "metadata": {},
   "outputs": [
    {
     "name": "stdout",
     "output_type": "stream",
     "text": [
      "3209.1108714530546\n"
     ]
    }
   ],
   "source": [
    "male = df.loc[df.성별.isin([\"M\",\"m\"])]\n",
    "female = df.loc[df.성별.isin([\"F\",'f'])]\n",
    "mean1 = male.이동거리.mean()\n",
    "print(mean1)"
   ]
  }
 ],
 "metadata": {
  "kernelspec": {
   "display_name": "Python 3",
   "language": "python",
   "name": "python3"
  },
  "language_info": {
   "codemirror_mode": {
    "name": "ipython",
    "version": 3
   },
   "file_extension": ".py",
   "mimetype": "text/x-python",
   "name": "python",
   "nbconvert_exporter": "python",
   "pygments_lexer": "ipython3",
   "version": "3.12.7"
  }
 },
 "nbformat": 4,
 "nbformat_minor": 2
}
