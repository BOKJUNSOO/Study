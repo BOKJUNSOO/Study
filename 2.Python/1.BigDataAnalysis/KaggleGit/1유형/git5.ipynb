{
 "cells": [
  {
   "cell_type": "code",
   "execution_count": 2,
   "metadata": {},
   "outputs": [
    {
     "data": {
      "text/html": [
       "<div>\n",
       "<style scoped>\n",
       "    .dataframe tbody tr th:only-of-type {\n",
       "        vertical-align: middle;\n",
       "    }\n",
       "\n",
       "    .dataframe tbody tr th {\n",
       "        vertical-align: top;\n",
       "    }\n",
       "\n",
       "    .dataframe thead th {\n",
       "        text-align: right;\n",
       "    }\n",
       "</style>\n",
       "<table border=\"1\" class=\"dataframe\">\n",
       "  <thead>\n",
       "    <tr style=\"text-align: right;\">\n",
       "      <th></th>\n",
       "      <th>행복랭킹</th>\n",
       "      <th>나라명</th>\n",
       "      <th>점수</th>\n",
       "      <th>상대GDP</th>\n",
       "      <th>사회적지원</th>\n",
       "      <th>행복기대치</th>\n",
       "      <th>선택의 자유도</th>\n",
       "      <th>관대함</th>\n",
       "      <th>부패에 대한인식</th>\n",
       "      <th>년도</th>\n",
       "    </tr>\n",
       "  </thead>\n",
       "  <tbody>\n",
       "    <tr>\n",
       "      <th>0</th>\n",
       "      <td>1</td>\n",
       "      <td>Finland</td>\n",
       "      <td>7.769</td>\n",
       "      <td>1.340</td>\n",
       "      <td>1.587</td>\n",
       "      <td>0.986</td>\n",
       "      <td>0.596</td>\n",
       "      <td>0.153</td>\n",
       "      <td>0.393</td>\n",
       "      <td>2019</td>\n",
       "    </tr>\n",
       "    <tr>\n",
       "      <th>1</th>\n",
       "      <td>2</td>\n",
       "      <td>Denmark</td>\n",
       "      <td>7.600</td>\n",
       "      <td>1.383</td>\n",
       "      <td>1.573</td>\n",
       "      <td>0.996</td>\n",
       "      <td>0.592</td>\n",
       "      <td>0.252</td>\n",
       "      <td>0.410</td>\n",
       "      <td>2019</td>\n",
       "    </tr>\n",
       "    <tr>\n",
       "      <th>2</th>\n",
       "      <td>3</td>\n",
       "      <td>Norway</td>\n",
       "      <td>7.554</td>\n",
       "      <td>1.488</td>\n",
       "      <td>1.582</td>\n",
       "      <td>1.028</td>\n",
       "      <td>0.603</td>\n",
       "      <td>0.271</td>\n",
       "      <td>0.341</td>\n",
       "      <td>2019</td>\n",
       "    </tr>\n",
       "  </tbody>\n",
       "</table>\n",
       "</div>"
      ],
      "text/plain": [
       "   행복랭킹      나라명     점수  상대GDP  사회적지원  행복기대치  선택의 자유도    관대함  부패에 대한인식    년도\n",
       "0     1  Finland  7.769  1.340  1.587  0.986    0.596  0.153     0.393  2019\n",
       "1     2  Denmark  7.600  1.383  1.573  0.996    0.592  0.252     0.410  2019\n",
       "2     3   Norway  7.554  1.488  1.582  1.028    0.603  0.271     0.341  2019"
      ]
     },
     "execution_count": 2,
     "metadata": {},
     "output_type": "execute_result"
    }
   ],
   "source": [
    "import pandas as pd\n",
    "pd.options.display.max_columns = None\n",
    "df =pd.read_csv('https://raw.githubusercontent.com/Datamanim/datarepo/main/happy2/happiness.csv',encoding='utf-8')\n",
    "df.head(3)"
   ]
  },
  {
   "cell_type": "markdown",
   "metadata": {},
   "source": [
    "2018년도와 2019년도의 행복랭킹이 변화하지 않은 나라명의 수를 구하여라"
   ]
  },
  {
   "cell_type": "markdown",
   "metadata": {},
   "source": []
  },
  {
   "cell_type": "code",
   "execution_count": null,
   "metadata": {},
   "outputs": [
    {
     "name": "stdout",
     "output_type": "stream",
     "text": [
      "15\n",
      "15\n"
     ]
    }
   ],
   "source": [
    "import pandas as pd\n",
    "df =pd.read_csv('https://raw.githubusercontent.com/Datamanim/datarepo/main/happy2/happiness.csv',encoding='utf-8')\n",
    "stack1 = df.loc[df[\"년도\"] == 2018].sort_values(by = \"나라명\").reset_index(drop = True)\n",
    "stack2 = df.loc[df[\"년도\"] == 2019].sort_values(by = \"나라명\").reset_index(drop = True)\n",
    "\n",
    "# merge 메서드는 두 df를 키를 기준으로 join\n",
    "# concat 메서드는 pandas.concat(obj) << 리스트로 데이터프레임 전달 단순히 이어붙히는것\n",
    "result = pd.merge(stack1,stack2, on = \"나라명\")\n",
    "result[\"등락\"] = result[\"행복랭킹_x\"] - result[\"행복랭킹_y\"]\n",
    "result = result.loc[result[\"등락\"] == 0]\n",
    "print(result.shape[0])\n",
    "\n",
    "# 전체 데이터의 갯수 - 행복랭킹과 나라명이 같은 row를 삭제\n",
    "count = len(df[['행복랭킹','나라명']]) - len(df[['행복랭킹','나라명']].drop_duplicates())\n",
    "print(count)\n"
   ]
  },
  {
   "cell_type": "markdown",
   "metadata": {},
   "source": [
    "각 년도별 하위 행복점수의 하위 5개 국가의 평균 행복점수를 구하여라"
   ]
  },
  {
   "cell_type": "code",
   "execution_count": 23,
   "metadata": {},
   "outputs": [
    {
     "name": "stdout",
     "output_type": "stream",
     "text": [
      "3.1799999999999997 3.1407999999999996\n",
      "년도\n",
      "2018    3.1800\n",
      "2019    3.1408\n",
      "Name: 점수, dtype: float64\n"
     ]
    }
   ],
   "source": [
    "#print(df.head())\n",
    "stack1 = df.loc[df[\"년도\"] == 2018]\n",
    "stack1 = stack1.sort_values(by = \"점수\",ascending = True).iloc[0:5]\n",
    "result1 = stack1[\"점수\"].mean()\n",
    "\n",
    "stack2 = df.loc[df[\"년도\"] == 2019]\n",
    "stack2 = stack2.sort_values(by = \"점수\", ascending = True).iloc[0:5]\n",
    "result2 = stack2[\"점수\"].mean()\n",
    "print(result1, result2)\n",
    "\n",
    "# 2) groupby 집계없이 ..  tail()이게되네? **\n",
    "result = df.groupby(\"년도\").tail(5).groupby(\"년도\")[\"점수\"].mean()\n",
    "print(result)"
   ]
  },
  {
   "cell_type": "markdown",
   "metadata": {},
   "source": [
    "각년도의 부패에 대한인식을 내림차순 정렬했을때 상위 20개 국가의 부패에 대한인식의 평균을 구하여라"
   ]
  },
  {
   "cell_type": "code",
   "execution_count": null,
   "metadata": {},
   "outputs": [],
   "source": []
  },
  {
   "cell_type": "code",
   "execution_count": 50,
   "metadata": {},
   "outputs": [
    {
     "name": "stdout",
     "output_type": "stream",
     "text": [
      "년도\n",
      "2018    0.3267\n",
      "2019    0.3201\n",
      "Name: 부패에 대한인식, dtype: float64\n"
     ]
    }
   ],
   "source": [
    "# 위에 문제 응용!\n",
    "stack = df.sort_values(by = [\"년도\",\"부패에 대한인식\"], ascending=False).reset_index(drop=True)\n",
    "stack = stack.groupby(\"년도\").head(20).groupby(\"년도\")[\"부패에 대한인식\"].mean()\n",
    "print(stack)\n"
   ]
  },
  {
   "cell_type": "markdown",
   "metadata": {},
   "source": [
    "2018년도 행복랭킹 50위 이내에 포함됐다가 2019년 50위 밖으로 밀려난 국가의 숫자를 구하여라"
   ]
  },
  {
   "cell_type": "code",
   "execution_count": 73,
   "metadata": {},
   "outputs": [
    {
     "name": "stdout",
     "output_type": "stream",
     "text": [
      "Index([156, 157, 158, 159, 160, 161, 162, 163, 164, 165, 166, 167, 168, 169,\n",
      "       170, 171, 172, 173, 174, 175, 176, 177, 178, 179, 180, 181, 182, 183,\n",
      "       184, 185, 186, 187, 188, 189, 190, 191, 192, 193, 194, 195, 196, 197,\n",
      "       198, 199, 200, 201, 202, 203, 204, 205],\n",
      "      dtype='int64')\n",
      "4\n",
      "4\n"
     ]
    }
   ],
   "source": [
    "# value_Count 사용해보기 + isin() **\n",
    "stack = df.loc[(df[\"행복랭킹\"]<= 50)&(df[\"년도\"] == 2018)]\n",
    "print(stack.index)\n",
    "arr_ = list(stack[\"나라명\"])\n",
    "\n",
    "stack = df.loc[(df[\"행복랭킹\"]<=50)&(df[\"년도\"] == 2019)]\n",
    "count = 0\n",
    "\n",
    "for i in arr_:\n",
    "    if i not in list(stack[\"나라명\"]):\n",
    "        count +=1\n",
    "print(count)\n",
    "\n",
    "#2\n",
    "result = set(df[(df.년도==2018) & (df.행복랭킹 <=50)].나라명)  -set(df[(df.년도==2019) & (df.행복랭킹 <=50)].나라명)\n",
    "answer = len(result)\n",
    "print(answer)"
   ]
  },
  {
   "cell_type": "markdown",
   "metadata": {},
   "source": [
    "2018년,2019년 모두 기록이 있는 나라들 중 년도별 행복점수가 가장 증가한 나라와 그 증가 수치는?\n",
    "\n"
   ]
  },
  {
   "cell_type": "code",
   "execution_count": 78,
   "metadata": {},
   "outputs": [
    {
     "name": "stdout",
     "output_type": "stream",
     "text": [
      "나라명    Burundi\n",
      "증가율       0.87\n",
      "Name: 151, dtype: object\n",
      "Index(['Finland', 'Albania', 'Nepal', 'Jordan', 'Benin', 'Congo (Brazzaville)',\n",
      "       'Gabon', 'Laos', 'South Africa', 'Venezuela',\n",
      "       ...\n",
      "       'Kosovo', 'Romania', 'Cyprus', 'Argentina', 'Kuwait', 'Thailand',\n",
      "       'Latvia', 'South Korea', 'Estonia', 'Jamaica'],\n",
      "      dtype='object', name='나라명', length=152)\n"
     ]
    },
    {
     "data": {
      "text/plain": [
       "점수    0.87\n",
       "Name: Burundi, dtype: float64"
      ]
     },
     "execution_count": 78,
     "metadata": {},
     "output_type": "execute_result"
    }
   ],
   "source": [
    "stack1 = df.loc[df[\"년도\"] == 2018]\n",
    "stack2 = df.loc[df[\"년도\"] == 2019]\n",
    "\n",
    "stack = pd.merge(stack1, stack2, on = \"나라명\")\n",
    "stack[\"증가율\"] = stack[\"점수_y\"] - stack[\"점수_x\"]\n",
    "result = stack[[\"나라명\",\"증가율\"]]\n",
    "result = result.sort_values(by= \"증가율\", ascending=False)\n",
    "print(result.iloc[0])\n",
    "\n",
    "# 2) value_count 메서드 활용하기\n",
    "count = df.나라명.value_counts()\n",
    "target = count[count>=2].index\n",
    "print(target)\n",
    "\n",
    "df2 =df.copy()\n",
    "multiple = df2[df2.나라명.isin(target)].reset_index(drop=True)\n",
    "multiple.loc[multiple['년도']==2018,'점수'] = multiple[multiple.년도 ==2018]['점수'].values * (-1)\n",
    "result = multiple.groupby('나라명').sum()['점수'].sort_values().to_frame().iloc[-1]\n",
    "result"
   ]
  },
  {
   "cell_type": "code",
   "execution_count": 74,
   "metadata": {},
   "outputs": [
    {
     "data": {
      "text/plain": [
       "4"
      ]
     },
     "execution_count": 74,
     "metadata": {},
     "output_type": "execute_result"
    }
   ],
   "source": [
    "count"
   ]
  }
 ],
 "metadata": {
  "kernelspec": {
   "display_name": "Python 3",
   "language": "python",
   "name": "python3"
  },
  "language_info": {
   "codemirror_mode": {
    "name": "ipython",
    "version": 3
   },
   "file_extension": ".py",
   "mimetype": "text/x-python",
   "name": "python",
   "nbconvert_exporter": "python",
   "pygments_lexer": "ipython3",
   "version": "3.12.7"
  }
 },
 "nbformat": 4,
 "nbformat_minor": 2
}
