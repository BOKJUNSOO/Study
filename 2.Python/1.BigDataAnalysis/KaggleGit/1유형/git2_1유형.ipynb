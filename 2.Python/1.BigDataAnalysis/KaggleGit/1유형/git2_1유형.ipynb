{
 "cells": [
  {
   "cell_type": "code",
   "execution_count": 9,
   "metadata": {},
   "outputs": [
    {
     "name": "stdout",
     "output_type": "stream",
     "text": [
      "       videopk  viewcnt  likecnt  dislikecnt  favoritecnt  cmcnt  \\\n",
      "0  c5JQp6xafqc  1667010    30474         706            0   6587   \n",
      "1  c5JQp6xafqc  1669089    30495         707            0   6589   \n",
      "2  c5JQp6xafqc  1674759    30522         711            0   6596   \n",
      "3  c5JQp6xafqc  1677026    30555         712            0   6604   \n",
      "4  c5JQp6xafqc  1681824    30585         713            0   6600   \n",
      "\n",
      "                   ct videoname  \n",
      "0 2021-10-10 15:20:03    공범 EP1  \n",
      "1 2021-10-10 15:30:03    공범 EP1  \n",
      "2 2021-10-10 15:40:02    공범 EP1  \n",
      "3 2021-10-10 15:50:03    공범 EP1  \n",
      "4 2021-10-10 16:00:03    공범 EP1  \n"
     ]
    }
   ],
   "source": [
    "# 2) 유튜브 공범 컨텐츠동영상 데이터\n",
    "import pandas as pd\n",
    "\n",
    "\"각 데이터의 ‘ct’컬럼을 시간으로 인식할수 있게 datatype을 변경하고 video 데이터의 videoname의 각 value 마다 몇개의 데이터씩 가지고 있는지 확인하라\"\n",
    "channel =pd.read_csv('https://raw.githubusercontent.com/Datamanim/datarepo/main/youtube/channelInfo.csv')\n",
    "video =pd.read_csv('https://raw.githubusercontent.com/Datamanim/datarepo/main/youtube/videoInfo.csv')\n",
    "\n",
    "channel.ct = pd.to_datetime(channel.ct)\n",
    "video.ct = pd.to_datetime(video.ct)\n",
    "#print(video.groupby([\"videoname\"])[\"videoname\"].count())\n",
    "\n",
    "\"수집된 각 video의 가장 최신화 된 날짜의 viewcount값을 출력하라\"\n",
    "print(video.head())\n",
    "#print(video.groupby([\"videopk\"])[\"viewcnt\"].max())\n"
   ]
  }
 ],
 "metadata": {
  "kernelspec": {
   "display_name": "Python 3",
   "language": "python",
   "name": "python3"
  },
  "language_info": {
   "codemirror_mode": {
    "name": "ipython",
    "version": 3
   },
   "file_extension": ".py",
   "mimetype": "text/x-python",
   "name": "python",
   "nbconvert_exporter": "python",
   "pygments_lexer": "ipython3",
   "version": "3.11.9"
  }
 },
 "nbformat": 4,
 "nbformat_minor": 2
}
