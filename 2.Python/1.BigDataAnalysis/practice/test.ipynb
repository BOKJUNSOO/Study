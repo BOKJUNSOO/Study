{
 "cells": [
  {
   "cell_type": "code",
   "execution_count": 21,
   "metadata": {},
   "outputs": [
    {
     "data": {
      "text/plain": [
       "'고객 3,500명에 대한 학습용 데이터를 이용하여 성별 예측 모형을 만든후,\\n이를 평가용 데이터에 적용하여 얻은 2,482명 고객의 성별 예측값을 csv 파일로 제출하시오'"
      ]
     },
     "execution_count": 21,
     "metadata": {},
     "output_type": "execute_result"
    }
   ],
   "source": [
    "import pandas as pd\n",
    "x_train = pd.read_csv(r\"C:\\Users\\brian\\Desktop\\JUNSOO\\study\\2.Python\\1.BigDataAnalysis\\data\\x_train.csv\")\n",
    "y_train = pd.read_csv(r\"C:\\Users\\brian\\Desktop\\JUNSOO\\study\\2.Python\\1.BigDataAnalysis\\data\\y_train.csv\")\n",
    "x_test = pd.read_csv(r\"C:\\Users\\brian\\Desktop\\JUNSOO\\study\\2.Python\\1.BigDataAnalysis\\data\\x_test.csv\")\n",
    "\n",
    "\"\"\"고객 3,500명에 대한 학습용 데이터를 이용하여 성별 예측 모형을 만든후,\n",
    "이를 평가용 데이터에 적용하여 얻은 2,482명 고객의 성별 예측값을 csv 파일로 제출하시오\"\"\""
   ]
  },
  {
   "cell_type": "code",
   "execution_count": 22,
   "metadata": {},
   "outputs": [],
   "source": [
    "test_cust_id = x_test[\"cust_id\"]\n",
    "x_train = x_train.drop(columns=\"cust_id\")\n",
    "y_train = y_train.drop(columns=\"cust_id\")\n",
    "x_test = x_test.drop(columns= \"cust_id\")"
   ]
  },
  {
   "cell_type": "code",
   "execution_count": 23,
   "metadata": {},
   "outputs": [
    {
     "name": "stderr",
     "output_type": "stream",
     "text": [
      "C:\\Users\\brian\\AppData\\Local\\Temp\\ipykernel_12168\\338643067.py:1: FutureWarning: A value is trying to be set on a copy of a DataFrame or Series through chained assignment using an inplace method.\n",
      "The behavior will change in pandas 3.0. This inplace method will never work because the intermediate object on which we are setting values always behaves as a copy.\n",
      "\n",
      "For example, when doing 'df[col].method(value, inplace=True)', try using 'df.method({col: value}, inplace=True)' or df[col] = df[col].method(value) instead, to perform the operation inplace on the original object.\n",
      "\n",
      "\n",
      "  x_train[\"환불금액\"].fillna(0, inplace=True)\n",
      "C:\\Users\\brian\\AppData\\Local\\Temp\\ipykernel_12168\\338643067.py:2: FutureWarning: A value is trying to be set on a copy of a DataFrame or Series through chained assignment using an inplace method.\n",
      "The behavior will change in pandas 3.0. This inplace method will never work because the intermediate object on which we are setting values always behaves as a copy.\n",
      "\n",
      "For example, when doing 'df[col].method(value, inplace=True)', try using 'df.method({col: value}, inplace=True)' or df[col] = df[col].method(value) instead, to perform the operation inplace on the original object.\n",
      "\n",
      "\n",
      "  x_test[\"환불금액\"].fillna(0, inplace=True)\n"
     ]
    }
   ],
   "source": [
    "x_train[\"환불금액\"].fillna(0, inplace=True)\n",
    "x_test[\"환불금액\"].fillna(0, inplace=True)"
   ]
  },
  {
   "cell_type": "code",
   "execution_count": 24,
   "metadata": {},
   "outputs": [],
   "source": [
    "# 범주형 변수 인코딩(주구매상품, 주구매지점) (라벨인코딩// 원핫인코딩// 수동)\n",
    "from sklearn.preprocessing import LabelEncoder\n",
    "encoder = LabelEncoder()\n",
    "x_train[\"주구매상품\"] = encoder.fit_transform(x_train[\"주구매상품\"])\n",
    "x_test[\"주구매상품\"] = encoder.fit_transform(x_test[\"주구매상품\"])\n",
    "\n",
    "x_train[\"주구매지점\"] = encoder.fit_transform(x_train[\"주구매지점\"])\n",
    "x_test[\"주구매지점\"] = encoder.fit_transform(x_test[\"주구매지점\"])"
   ]
  },
  {
   "cell_type": "code",
   "execution_count": 6,
   "metadata": {},
   "outputs": [],
   "source": [
    "# 파생변수 만들기 (환불금액 여부로 인코딩)\n",
    "condition = x_train[\"환불금액\"] > 0\n",
    "x_train.loc[condition , \"환불여부\"] = 1\n",
    "x_train.loc[~condition, \"환불여부\"] = 0\n",
    "\n",
    "condition2 = x_test[\"환불금액\"] > 0\n",
    "x_test.loc[condition , \"환불여부\"] = 1\n",
    "x_test.loc[~condition, \"환불여부\"] = 0\n",
    "\n",
    "x_train.drop(columns = \"환불금액\",inplace=True)\n",
    "x_test.drop(columns = \"환불금액\", inplace= True)"
   ]
  },
  {
   "cell_type": "code",
   "execution_count": 7,
   "metadata": {},
   "outputs": [],
   "source": [
    "# 표준화 크기변환\n",
    "x_train.describe().T # 총구매액, 최대구매액의 값의 단위가 너무 크다\n",
    "from sklearn.preprocessing import StandardScaler\n",
    "scaler = StandardScaler()\n",
    "x_train = pd.DataFrame(scaler.fit_transform(x_train), columns = x_train.columns)\n",
    "x_test = pd.DataFrame(scaler.fit_transform(x_test), columns = x_test.columns)\n"
   ]
  },
  {
   "cell_type": "code",
   "execution_count": 8,
   "metadata": {},
   "outputs": [],
   "source": [
    "x_train.corr()  # 최대구매액의 경우 총구매액과의 상관이 높으므로 다중공산성의 이유로 삭제\n",
    "x_train = x_train.drop(columns=\"최대구매액\")\n",
    "x_test = x_test.drop(columns=\"최대구매액\")"
   ]
  },
  {
   "cell_type": "code",
   "execution_count": 17,
   "metadata": {},
   "outputs": [
    {
     "name": "stdout",
     "output_type": "stream",
     "text": [
      "0.5568897871834503\n"
     ]
    }
   ],
   "source": [
    "# 데이터 학습시키기\n",
    "from sklearn.model_selection import train_test_split\n",
    "X_TRAIN, X_TEST, Y_TRAIN, Y_TEST = train_test_split(x_train, y_train , test_size=0.3, random_state= 10)\n",
    "\n",
    "from sklearn.tree import DecisionTreeClassifier\n",
    "model = DecisionTreeClassifier()\n",
    "model.fit(X_TRAIN, Y_TRAIN)\n",
    "y_test_predict = model.predict(X_TEST)\n",
    "\n",
    "from sklearn.metrics import roc_auc_score\n",
    "print(roc_auc_score(Y_TEST, y_test_predict))\n",
    "\n",
    "# 성별값 예측 뿐만 아니라 성별에 대한 확률은 proba 함수를 사용\n",
    "#y_test_proba = model.predict_proba(x_test)\n",
    "#y_test_proba = pd.DataFrame((y_test_proba))[1]\n",
    "\n",
    "\n",
    "\n"
   ]
  }
 ],
 "metadata": {
  "kernelspec": {
   "display_name": "Python 3",
   "language": "python",
   "name": "python3"
  },
  "language_info": {
   "codemirror_mode": {
    "name": "ipython",
    "version": 3
   },
   "file_extension": ".py",
   "mimetype": "text/x-python",
   "name": "python",
   "nbconvert_exporter": "python",
   "pygments_lexer": "ipython3",
   "version": "3.11.9"
  }
 },
 "nbformat": 4,
 "nbformat_minor": 2
}
