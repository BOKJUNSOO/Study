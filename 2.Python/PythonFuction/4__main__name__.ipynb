{
 "cells": [
  {
   "cell_type": "markdown",
   "metadata": {},
   "source": [
    "# 모듈 불러오기\n",
    "- import 모듈_이름 (파이썬 확장자를 제외한 이름)\n",
    "- from 모듈_이름 import 모듈_함수 (모듈 함수에는 class가 올 수 있다)"
   ]
  },
  {
   "cell_type": "markdown",
   "metadata": {},
   "source": [
    "# if __name__ == \"__main__\":\n",
    "\n",
    "- if __name__ == \"__main__\" 을 사용하면 python mod1.py 처럼 이 파일을 실행했을때는 if 문이 참이 되어 if문 다음 문장이 수행\n",
    "\n",
    "- 대화형 인터프리터 혹은 다른 파일에서 import해서 쓸 때는 if문이 거짓이 되어 \"if 다음 문장이 수행되지 않는다.\"\n",
    "\n",
    "- python 파일 .py 를 만들면 __name__ 변수가 할당되며 이는 \"__main__\" 이다.\n",
    "\n",
    "- import 해서 쓴 모듈 내의 if절 윗줄코드가 먼저 출력된다."
   ]
  },
  {
   "cell_type": "code",
   "execution_count": null,
   "metadata": {},
   "outputs": [],
   "source": [
    "# mod1.py\n",
    "def add(a,b):\n",
    "    return a+b\n",
    "\n",
    "print(add(5,4))\n",
    "# print(__name__)           # 3번 내용볼때 활성화시키기\n",
    "if __name__ == \"__main__\":\n",
    "    print(add(3,4))\n",
    "\n",
    "# 위 코드를 실행시키면 'if절이 참'이기 때문에 9와 7이 출력된다"
   ]
  },
  {
   "cell_type": "code",
   "execution_count": 9,
   "metadata": {},
   "outputs": [
    {
     "name": "stdout",
     "output_type": "stream",
     "text": [
      "13\n",
      "mod1\n",
      "__main__\n"
     ]
    }
   ],
   "source": [
    "# mod2.py // 주피터 노트북이 아닌 해당 셀이 mod2 모듈 이라고 가정하자.\n",
    "import mod1\n",
    "\n",
    "print(mod1.add(6,7))    # 1번\n",
    "                        # 13뿐만 아니라 9까지 같이 프린트 된다.\n",
    "                        # 그러나 7은출력되지 않는다.\n",
    "                        #>> 9, 13\n",
    "\n",
    "print(mod1.__name__)    # 2번\n",
    "                        # import한 모듈의 이름이 __name__ 변수에 저장된다.\n",
    "                        # >> mod1\n",
    "                        # if절이 mod2에서는 거짓이기 때문에 7은출력되지 않는다.\n",
    "\n",
    "print(__name__)         # 3번 \n",
    "                        # 각각의 모듈의 __name__ 은 기본적으로 \"__main__\" 이다.\n",
    "                        # mod1의 print(__name__)은 조건절 위에 있으므로 mod2에 작용된다.\n",
    "                        # >> mod1 , __main__\n",
    "                        # 즉 mod1에서 name은 main이지만, import해서 쓰면 mod1로 name 이 바뀌며\n",
    "                        #    mod2에서 name은 main이다. >> 각각의 모듈에서 고유의 name은 main이다.\n",
    "\n",
    "\n"
   ]
  }
 ],
 "metadata": {
  "kernelspec": {
   "display_name": "Python 3",
   "language": "python",
   "name": "python3"
  },
  "language_info": {
   "codemirror_mode": {
    "name": "ipython",
    "version": 3
   },
   "file_extension": ".py",
   "mimetype": "text/x-python",
   "name": "python",
   "nbconvert_exporter": "python",
   "pygments_lexer": "ipython3",
   "version": "3.11.9"
  }
 },
 "nbformat": 4,
 "nbformat_minor": 2
}
