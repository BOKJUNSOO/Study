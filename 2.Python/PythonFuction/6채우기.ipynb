{
 "cells": [
  {
   "cell_type": "markdown",
   "metadata": {},
   "source": [
    "- input (feat sys)\n",
    "- print() # parmeter = end, sep..\n",
    "- reverse() #list 내장함수\n",
    "- append()\n",
    "- format()\n",
    "- {}, : -> % * \n",
    "- f- string"
   ]
  },
  {
   "cell_type": "code",
   "execution_count": null,
   "metadata": {},
   "outputs": [],
   "source": []
  }
 ],
 "metadata": {
  "language_info": {
   "name": "python"
  }
 },
 "nbformat": 4,
 "nbformat_minor": 2
}
