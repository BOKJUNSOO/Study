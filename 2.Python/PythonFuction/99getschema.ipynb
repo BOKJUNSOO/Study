{
 "cells": [
  {
   "cell_type": "code",
   "execution_count": null,
   "metadata": {},
   "outputs": [],
   "source": [
    "import sys\n",
    "from pyspark.sql import SparkSession\n",
    "\n",
    "file_path=sys.argv[1]\n",
    "\n",
    "spark = (\n",
    "    SparkSession.builder\n",
    "        .master(\"local\")\n",
    "        .appName(\"spark-session\")\n",
    "        .config(\"spark.some.config.option\", \"some-value\")\n",
    "        .getOrCreate()\n",
    ")\n",
    "\n",
    "df = spark.read.csv(file_path, header=True, inferSchema=True)\n",
    "df.printSchema()\n",
    "\n",
    "column_descriptions = {\n",
    "    \"id\": \"게임 ID\",\n",
    "    \"rated\": \"평가된 게임 여부\",\n",
    "    \"created_at\": \"게임 생성시간\",\n",
    "    \"last_move_at\": \"마지막 수 시간\",\n",
    "    \"turns\": \"게임 내에 몇번의 턴이 진행됐는지\",\n",
    "    \"victory_status\": \"승리 상태\",\n",
    "    \"winner\": \"승자\",\n",
    "    \"increment_code\": \"증가 코드\",\n",
    "    \"white_id\": \"백색기물 사용자 ID\",\n",
    "    \"white_rating\": \"백색기물 사용자 레이팅\",\n",
    "    \"black_id\": \"흑색기물 사용자 ID\",\n",
    "    \"black_rating\": \"흑색기물 사용자 레이팅\",\n",
    "    \"moves\": \"게임 내에 말의 움직임\",\n",
    "    \"opening_eco\": \"오프닝 ECO 코드\",\n",
    "    \"opening_name\": \"오프닝 이름\",\n",
    "    \"opening_ply\": \"오프닝 수\"\n",
    "}\n",
    "\n",
    "print(f\"{'Column Name':<20} {'Data Type':<20} {'Nullable':<10} {'Description':<30}\")\n",
    "print(\"-\" * 90)\n",
    "for field in df.schema.fields:\n",
    "    description = column_descriptions.get(field.name, \"No description available\")\n",
    "    print(f\"{field.name:<20} {str(field.dataType):<20} {str(field.nullable):<10} {description:<30}\")"
   ]
  }
 ],
 "metadata": {
  "language_info": {
   "name": "python"
  }
 },
 "nbformat": 4,
 "nbformat_minor": 2
}
