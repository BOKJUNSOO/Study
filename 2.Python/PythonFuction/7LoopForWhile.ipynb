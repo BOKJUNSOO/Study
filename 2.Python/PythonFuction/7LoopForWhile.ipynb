{
 "cells": [
  {
   "cell_type": "markdown",
   "metadata": {},
   "source": [
    "- for in\n",
    "- while (try + except) feat. else, finally"
   ]
  }
 ],
 "metadata": {
  "language_info": {
   "name": "python"
  }
 },
 "nbformat": 4,
 "nbformat_minor": 2
}
