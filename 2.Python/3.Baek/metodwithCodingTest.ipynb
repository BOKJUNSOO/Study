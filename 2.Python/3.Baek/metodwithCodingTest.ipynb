{
 "cells": [
  {
   "cell_type": "markdown",
   "metadata": {},
   "source": [
    "#### 값 입력받기"
   ]
  },
  {
   "cell_type": "code",
   "execution_count": null,
   "metadata": {},
   "outputs": [],
   "source": [
    "#1. 값 두 개를 입력받아 변수 a와 b에 저장 (띄어쓰기 구분)\n",
    "a, b = input().split() #문자열로\n",
    "a, b = map(int, input().split()) #정수형으로\n",
    "a, b = map(float, input().split()) #실수형으로 \n",
    "\n",
    "#2. 1차원 배열 입력받기 = 정수형 리스트로 저장\n",
    "num_list = list(map(int, input().split())) #입력 : 1 2 3 /출력 : [1, 2, 3] \n",
    "\n",
    "#3. 문자열 여러줄 입력받기 \n",
    "s_list = [input() for _ in range(n)] #예시로 n에 3넣어 3줄 입력받기(엔터로 구분)\n",
    "\n",
    "#4. 한 문자열(숫자ex.12345) 받아서 한 글자씩 나누어 더하기\n",
    "s = input()\n",
    "for i in range(len(s)):\n",
    "\tsum += int(s[i])  #문자열은 슬라이싱 가능!! + 문자열 형변환\n"
   ]
  },
  {
   "cell_type": "code",
   "execution_count": 16,
   "metadata": {},
   "outputs": [
    {
     "name": "stdout",
     "output_type": "stream",
     "text": [
      "[0, 0, 0, 0]\n",
      "[[1, 2, 3, 4], [1, 2, 3, 4], [1, 1, 2, 3], [2, 4, 2, 4]]\n",
      "[[0, 0, 0, 0], [5, 9, 4, 9], [2, 9, 3, 9], [3, 0, 4, 0, 2]]\n"
     ]
    }
   ],
   "source": [
    "# 2차원 배열 입력받기 (행렬)\n",
    "row = 4\n",
    "arr = [0] * row\n",
    "print(arr)\n",
    "\n",
    "# method 1 arr 원소에 하나씩 대입\n",
    "for i in range(row):\n",
    "    arr[i] = list(map(int, input())) \n",
    "print(arr)\n",
    "\n",
    "# method 2 리스트 초기화 하고 작성\n",
    "arr = [list(map(int, input())) for _ in range(row)]\n",
    "print(arr)"
   ]
  },
  {
   "cell_type": "code",
   "execution_count": null,
   "metadata": {},
   "outputs": [],
   "source": [
    "# 간선리스트와 그래프\n",
    "node = 7 # 1 ~ 6번 노드\n",
    "graph = [[] for _ in range(node)]\n",
    "edge = [(1, 2), (1, 5), (2, 1), (2, 3),\n",
    "        (2, 4), (2, 5), (3, 2), (3, 4),\n",
    "        (3, 4), (4, 2), (4, 3), (4, 5), \n",
    "        (4, 6), (5, 1), (5, 2), (5, 4), (6, 4)] # 간선정보\n",
    "for u,v in edge:\n",
    "    graph[u].append(v)\n",
    "    graph.sort()\n",
    "print(graph)\n",
    "\n",
    "node = int(input())+1 # dummy node\n",
    "edge = int(input()) # 간선수\n",
    "graph = [[] for _ in range(node)] # 그래프 초기화\n",
    "for i in range(edge):\n",
    "    n,m = map(int, input().split())\n",
    "    graph[n] += [m]\n",
    "    graph[m] += [n]\n",
    "print(graph)"
   ]
  },
  {
   "cell_type": "markdown",
   "metadata": {},
   "source": [
    "#### 라이브러리\n",
    "### copy, sys, collections, itertools"
   ]
  },
  {
   "cell_type": "code",
   "execution_count": 15,
   "metadata": {},
   "outputs": [
    {
     "name": "stdout",
     "output_type": "stream",
     "text": [
      "([0, 2], [3, 0], [4, 2])\n",
      "0 2\n",
      "hi\n",
      "3 0\n",
      "hi\n",
      "4 2\n",
      "hi\n"
     ]
    }
   ],
   "source": [
    "from itertools import combinations\n",
    "# \n",
    "graph = [[1,1,0,3,1],\n",
    "         [1,1,2,1,1],\n",
    "         [1,1,1,1,1],\n",
    "         [0,1,1,1,1],\n",
    "         [1,1,0,1,1]\n",
    "         ]\n",
    "wall = []\n",
    "for i in range(5):\n",
    "    for j in range(5):\n",
    "        if graph[i][j] == 0:\n",
    "            #iter객체의 원소를 두개의 원소를 가지는 리스트로 저장\n",
    "            wall.append([i,j]) \n",
    "# print(wall)\n",
    "# >> [[0, 2], [3, 0], [4, 2]]\n",
    "# iter 객체의 원소를 3개 선택해서 튜플로 저장한다\n",
    "com = list(combinations(wall,3))\n",
    "# print(com)\n",
    "# >> [([0, 2], [3, 0]),\n",
    "#     ([0, 2], [4, 2]),\n",
    "#     ([3, 0], [4, 2])]\n",
    "\n",
    "for i in com:\n",
    "    print((i))\n",
    "    for x,y in i:\n",
    "        print(x,y)\n",
    "        print(\"hi\")\n",
    "\n",
    "a = [1,2,3]\n",
    "com2 = list(combinations(a,2))\n",
    "# print(com2.pop()) \n",
    "# >> (2,3)\n",
    "\n",
    "\n"
   ]
  },
  {
   "cell_type": "code",
   "execution_count": null,
   "metadata": {},
   "outputs": [],
   "source": [
    "from collections import deque"
   ]
  },
  {
   "cell_type": "code",
   "execution_count": null,
   "metadata": {},
   "outputs": [],
   "source": [
    "import sys\n",
    "# DFS 구현시 재귀깊이 확인\n",
    "sys.setrecursionlimit(10**6)\n",
    "# 입력받는 크기가 정해져 있지 않을때"
   ]
  },
  {
   "cell_type": "code",
   "execution_count": null,
   "metadata": {},
   "outputs": [
    {
     "name": "stdout",
     "output_type": "stream",
     "text": [
      "[[1, 2], [3, 4, 5]]\n",
      "[[1, 2], [3, 4, 5]]\n"
     ]
    }
   ],
   "source": [
    "# 깊은복사\n",
    "import copy\n",
    "a = [[1,2],[3,4]]\n",
    "b = copy.copy(a)\n",
    "a[1].append(5)\n",
    "print(a)\n",
    "print(b)"
   ]
  },
  {
   "cell_type": "code",
   "execution_count": 27,
   "metadata": {},
   "outputs": [
    {
     "name": "stdout",
     "output_type": "stream",
     "text": [
      "[1, 2, 3, 4]\n",
      "1000000000.0\n"
     ]
    }
   ],
   "source": [
    "n = 5\n",
    "go = list(range(1,n))\n",
    "print(go)\n",
    "print(1e9)"
   ]
  },
  {
   "cell_type": "code",
   "execution_count": null,
   "metadata": {},
   "outputs": [
    {
     "name": "stdout",
     "output_type": "stream",
     "text": [
      "[0]\n"
     ]
    }
   ],
   "source": [
    "#arr = list(map(int, input())) # 12345 input # split이 있다면 12345 를 한 원소로 저장\n",
    "#print(arr)  # [1,2,3,4,5]\n",
    "arr = list(map(int,input().split()))\n",
    "print(arr)  "
   ]
  },
  {
   "cell_type": "markdown",
   "metadata": {},
   "source": [
    "- map(fuction, iterable)\n",
    "\n",
    " > arr = list(map(int,input()))\n",
    " >1) input()으로 string이 들어오고 literable 하기 때문에 각각의 인덱스로 접근하여 정수로 mapping\n",
    " >2) 각각 mapping 한 정수들을 list로 저장 "
   ]
  },
  {
   "cell_type": "code",
   "execution_count": null,
   "metadata": {},
   "outputs": [
    {
     "name": "stdout",
     "output_type": "stream",
     "text": [
      "[0, 0, 0]\n",
      "[1, 0, 0]\n",
      "잘못된 방법의 초기화 결과 : [[0, 1, 0], [0, 1, 0], [0, 1, 0]]\n",
      "제대로된 방법1의 초기화 결과: [[0, 0, 0], [0, 1, 0], [0, 0, 0]]\n",
      "제대로된 방법2의 초기화 결과: [[0, 0, 0], [0, 0, 1], [0, 0, 0]]\n"
     ]
    }
   ],
   "source": [
    "## list is mutable\n",
    "# append(value), remove(value), insert(index, value), count(vlaue), A[i:j]\n",
    "\n",
    "# 초기화 연산\n",
    "C = [0] * 3\n",
    "print(C)\n",
    "C[0] = 1 # 정수객체는 immutable 이라 새로운 값 1에 대한 객체 생성됨\n",
    "print(C)\n",
    "\n",
    "# n차원 리스트 초기화\n",
    "# 잘못된 방법의 초기화\n",
    "A = [[0] * 3] *3\n",
    "A[1][1] = 1 # A[0], A[1], A[2] 모두 일차원리스트 [0,0,0]을 가르킨다.\n",
    "            # list 는 mutable 하기 때문에  \n",
    "            # A[1][1] 로 초기화하면 A[0][1], A[1][1], A[2][1] 모두 1을 가르키게된다.\n",
    "print(\"잘못된 방법의 초기화 결과 :\",A)\n",
    "\n",
    "# 제대로된 방법의 초기화 1번\n",
    "A = []\n",
    "for i in range(3):\n",
    "    A.append([0]*3)\n",
    "A[1][1] = 1\n",
    "print(\"제대로된 방법1의 초기화 결과:\",A)\n",
    "\n",
    "# 제대로된 방법의 초기화 2번 - 리스트 컴프리핸션\n",
    "A = [[0,0,0] for _ in range(3)]\n",
    "A[1][2] = 1\n",
    "print(\"제대로된 방법2의 초기화 결과:\",A)"
   ]
  },
  {
   "cell_type": "code",
   "execution_count": null,
   "metadata": {},
   "outputs": [],
   "source": [
    "# 2차원 리스트 정렬\n",
    "ex_list = [[1,2],[0,4],[7,9]]\n",
    "\n",
    "# 각 원소의 첫번째 인덱스를 기준으로 sort\n",
    "ex_list.sort()  # [[0, 4], [1, 2], [7, 9]]\n",
    "\n",
    "# 특정 인덱스를 기준으로 sort\n",
    "ex_list.sort(key = lambda x:x[1]) #[[1, 2], [0, 4], [7, 9]]\n",
    "\n",
    "# 튜블로 sorting\n",
    "ex_list = [[1,2],[8,3],[2,9],[5,6],[1,5],[5,5]]\n",
    "ex_list.sort(key = lambda x:(x[0])) # [[1, 2], [1, 5], [2, 9], [5, 6], [5, 5], [8, 3]]\n",
    "ex_list.sort(key= lambda x:(x[0],x[1])) # [[1, 2], [1, 5], [2, 9], [5, 5], [5, 6], [8, 3]]"
   ]
  },
  {
   "cell_type": "code",
   "execution_count": 24,
   "metadata": {},
   "outputs": [
    {
     "name": "stdout",
     "output_type": "stream",
     "text": [
      "[[1, 1, 1], [0, 1, 0], [0, 0, 0]]\n"
     ]
    }
   ],
   "source": [
    "# 2차원 배열 뒤집기 함수(3x3 행렬)\n",
    "my_arr = [[0,0,0],[1,0,1],[1,1,1]]\n",
    "def change(arr:list,l=0,m=0):\n",
    "    # 특정 행에 대해서\n",
    "    for x in range(l+3):\n",
    "        # 해당 행의 원소들 (특정 행열) 을 모두 확인\n",
    "        for y in range(m+3):\n",
    "            if arr[x][y] == 0:\n",
    "                arr[x][y] =1\n",
    "            else:\n",
    "                arr[x][y] =0\n",
    "change(my_arr)\n",
    "print(my_arr)\n",
    "            "
   ]
  },
  {
   "cell_type": "code",
   "execution_count": null,
   "metadata": {},
   "outputs": [],
   "source": [
    "# 리스트 연산 덧셈 및 추가..\n",
    "arr = []\n",
    "arr1 = [1,2,3,4]\n",
    "arr2 = [6,7,\"*\",\"\"]\n",
    "# 리스트 덧셈연산은 위치에 따라 결과 리스트를 조정할 수 있다\n",
    "arr = arr2 + arr1\n",
    "print(\"multiple method\",arr)\n",
    "\n",
    "# extend 연산은 인자값의 원소들을 그대로 추가한다\n",
    "arr = []\n",
    "arr.extend(arr1)\n",
    "arr.extend(arr2)\n",
    "print(\"extend method\",arr)"
   ]
  },
  {
   "cell_type": "code",
   "execution_count": null,
   "metadata": {},
   "outputs": [],
   "source": [
    "# list swap 연산!\n",
    "\n",
    "list = [1,2,3]\n",
    "# 0번인덱스와 1번인덱스를 교환하고 싶을때\n",
    "list[0] = list[1] # 1번인덱스의 값을 0번인덱스로 대입\n",
    "list[1] = list[0] # 문제발생 0번인덱스는 바뀌고 난 값이므로 1이아닌 2가저장\n",
    "\n",
    "list = [1,2,3]\n",
    "list[0], list[1] = list[1], list[0] # swap 진행 복사가 한번에 이루어짐!\n",
    "print(list)"
   ]
  },
  {
   "cell_type": "code",
   "execution_count": null,
   "metadata": {},
   "outputs": [],
   "source": [
    "# python numpy의 array 자료구조\n",
    "import numpy as np\n",
    "\n",
    "# numpy 객체생성\n",
    "A = np.arange(10)\n",
    "\n",
    "# numpy array 과 python list의 특징과 차이점\n",
    " # 1) 인덱스로 접근\n",
    " # 2) mutable\n",
    " # 3) 한 종류 타입의 값만 저장 가능하다\n",
    " # 4) 배열단위의 연산이 빠르고, 메모리를 list 보다 적게 사용한다\n",
    "\n",
    "import sys\n",
    "S = [1,2,3,4,5,6,7,8,9,10]\n",
    "print(S, sys.getsizeof(S) , \"\\t\")\n",
    "\n",
    "B = [1,2,3,4,5,6,7,8,9,10] * 7\n",
    "print(B, sys.getsizeof(B) , \"\\t\")"
   ]
  },
  {
   "cell_type": "code",
   "execution_count": null,
   "metadata": {},
   "outputs": [],
   "source": [
    "# string 연산\n",
    "a = int(input())\n",
    "s = [None] * a\n",
    "# s = []\n",
    "for i in range(a):\n",
    "    s[i] = input()  # index 유의 ! list(range(3)) = [0,1,2]\n",
    "                    # 대입이아닌 append 연산하면 list길이 늘어남\n",
    "for i in s:\n",
    "    print(i[0],i[-1],sep=\"\")    # print 파라미터.."
   ]
  },
  {
   "cell_type": "code",
   "execution_count": null,
   "metadata": {},
   "outputs": [],
   "source": [
    "# 문자열 메서드 예시\n",
    "\n",
    "# 1. lower()\n",
    "s = \"Hello\"\n",
    "print(s.lower())  # 출력: \"hello\"\n",
    "\n",
    "# 2. upper()\n",
    "print(s.upper())  # 출력: \"HELLO\"\n",
    "\n",
    "# 3. strip()\n",
    "s_with_spaces = \"  Hello  \"\n",
    "print(s_with_spaces.strip())  # 출력: \"Hello\"\n",
    "\n",
    "# 4. replace()\n",
    "s = \"Hello World\"\n",
    "print(s.replace(\"World\", \"Python\"))  # 출력: \"Hello Python\"\n",
    "\n",
    "# 5. split()\n",
    "print(s.split(\" \"))  # 출력: [\"Hello\", \"World\"]\n",
    "\n",
    "# 6. join()\n",
    "words = [\"Hello\", \"World\"]\n",
    "print(\", \".join(words))  # 출력: \"Hello, World\"\n",
    "\n",
    "# 7. find()\n",
    "print(s.find(\"e\"))  # 출력: 1\n",
    "\n",
    "# 8. count()\n",
    "print(s.count(\"l\"))  # 출력: 3\n",
    "\n",
    "# 9. startswith()\n",
    "print(s.startswith(\"He\"))  # 출력: True\n",
    "\n",
    "# 10. endswith()\n",
    "print(s.endswith(\"lo\"))  # 출력: True\n",
    "\n",
    "# 11. capitalize()\n",
    "print(\"hello\".capitalize())  # 출력: \"Hello\"\n",
    "\n",
    "# 12. title()\n",
    "print(\"hello world\".title())  # 출력: \"Hello World\"\n",
    "\n",
    "# 13. isdigit()\n",
    "print(\"123\".isdigit())  # 출력: True\n",
    "\n",
    "# 14. isalpha()\n",
    "print(\"abc\".isalpha())  # 출력: True\n"
   ]
  },
  {
   "cell_type": "code",
   "execution_count": null,
   "metadata": {},
   "outputs": [],
   "source": [
    "# ascii code\n",
    "a = input()\n",
    "print(ord(a))\n",
    "# chr"
   ]
  },
  {
   "cell_type": "code",
   "execution_count": null,
   "metadata": {},
   "outputs": [],
   "source": [
    "# 문자열\n",
    "a = int(input())\n",
    "b = input()\n",
    "result = 0\n",
    "for i in range(len(b)):\n",
    "    result += int(b[i]) #string의 인덱스를 가져와서 int 변환후 더해준다.\n",
    "print(result)"
   ]
  },
  {
   "cell_type": "code",
   "execution_count": null,
   "metadata": {},
   "outputs": [],
   "source": [
    "key = [\"name\",\"age\",\"sex\",\"heigh\"]\n",
    "value = [\"junsoo\",\"28\",\"male\",\"180\"]\n",
    "\n",
    "# zip 함수를 사용해 dict 생성: zip(key list, value list)\n",
    "di = dict(zip(key,value))\n",
    "print(di)\n",
    "\n",
    "# dict 컴프리헨션\n",
    "string_list = [\"a\",\"b\",\"c\"]\n",
    "\n",
    "di = {string : 0 for string in string_list}\n",
    "print(di)\n",
    "\n",
    "di = {string : i for i, string in enumerate(string_list)}\n",
    "print(di)\n",
    "\n",
    "di = {i : string_list[i] for i in range(len(string_list))}\n",
    "print(di)\n",
    "\n",
    "# list 컴프리헨션으로 max value 찾기\n",
    "key = [\"b\",\"o\",\"k\",\"j\"]\n",
    "value = [2,7,7,6]\n",
    "di = dict(zip(key,value))\n",
    "\n",
    "max_list = [k for k , v in di.items() if max(di.values())== v]\n",
    "print(max_list)"
   ]
  }
 ],
 "metadata": {
  "kernelspec": {
   "display_name": "Python 3",
   "language": "python",
   "name": "python3"
  },
  "language_info": {
   "codemirror_mode": {
    "name": "ipython",
    "version": 3
   },
   "file_extension": ".py",
   "mimetype": "text/x-python",
   "name": "python",
   "nbconvert_exporter": "python",
   "pygments_lexer": "ipython3",
   "version": "3.12.7"
  }
 },
 "nbformat": 4,
 "nbformat_minor": 2
}
