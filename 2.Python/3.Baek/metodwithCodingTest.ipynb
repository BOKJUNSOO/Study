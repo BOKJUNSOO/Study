{
 "cells": [
  {
   "cell_type": "code",
   "execution_count": null,
   "metadata": {},
   "outputs": [],
   "source": [
    "#1. 값 두 개를 입력받아 변수 a와 b에 저장 (띄어쓰기 구분)\n",
    "a, b = input().split() #문자열로\n",
    "a, b = map(int, input().split()) #정수형으로\n",
    "a, b = map(float, input().split()) #실수형으로 \n",
    "\n",
    "#2. 1차원 배열 입력받기 = 정수형 리스트로 저장\n",
    "num_list = list(map(int, input().split())) #입력 : 1 2 3 /출력 : [1, 2, 3] \n",
    "\n",
    "#3. 문자열 여러줄 입력받기 \n",
    "s_list = [input() for _ in range(n)] #예시로 n에 3넣어 3줄 입력받기(엔터로 구분)\n",
    "\n",
    "#4. 한 문자열(숫자ex.12345) 받아서 한 글자씩 나누어 더하기\n",
    "s = input()\n",
    "for i in range(len(s)):\n",
    "\tsum += int(s[i])  #문자열은 슬라이싱 가능!! + 문자열 형변환\n"
   ]
  },
  {
   "cell_type": "code",
   "execution_count": null,
   "metadata": {},
   "outputs": [
    {
     "name": "stdout",
     "output_type": "stream",
     "text": [
      "[[1, 1, 1, 1], [2, 2, 2, 2], [3, 3, 3, 3], [4, 4, 4, 4]]\n",
      "[[5, 5, 5, 5], [6, 6, 6, 6], [7, 7, 7, 7], [8, 8, 8, 8]]\n"
     ]
    }
   ],
   "source": [
    "# 2차원 배열 입력받기 (행렬)\n",
    "row = 4\n",
    "arr = [0] * row\n",
    "\n",
    "# method 1 arr 원소에 하나씩 대입\n",
    "for i in range(row):\n",
    "    arr[i] = list(map(int, input())) \n",
    "print(arr)\n",
    "\n",
    "# method 2 리스트 초기화 하고 작성\n",
    "arr = [list(map(int, input())) for _ in range(row)]\n",
    "print(arr)"
   ]
  },
  {
   "cell_type": "code",
   "execution_count": 1,
   "metadata": {},
   "outputs": [
    {
     "name": "stdout",
     "output_type": "stream",
     "text": [
      "[1, 2, 3, 4, 5]\n"
     ]
    }
   ],
   "source": [
    "arr = list(map(int, input())) # 12345 input\n",
    "print(arr)  # [1,2,3,4,5]"
   ]
  },
  {
   "cell_type": "markdown",
   "metadata": {},
   "source": [
    "- map(fuction, iterable)\n",
    "\n",
    " > arr = list(map(int,input()))\n",
    " >1) input()으로 string이 들어오고 literable 하기 때문에 각각의 인덱스로 접근하여 정수로 mapping\n",
    " >2) 각각 mapping 한 정수들을 list로 저장 "
   ]
  },
  {
   "cell_type": "code",
   "execution_count": 23,
   "metadata": {},
   "outputs": [
    {
     "name": "stdout",
     "output_type": "stream",
     "text": [
      "[0, 0, 0]\n",
      "[1, 0, 0]\n",
      "잘못된 방법의 초기화 결과 : [[0, 1, 0], [0, 1, 0], [0, 1, 0]]\n",
      "제대로된 방법1의 초기화 결과: [[0, 0, 0], [0, 1, 0], [0, 0, 0]]\n",
      "제대로된 방법2의 초기화 결과: [[0, 0, 0], [0, 0, 1], [0, 0, 0]]\n"
     ]
    }
   ],
   "source": [
    "## list is mutable\n",
    "# append(value), remove(value), insert(index, value), count(vlaue), A[i:j]\n",
    "\n",
    "# 초기화 연산\n",
    "C = [0] * 3\n",
    "print(C)\n",
    "C[0] = 1 # 정수객체는 immutable 이라 새로운 값 1에 대한 객체 생성됨\n",
    "print(C)\n",
    "\n",
    "# n차원 리스트 초기화\n",
    "# 잘못된 방법의 초기화\n",
    "A = [[0] * 3] *3\n",
    "A[1][1] = 1 # A[0], A[1], A[2] 모두 일차원리스트 [0,0,0]을 가르킨다.\n",
    "            # list 는 mutable 하기 때문에  \n",
    "            # A[1][1] 로 초기화하면 A[0][1], A[1][1], A[2][1] 모두 1을 가르키게된다.\n",
    "print(\"잘못된 방법의 초기화 결과 :\",A)\n",
    "\n",
    "# 제대로된 방법의 초기화 1번\n",
    "A = []\n",
    "for i in range(3):\n",
    "    A.append([0]*3)\n",
    "A[1][1] = 1\n",
    "print(\"제대로된 방법1의 초기화 결과:\",A)\n",
    "\n",
    "# 제대로된 방법의 초기화 2번\n",
    "A = [[0,0,0] for _ in range(3)]\n",
    "A[1][2] = 1\n",
    "print(\"제대로된 방법2의 초기화 결과:\",A)"
   ]
  },
  {
   "cell_type": "code",
   "execution_count": null,
   "metadata": {},
   "outputs": [],
   "source": [
    "n = 5\n",
    "# 2차원 배열 초기화시 주의할것\n",
    "list1 = [[0]*2] * n #[[0, 0], [0, 0], [0, 0], [0, 0], [0, 0]]\n",
    "list2 = [[0]*2 for _ in range(n)]   #[[0, 0], [0, 0], [0, 0], [0, 0], [0, 0]]\n",
    "\n",
    "list1[0][1] = 2\n",
    "list2[0][1] = 2\n",
    "print(list1)    # [[0, 2], [0, 2], [0, 2], [0, 2], [0, 2]]\n",
    "print(list2)    # [[0, 2], [0, 0], [0, 0], [0, 0], [0, 0]]"
   ]
  },
  {
   "cell_type": "code",
   "execution_count": null,
   "metadata": {},
   "outputs": [],
   "source": [
    "# 2차원 리스트 정렬\n",
    "ex_list = [[1,2],[0,4],[7,9]]\n",
    "\n",
    "# 각 원소의 첫번째 인덱스를 기준으로 sort\n",
    "ex_list.sort()  # [[0, 4], [1, 2], [7, 9]]\n",
    "\n",
    "# 특정 인덱스를 기준으로 sort\n",
    "ex_list.sort(key = lambda x:x[1]) #[[1, 2], [0, 4], [7, 9]]\n",
    "\n",
    "# 튜블로 sorting\n",
    "ex_list = [[1,2],[8,3],[2,9],[5,6],[1,5],[5,5]]\n",
    "ex_list.sort(key = lambda x:(x[0])) # [[1, 2], [1, 5], [2, 9], [5, 6], [5, 5], [8, 3]]\n",
    "ex_list.sort(key= lambda x:(x[0],x[1])) # [[1, 2], [1, 5], [2, 9], [5, 5], [5, 6], [8, 3]]"
   ]
  },
  {
   "cell_type": "code",
   "execution_count": 24,
   "metadata": {},
   "outputs": [
    {
     "name": "stdout",
     "output_type": "stream",
     "text": [
      "[[1, 1, 1], [0, 1, 0], [0, 0, 0]]\n"
     ]
    }
   ],
   "source": [
    "# 2차원 배열 뒤집기 함수(3x3 행렬)\n",
    "my_arr = [[0,0,0],[1,0,1],[1,1,1]]\n",
    "def change(arr:list,l=0,m=0):\n",
    "    # 특정 행에 대해서\n",
    "    for x in range(l+3):\n",
    "        # 해당 행의 원소들 (특정 행열) 을 모두 확인\n",
    "        for y in range(m+3):\n",
    "            if arr[x][y] == 0:\n",
    "                arr[x][y] =1\n",
    "            else:\n",
    "                arr[x][y] =0\n",
    "change(my_arr)\n",
    "print(my_arr)\n",
    "            "
   ]
  },
  {
   "cell_type": "code",
   "execution_count": null,
   "metadata": {},
   "outputs": [],
   "source": [
    "# 10810\n",
    "# 리스트 초기화\n",
    "a, b = map(int, input().split())    # map(fuction, literabe)\n",
    "                                    # input은 기본적으로 str을 입력받음\n",
    "list = [0] * a  # 1차원 리스트 초기화 생성(list 대입연산은 literable 해야함)\n",
    "for i in range(b):\n",
    "    c,d,e = map(int,input().split())\n",
    "    newlist = [e] * ((d)-(c-1)) # 대입시킬 새로운 list 생성\n",
    "    list[c-1:d] = newlist   # slicing 한 list에 대입연산은 literable 해야함!(new_list 가능)\n",
    "\n",
    "for i in list:\n",
    "    print(i, end=\" \")\n"
   ]
  },
  {
   "cell_type": "code",
   "execution_count": null,
   "metadata": {},
   "outputs": [],
   "source": [
    "# 10813\n",
    "a,b = map(int,input().split())\n",
    "list = []\n",
    "for i in range(a):  # 채워진 바구니 만들기\n",
    "    list.append(i+1)\n",
    "for i in range(b):  # 입력받은 b번동안 교환을 진행\n",
    "    c,d = map(int,input().split())\n",
    "    list[c-1],list[d-1] = list[d-1],list[c-1]\n",
    "for i in list:\n",
    "    print(i,end = \" \")  # 리스트내의 원소를 한줄에 출력 end 파라미터 기억하기!"
   ]
  },
  {
   "cell_type": "code",
   "execution_count": null,
   "metadata": {},
   "outputs": [],
   "source": [
    "# 1546\n",
    "a = int(input())\n",
    "list = list(map(int, input().split())) # 유동적으로 값을 입력받기 (list)\n",
    "list.sort()\n",
    "m = list[a-1]\n",
    "def cal(max_score,score_list):\n",
    "    for i in range(a):\n",
    "        score_list[i] = score_list[i]/max_score*100\n",
    "    s = sum(score_list)\n",
    "    return s\n",
    "s = cal(m,list)\n",
    "result = s/a\n",
    "print(result)"
   ]
  },
  {
   "cell_type": "code",
   "execution_count": null,
   "metadata": {},
   "outputs": [],
   "source": [
    "# list swap 연산!\n",
    "\n",
    "list = [1,2,3]\n",
    "# 0번인덱스와 1번인덱스를 교환하고 싶을때\n",
    "list[0] = list[1] # 1번인덱스의 값을 0번인덱스로 대입\n",
    "list[1] = list[0] # 문제발생 0번인덱스는 바뀌고 난 값이므로 1이아닌 2가저장\n",
    "\n",
    "list = [1,2,3]\n",
    "list[0], list[1] = list[1], list[0] # swap 진행 복사가 한번에 이루어짐!\n",
    "print(list)"
   ]
  },
  {
   "cell_type": "code",
   "execution_count": null,
   "metadata": {},
   "outputs": [],
   "source": [
    "# python numpy의 array 자료구조\n",
    "import numpy as np\n",
    "\n",
    "# numpy 객체생성\n",
    "A = np.arange(10)\n",
    "\n",
    "# numpy array 과 python list의 특징과 차이점\n",
    " # 1) 인덱스로 접근\n",
    " # 2) mutable\n",
    " # 3) 한 종류 타입의 값만 저장 가능하다\n",
    " # 4) 배열단위의 연산이 빠르고, 메모리를 list 보다 적게 사용한다\n",
    "\n",
    "import sys\n",
    "S = [1,2,3,4,5,6,7,8,9,10]\n",
    "print(S, sys.getsizeof(S) , \"\\t\")\n",
    "\n",
    "B = [1,2,3,4,5,6,7,8,9,10] * 7\n",
    "print(B, sys.getsizeof(B) , \"\\t\")"
   ]
  },
  {
   "cell_type": "code",
   "execution_count": null,
   "metadata": {},
   "outputs": [],
   "source": [
    "# string 연산\n",
    "a = int(input())\n",
    "s = [None] * a\n",
    "# s = []\n",
    "for i in range(a):\n",
    "    s[i] = input()  # index 유의 ! list(range(3)) = [0,1,2]\n",
    "                    # 대입이아닌 append 연산하면 list길이 늘어남\n",
    "for i in s:\n",
    "    print(i[0],i[-1],sep=\"\")    # print 파라미터.."
   ]
  },
  {
   "cell_type": "code",
   "execution_count": null,
   "metadata": {},
   "outputs": [],
   "source": [
    "# 문자열 메서드 예시\n",
    "\n",
    "# 1. lower()\n",
    "s = \"Hello\"\n",
    "print(s.lower())  # 출력: \"hello\"\n",
    "\n",
    "# 2. upper()\n",
    "print(s.upper())  # 출력: \"HELLO\"\n",
    "\n",
    "# 3. strip()\n",
    "s_with_spaces = \"  Hello  \"\n",
    "print(s_with_spaces.strip())  # 출력: \"Hello\"\n",
    "\n",
    "# 4. replace()\n",
    "s = \"Hello World\"\n",
    "print(s.replace(\"World\", \"Python\"))  # 출력: \"Hello Python\"\n",
    "\n",
    "# 5. split()\n",
    "print(s.split(\" \"))  # 출력: [\"Hello\", \"World\"]\n",
    "\n",
    "# 6. join()\n",
    "words = [\"Hello\", \"World\"]\n",
    "print(\", \".join(words))  # 출력: \"Hello, World\"\n",
    "\n",
    "# 7. find()\n",
    "print(s.find(\"e\"))  # 출력: 1\n",
    "\n",
    "# 8. count()\n",
    "print(s.count(\"l\"))  # 출력: 3\n",
    "\n",
    "# 9. startswith()\n",
    "print(s.startswith(\"He\"))  # 출력: True\n",
    "\n",
    "# 10. endswith()\n",
    "print(s.endswith(\"lo\"))  # 출력: True\n",
    "\n",
    "# 11. capitalize()\n",
    "print(\"hello\".capitalize())  # 출력: \"Hello\"\n",
    "\n",
    "# 12. title()\n",
    "print(\"hello world\".title())  # 출력: \"Hello World\"\n",
    "\n",
    "# 13. isdigit()\n",
    "print(\"123\".isdigit())  # 출력: True\n",
    "\n",
    "# 14. isalpha()\n",
    "print(\"abc\".isalpha())  # 출력: True\n"
   ]
  },
  {
   "cell_type": "code",
   "execution_count": null,
   "metadata": {},
   "outputs": [],
   "source": [
    "# ascii code\n",
    "a = input()\n",
    "print(ord(a))\n",
    "# chr"
   ]
  },
  {
   "cell_type": "code",
   "execution_count": null,
   "metadata": {},
   "outputs": [],
   "source": [
    "# 문자열\n",
    "a = int(input())\n",
    "b = input()\n",
    "result = 0\n",
    "for i in range(len(b)):\n",
    "    result += int(b[i]) #string의 인덱스를 가져와서 int 변환후 더해준다.\n",
    "print(result)"
   ]
  },
  {
   "cell_type": "code",
   "execution_count": null,
   "metadata": {},
   "outputs": [],
   "source": [
    "# 틀린문제\n",
    "S = input()\n",
    "test = \"abcdefghijklmnopqrstuvwxyz\"\n",
    "list = [None] * 26\n",
    "for i in test:\n",
    "    if i in S:\n",
    "        print(S.index(i), end=' ')  #str의 index 메서드는 처음 등장하는 인덱스를 리턴\n",
    "    else:\n",
    "        print(-1, end = \" \")"
   ]
  },
  {
   "cell_type": "code",
   "execution_count": null,
   "metadata": {},
   "outputs": [],
   "source": [
    "# 문자열 연산 풀이1 #인풋동작확인\n",
    "T = int(input())\n",
    "output = \"\"\n",
    "for i in range(T):\n",
    "    str = input()\n",
    "    R = str[0]\n",
    "    S = str[2:]\n",
    "    for j in range(len(S)):\n",
    "        output += S[j] * int(R)\n",
    "    print(output)\n",
    "    output = \"\" # output 초기화!"
   ]
  },
  {
   "cell_type": "code",
   "execution_count": null,
   "metadata": {},
   "outputs": [],
   "source": [
    "# 풀이2\n",
    "T = int(input())\n",
    "for i in range(T):\n",
    "    cnt, word = input().split()\n",
    "    for x in word:\n",
    "        print(x*int(cnt), end =\"\")\n",
    "    #print() # 줄넘김!"
   ]
  },
  {
   "cell_type": "code",
   "execution_count": null,
   "metadata": {},
   "outputs": [],
   "source": [
    "str = input()\n",
    "if str[0] != \" \" and str[-1] != \" \":\n",
    "    output = 1\n",
    "    for i in range(len(str)):\n",
    "        if str[i] == \" \":\n",
    "            output += 1\n",
    "        else:\n",
    "            continue\n",
    "    print(output)\n",
    "\n",
    "if str[0] == \" \" and str[-1] != \" \":\n",
    "    output = 0\n",
    "    for i in range(len(str)):\n",
    "        if str[i] == \" \":\n",
    "            output += 1\n",
    "        else:\n",
    "            continue\n",
    "    print(output)\n",
    "\n",
    "if str[-1] == \" \" and str[0] != \" \":\n",
    "    output = 0\n",
    "    for i in range(len(str)):\n",
    "        if str[i] == \" \":\n",
    "            output += 1\n",
    "        else:\n",
    "            continue\n",
    "    print(output)\n",
    "    \n",
    "if str[0] == \" \" and str[-1] == \" \":\n",
    "    output = -1\n",
    "    for i in range(len(str)):\n",
    "        if str[i] == \" \":\n",
    "            output += 1\n",
    "        else:\n",
    "            continue\n",
    "    print(output)\n",
    "\n",
    "# 같은결과 단어수 세기\n",
    "str = input().split() # 단순 input 은 string 으로 받고, split 메서드는 리스트로 변환\n",
    "print(len(str))\n"
   ]
  },
  {
   "cell_type": "code",
   "execution_count": null,
   "metadata": {},
   "outputs": [],
   "source": [
    "# solve1)\n",
    "num1, num2 = map(int, input().split())\n",
    "h1 = num1//100\n",
    "h2 = num2//100\n",
    "t1 = num1//10\n",
    "t2 = num2//10\n",
    "c1 = num1 -(h1 + t1*10)\n",
    "c2 = num2 -(h2 + t2*10)\n",
    "newnum1 = c1 * 100 + t1 * 10 + h1\n",
    "newnum2 = c2 * 100 + t2 * 10 + h2\n",
    "print(max(newnum1,newnum2))\n",
    "\n",
    "# 정수로 구성된 문자열은 int 변환이 가능하다\n",
    "a, b = input().split()\n",
    "a = int(a[::-1]) # string reverse method (slicing 으로 구현가능)\n",
    "b = int(b[::-1])\n",
    "if a > b:\n",
    "    print(a)\n",
    "else:\n",
    "    print(b)"
   ]
  },
  {
   "cell_type": "code",
   "execution_count": null,
   "metadata": {},
   "outputs": [],
   "source": [
    "key = [\"name\",\"age\",\"sex\",\"heigh\"]\n",
    "value = [\"junsoo\",\"28\",\"male\",\"180\"]\n",
    "\n",
    "# zip 함수를 사용해 dict 생성: zip(key list, value list)\n",
    "di = dict(zip(key,value))\n",
    "print(di)\n",
    "\n",
    "# dict 컴프리헨션\n",
    "string_list = [\"a\",\"b\",\"c\"]\n",
    "\n",
    "di = {string : 0 for string in string_list}\n",
    "print(di)\n",
    "\n",
    "di = {string : i for i, string in enumerate(string_list)}\n",
    "print(di)\n",
    "\n",
    "di = {i : string_list[i] for i in range(len(string_list))}\n",
    "print(di)\n",
    "\n",
    "# list 컴프리헨션으로 max value 찾기\n",
    "key = [\"b\",\"o\",\"k\",\"j\"]\n",
    "value = [2,7,7,6]\n",
    "di = dict(zip(key,value))\n",
    "\n",
    "max_list = [k for k , v in di.items() if max(di.values())== v]\n",
    "print(max_list)"
   ]
  }
 ],
 "metadata": {
  "kernelspec": {
   "display_name": "Python 3",
   "language": "python",
   "name": "python3"
  },
  "language_info": {
   "codemirror_mode": {
    "name": "ipython",
    "version": 3
   },
   "file_extension": ".py",
   "mimetype": "text/x-python",
   "name": "python",
   "nbconvert_exporter": "python",
   "pygments_lexer": "ipython3",
   "version": "3.11.9"
  }
 },
 "nbformat": 4,
 "nbformat_minor": 2
}
