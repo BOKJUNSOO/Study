{
 "cells": [
  {
   "cell_type": "markdown",
   "metadata": {},
   "source": [
    "간선 리스트의 그래프"
   ]
  },
  {
   "cell_type": "code",
   "execution_count": null,
   "metadata": {},
   "outputs": [
    {
     "name": "stdout",
     "output_type": "stream",
     "text": [
      "[[], [2, 5], [1, 3, 4, 5], [2, 4, 4], [2, 3, 5, 6], [1, 2, 4], [4]]\n"
     ]
    }
   ],
   "source": [
    "node = 7 # 1 ~ 6번 노드\n",
    "graph = [[] for _ in range(node)]\n",
    "edge = [(1, 2), (1, 5), (2, 1), (2, 3),\n",
    "        (2, 4), (2, 5), (3, 2), (3, 4),\n",
    "        (3, 4), (4, 2), (4, 3), (4, 5), \n",
    "        (4, 6), (5, 1), (5, 2), (5, 4), (6, 4)] # 간선정보\n",
    "for u,v in edge:\n",
    "    graph[u].append(v)\n",
    "    graph.sort()\n",
    "print(graph)"
   ]
  },
  {
   "cell_type": "code",
   "execution_count": null,
   "metadata": {},
   "outputs": [
    {
     "name": "stdout",
     "output_type": "stream",
     "text": [
      "[[], [2, 3], [1, 5], [4, 1], [3, 5], [4, 2]]\n"
     ]
    }
   ],
   "source": [
    "node = int(input())+1 # dummy node\n",
    "edge = int(input()) # 간선수\n",
    "graph = [[] for _ in range(node)] # 그래프 초기화\n",
    "for i in range(edge):\n",
    "    n,m = map(int, input().split())\n",
    "    graph[n] += [m]\n",
    "    graph[m] += [n]\n",
    "print(graph)"
   ]
  }
 ],
 "metadata": {
  "kernelspec": {
   "display_name": "Python 3",
   "language": "python",
   "name": "python3"
  },
  "language_info": {
   "codemirror_mode": {
    "name": "ipython",
    "version": 3
   },
   "file_extension": ".py",
   "mimetype": "text/x-python",
   "name": "python",
   "nbconvert_exporter": "python",
   "pygments_lexer": "ipython3",
   "version": "3.11.9"
  }
 },
 "nbformat": 4,
 "nbformat_minor": 2
}
