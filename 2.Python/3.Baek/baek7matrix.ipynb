{
 "cells": [
  {
   "cell_type": "code",
   "execution_count": null,
   "metadata": {},
   "outputs": [
    {
     "name": "stdout",
     "output_type": "stream",
     "text": [
      "4 4 4 \n",
      "6 6 6 \n",
      "5 6 100 "
     ]
    }
   ],
   "source": [
    "# 2738\n",
    "N, M = map(int, input().split())\n",
    "arr1 = [list(map(int, input().split())) for _ in range(N)]\n",
    "arr2 = [list(map(int, input().split())) for _ in range(N)]\n",
    "new_arr = [[0]*M for _ in range(N)]\n",
    "\n",
    "# 행렬의 원소 하나씩 접근\n",
    "for i in range(N):\n",
    "    for j in range(M):\n",
    "        new_arr[i][j] = arr1[i][j] + arr2[i][j]\n",
    "\n",
    "for r in range(N):\n",
    "    if r > 0:\n",
    "        print()\n",
    "    for c in range(M):\n",
    "        print(new_arr[r][c], end = \" \")"
   ]
  },
  {
   "cell_type": "code",
   "execution_count": null,
   "metadata": {},
   "outputs": [
    {
     "name": "stdout",
     "output_type": "stream",
     "text": [
      "9\n",
      "3 3\n"
     ]
    }
   ],
   "source": [
    "# 2566\n",
    "n = 9\n",
    "arr = [[0]*n for _ in range(n)]\n",
    "for i in range(n):\n",
    "    arr[i] = list(map(int, input().split()))\n",
    "row_max_list = [0] * n\n",
    "max_value_index_list = [0] * n\n",
    "for r in range(n):\n",
    "    row_max = max(arr[r])\n",
    "    row_max_list[r] = row_max\n",
    "    col = arr[r].index(row_max)\n",
    "    max_value_index_list[r] = (r+1 , col+1)\n",
    "matrix_max = max(row_max_list)\n",
    "print(matrix_max)\n",
    "matrix_max_elt = row_max_list.index(matrix_max)\n",
    "print(max_value_index_list[matrix_max_elt][0],max_value_index_list[matrix_max_elt][1])\n",
    "\n"
   ]
  },
  {
   "cell_type": "code",
   "execution_count": null,
   "metadata": {},
   "outputs": [
    {
     "name": "stdout",
     "output_type": "stream",
     "text": [
      "[['a', 's', 'd'], ['a', 's', 'd', 'f'], ['a', 's', 'd', 'f', 'f'], ['a', 's', 'd', 'a', 's', 'd'], ['a', 's', 'd', 'a', 's', 'd']]\n"
     ]
    }
   ],
   "source": [
    "arr = [list((input())) for _ in range(5)]"
   ]
  },
  {
   "cell_type": "code",
   "execution_count": null,
   "metadata": {},
   "outputs": [
    {
     "name": "stdout",
     "output_type": "stream",
     "text": [
      "[['A', 'A', 'B', 'C', 'D', 'D'], ['a', 'f', 'z', 'z', None, None], ['0', '9', '1', '2', '1', None], ['0', '9', '1', '2', '1', None], ['P', '5', 'h', '3', 'k', 'x']]\n",
      "Aa00PAf995Bz11hCz223D11kDx\n"
     ]
    }
   ],
   "source": [
    "arr = [list((input())) for _ in range(5)]\n",
    "max_len = 0\n",
    "for i in range(len(arr)):\n",
    "    if max_len <= len(arr[i]):\n",
    "        max_len = len(arr[i])\n",
    "for l in arr:\n",
    "    if len(l) < max_len:\n",
    "        for _ in range((max_len- len(l))):\n",
    "            l.append(None)\n",
    "output = \"\"\n",
    "for c in range(max_len):\n",
    "    for r in range(5):\n",
    "        if arr[r][c] == None:\n",
    "            continue\n",
    "        else:\n",
    "            output += arr[r][c]\n",
    "print(output)"
   ]
  },
  {
   "cell_type": "code",
   "execution_count": null,
   "metadata": {},
   "outputs": [
    {
     "name": "stdout",
     "output_type": "stream",
     "text": [
      "260\n"
     ]
    }
   ],
   "source": [
    "# 2563\n",
    "class Solution:\n",
    "    def paper(self,N:int)->int:\n",
    "        # 좌표평면 초기화\n",
    "        arr = [[0] * 100 for _ in range(100)]\n",
    "        for _ in range(N):\n",
    "            x, y = map(int, input().split())\n",
    "        # 색종이가 차지하는 영역을 모두 1로 채운다\n",
    "            for r in range(y,y+10):\n",
    "                for c in range(x,x+10):\n",
    "                    arr[r][c] =1\n",
    "        # 결과 변수\n",
    "        result = 0\n",
    "        # 좌표평면을 모두 확인하면서 각 행에 존재하는 1의 갯수를 센다\n",
    "        for i in range(100):\n",
    "            result += arr[i].count(1)\n",
    "        return result\n",
    "N = int(input())\n",
    "solution = Solution()\n",
    "result = solution.paper(N)\n",
    "print(result)"
   ]
  }
 ],
 "metadata": {
  "kernelspec": {
   "display_name": "Python 3",
   "language": "python",
   "name": "python3"
  },
  "language_info": {
   "codemirror_mode": {
    "name": "ipython",
    "version": 3
   },
   "file_extension": ".py",
   "mimetype": "text/x-python",
   "name": "python",
   "nbconvert_exporter": "python",
   "pygments_lexer": "ipython3",
   "version": "3.11.9"
  }
 },
 "nbformat": 4,
 "nbformat_minor": 2
}
