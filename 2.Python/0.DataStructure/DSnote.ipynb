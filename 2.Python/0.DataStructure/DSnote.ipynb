{
 "cells": [
  {
   "cell_type": "code",
   "execution_count": 14,
   "metadata": {},
   "outputs": [
    {
     "data": {
      "text/plain": [
       "[[0, 0, 0], [0, 1, 0], [0, 0, 0]]"
      ]
     },
     "execution_count": 14,
     "metadata": {},
     "output_type": "execute_result"
    }
   ],
   "source": [
    "## list is mutable\n",
    "# append(value), remove(value), insert(index, value), count(vlaue), A[i:j]\n",
    "\n",
    "# 초기화 연산\n",
    "C = [0] * 3\n",
    "C\n",
    "C[0] = 1 # 정수객체는 immutable 이라 새로운 값 1에 대한 객체 생성됨\n",
    "\n",
    "# 3차원 리스트 초기화\n",
    "# 잘못된 방법의 초기화\n",
    "A = [[0] * 3] *3\n",
    "A[1][1] = 1 # A[0], A[1], A[2] 모두 일차원리스트 [0,0,0]을 가르킨다.\n",
    "            # list 는 mutable 하기 때문에  \n",
    "            # A[1][1] 로 초기화하면 A[0][1], A[1][1], A[2][1] 모두 1을 가르키게된다.\n",
    "\n",
    "# 제대로된 방법의 초기화\n",
    "A = []\n",
    "for i in range(3):\n",
    "    A.append([0]*3)\n",
    "A[1][1] = 1\n",
    "A"
   ]
  },
  {
   "cell_type": "code",
   "execution_count": 20,
   "metadata": {},
   "outputs": [
    {
     "data": {
      "text/plain": [
       "array([0, 1, 2, 3, 4, 5, 6, 7, 8, 9])"
      ]
     },
     "execution_count": 20,
     "metadata": {},
     "output_type": "execute_result"
    }
   ],
   "source": [
    "# python numpy의 array 자료구조\n",
    "import numpy as np\n",
    "\n",
    "# numpy 객체생성\n",
    "A = np.arange(10)\n",
    "\n",
    "# numpy array 과 python list의 특징과 차이점\n",
    " # 1) 인덱스로 접근\n",
    " # 2) mutable\n",
    " # 3) 한 종류 타입의 값만 저장 가능하다\n",
    " # 4) 배열단위의 연산이 빠르고, 메모리를 list 보다 적게 사용한다"
   ]
  },
  {
   "cell_type": "code",
   "execution_count": 11,
   "metadata": {},
   "outputs": [
    {
     "name": "stdout",
     "output_type": "stream",
     "text": [
      "[1, 2, 3, 4, 5, 6, 7, 8, 9, 10] 136 \t\n"
     ]
    }
   ],
   "source": [
    "import sys\n",
    "S = [1,2,3,4,5,6,7,8,9,10]\n",
    "print(S, sys.getsizeof(S) , \"\\t\")"
   ]
  },
  {
   "cell_type": "code",
   "execution_count": 13,
   "metadata": {},
   "outputs": [
    {
     "name": "stdout",
     "output_type": "stream",
     "text": [
      "[1, 2, 3, 4, 5, 6, 7, 8, 9, 10, 1, 2, 3, 4, 5, 6, 7, 8, 9, 10, 1, 2, 3, 4, 5, 6, 7, 8, 9, 10, 1, 2, 3, 4, 5, 6, 7, 8, 9, 10, 1, 2, 3, 4, 5, 6, 7, 8, 9, 10, 1, 2, 3, 4, 5, 6, 7, 8, 9, 10, 1, 2, 3, 4, 5, 6, 7, 8, 9, 10] 616 \t\n"
     ]
    }
   ],
   "source": [
    "B = [1,2,3,4,5,6,7,8,9,10] * 7\n",
    "print(B, sys.getsizeof(B) , \"\\t\")"
   ]
  }
 ],
 "metadata": {
  "kernelspec": {
   "display_name": "Python 3",
   "language": "python",
   "name": "python3"
  },
  "language_info": {
   "codemirror_mode": {
    "name": "ipython",
    "version": 3
   },
   "file_extension": ".py",
   "mimetype": "text/x-python",
   "name": "python",
   "nbconvert_exporter": "python",
   "pygments_lexer": "ipython3",
   "version": "3.11.9"
  }
 },
 "nbformat": 4,
 "nbformat_minor": 2
}
