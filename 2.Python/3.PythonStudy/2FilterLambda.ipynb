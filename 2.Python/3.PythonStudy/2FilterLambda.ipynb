{
 "cells": [
  {
   "cell_type": "markdown",
   "metadata": {},
   "source": [
    "# 1) filter() 함수\n",
    "\n",
    "- map() 과 마찬가지로 parameter로 fuct 과 literable data를 받는다\n",
    "- parameter로 작용한 함수의 결과가 참거짓인지에 따라 list 객체에 포함시킬지 안시킬지를 결정한다. \n"
   ]
  },
  {
   "cell_type": "code",
   "execution_count": 16,
   "metadata": {},
   "outputs": [
    {
     "name": "stdout",
     "output_type": "stream",
     "text": [
      "need_even = [True, False, True, False, True, False, True, False, True, False, True, False, True, False, True, False, True, False, True, False, True, False, True, False, True, False, True, False, True, False, True, False, True, False, True, False, True, False, True, False, True, False, True, False, True, False, True, False, True, False, True, False, True, False, True, False, True, False, True, False, True, False, True, False, True, False, True, False, True, False, True, False, True, False, True, False, True, False, True, False, True, False, True, False, True, False, True, False, True, False, True, False, True, False, True, False, True, False, True, False]\n",
      "0 None 2 4\n",
      "without_lambda1 = [2, 4, 6, 8, 10, 12, 14, 16, 18, 20, 22, 24, 26, 28, 30, 32, 34, 36, 38, 40, 42, 44, 46, 48, 50, 52, 54, 56, 58, 60, 62, 64, 66, 68, 70, 72, 74, 76, 78, 80, 82, 84, 86, 88, 90, 92, 94, 96, 98]\n",
      "without_lambda = [0, 2, 4, 6, 8, 10, 12, 14, 16, 18, 20, 22, 24, 26, 28, 30, 32, 34, 36, 38, 40, 42, 44, 46, 48, 50, 52, 54, 56, 58, 60, 62, 64, 66, 68, 70, 72, 74, 76, 78, 80, 82, 84, 86, 88, 90, 92, 94, 96, 98]\n",
      "with_lambda = [0, 2, 4, 6, 8, 10, 12, 14, 16, 18, 20, 22, 24, 26, 28, 30, 32, 34, 36, 38, 40, 42, 44, 46, 48, 50, 52, 54, 56, 58, 60, 62, 64, 66, 68, 70, 72, 74, 76, 78, 80, 82, 84, 86, 88, 90, 92, 94, 96, 98]\n"
     ]
    }
   ],
   "source": [
    "# 0) for in 구문으로 filtering 하기 ?/\n",
    "a = list(range(int(100)))                   # 반복 가능한 객체\n",
    "\n",
    "need_even = []\n",
    "for i in a:\n",
    "    need_even.append(i % 2 == 0)            # 참고) need_even 이라는 빈 리스트를 짝수'조건'                                         \n",
    "                                            # 만족하는애로 채워라  \n",
    "print(\"need_even = {}\".format(need_even))   \n",
    "\n",
    "# 1) 함수 정의하고 filtering 하기1\n",
    "\n",
    "def even(i):\n",
    "    if i % 2 == 0:\n",
    "        return i                            # a에 대한 return 값이 짝수집합 \n",
    "\n",
    "even_filter = list(filter(even , a))            \n",
    "print('without_lambda1 = {}'.format(even_filter))    # if절이 return이 아니면 filter 결과가 조금 다르다...\n",
    "\n",
    "# 1) 함수 정의하고 filtering 하기2\n",
    "\n",
    "def even(i):\n",
    "    return i % 2 == 0                       # return 값은 True or False (filter parameter 함수는 return이 true false가 유용?)\n",
    "even_filter = list(filter(even , a))\n",
    "print('without_lambda = {}'.format(even_filter))\n",
    "\n",
    "# 2) lambda 이용\n",
    "even_filter2 = list(filter(lambda x : x % 2 == 0 , a))\n",
    "print('with_lambda = {}'.format(even_filter2))\n",
    "\n",
    "\n",
    "\n",
    "\n"
   ]
  },
  {
   "cell_type": "markdown",
   "metadata": {},
   "source": []
  },
  {
   "cell_type": "code",
   "execution_count": null,
   "metadata": {},
   "outputs": [],
   "source": []
  }
 ],
 "metadata": {
  "kernelspec": {
   "display_name": "Python 3",
   "language": "python",
   "name": "python3"
  },
  "language_info": {
   "codemirror_mode": {
    "name": "ipython",
    "version": 3
   },
   "file_extension": ".py",
   "mimetype": "text/x-python",
   "name": "python",
   "nbconvert_exporter": "python",
   "pygments_lexer": "ipython3",
   "version": "3.11.9"
  }
 },
 "nbformat": 4,
 "nbformat_minor": 2
}
