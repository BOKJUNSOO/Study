{
 "cells": [
  {
   "cell_type": "code",
   "execution_count": 6,
   "metadata": {},
   "outputs": [],
   "source": [
    "from bs4 import BeautifulSoup\n",
    "from urllib.request import urlopen\n",
    "from datetime import datetime\n",
    "import pandas as pd\n",
    "import csv\n",
    "\n",
    "code = '225570'\n",
    "company = 'nexon'\n",
    "pages = 0\n",
    "\n",
    "# 함수 : 마지막 페이지 찾기\n",
    "\n",
    "def getLastPageNum(url):\n",
    "    with urlopen(url) as u:\n",
    "        html = BeautifulSoup(u, \"lxml\")\n",
    "        last = html.find(\"td\", class_ = \"pgRR\")\n",
    "        s = str(last.a[\"href\"]).split('=')\n",
    "        lastpage = s[-1]\n",
    "        return int(lastpage)\n",
    "    \n",
    "# 함수 : 페이지 정보 가져오기\n",
    "def getPageValue(url , pages):\n",
    "    df = pd.DataFrame()\n",
    "    print(\"\\n\")\n",
    "    for page in range(1, pages + 1): # 한 페이지씩 넘기면서 가져온다\n",
    "        pg_url = f'{url}&page={page}'\n",
    "        pValue = pd.read_html(pg_url, header = 0, encoding = 'cp949')[0]\n",
    "        df = df.append(pValue)\n",
    "        print(f'downloding.. {page:04d}/{pages:04d} : {company} ({code})' , end = '\\r')\n",
    "        print(\"\\n\")\n",
    "        return df\n",
    "    \n",
    "# 함수 : 증시 정보 가져오기\n",
    "def ReadStock(code, company, pages):\n",
    "    try:\n",
    "        url = (f\"https://finance.naver.com/item/sise_day.naver?code={code}\")\n",
    "\n",
    "        # 입력값이 0이면 마지막 페이지 값을 가져온다.\n",
    "        if pages == 0:\n",
    "            pages = getLastPageNum(url)\n",
    "\n",
    "        df = getPageValue(url, pages)   # 각 페이지마다의 정보를 가져온다.\n",
    "\n",
    "        df = df.rename(columns = {'날짜' : 'date', '종가' : 'close' , '전일비' : 'diff'\n",
    "                                  ,'시가' : 'open' , '고가' : 'high', '저가':'low'\n",
    "                                  , '거래량' : 'volume'})\n",
    "        df = df.dropna()    #결측치 제거\n",
    "        # 연산을 위해 int 형으로 변경\n",
    "        df[['close' , 'open' , 'high', 'low' , 'volume']] = df[['close' , 'open' , 'high', 'low' , 'volume']].astype(int)\n",
    "\n",
    "        # date를 index에 넣고 date column을 삭제\n",
    "        df.index = df['date']\n",
    "        df.index = df.index.str.repace('.','')\n",
    "        df = df.drop('date' , axis = 1)\n",
    "\n",
    "        # string형인 index를 date형으로 변경\n",
    "        df.index = pd.to_datetime(df.index, format= '%Y-%m-%d')\n",
    "    except Exception as e:\n",
    "        print('Exception :',str(e))\n",
    "        return None\n",
    "    return df\n",
    "\n",
    "# 함수 : CSV 파일 저장\n",
    "def saveToCSV(stokcValue): #CSV 파일 저장\n",
    "    csv_f = csv.writer()\n",
    "    csv_f.writerow(['date', 'open', 'high' ,'low', 'close', 'volume'])\n",
    "    for i in range(len(stokcValue)):\n",
    "        value = [stokcValue.index.values[i]\n",
    "                 ,stokcValue.open.values[i]\n",
    "                 ,stokcValue.high.values[i]\n",
    "                 ,stokcValue.low.values[i]\n",
    "                 ,stokcValue.close.values[i]\n",
    "                 ,stokcValue.volume.values[i]]\n",
    "        csv_f.writerow(value)\n",
    "\n",
    "\n",
    "\n"
   ]
  },
  {
   "cell_type": "code",
   "execution_count": 7,
   "metadata": {},
   "outputs": [
    {
     "name": "stdout",
     "output_type": "stream",
     "text": [
      "Exception : 'NoneType' object has no attribute 'a'\n",
      "데이터를 가져오지 못했습니다\n"
     ]
    }
   ],
   "source": [
    "# 실행 \n",
    "df = ReadStock(code,company, pages)\n",
    "\n",
    "if df is None:\n",
    "    print('데이터를 가져오지 못했습니다')\n",
    "else:\n",
    "    print(df)\n",
    "    saveToCSV(df)\n"
   ]
  },
  {
   "cell_type": "code",
   "execution_count": null,
   "metadata": {},
   "outputs": [],
   "source": []
  }
 ],
 "metadata": {
  "kernelspec": {
   "display_name": "Python 3",
   "language": "python",
   "name": "python3"
  },
  "language_info": {
   "codemirror_mode": {
    "name": "ipython",
    "version": 3
   },
   "file_extension": ".py",
   "mimetype": "text/x-python",
   "name": "python",
   "nbconvert_exporter": "python",
   "pygments_lexer": "ipython3",
   "version": "3.11.9"
  }
 },
 "nbformat": 4,
 "nbformat_minor": 2
}
