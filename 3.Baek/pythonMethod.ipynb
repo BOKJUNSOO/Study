{
 "cells": [
  {
   "cell_type": "code",
   "execution_count": null,
   "metadata": {},
   "outputs": [],
   "source": [
    "#1. 값 두 개를 입력받아 변수 a와 b에 저장 (띄어쓰기 구분)\n",
    "a, b = input().split() #문자열로\n",
    "a, b = map(int, input().split()) #정수형으로\n",
    "a, b = map(float, input().split()) #실수형으로 \n",
    "\n",
    "#2. 1차원 배열 입력받기 = 정수형 리스트로 저장\n",
    "num_list = list(map(int, input().split())) #입력 : 1 2 3 /출력 : [1, 2, 3] \n",
    "\n",
    "#3. 문자열 여러줄 입력받기 \n",
    "s_list = [input() for _ in range(n)] #예시로 n에 3넣어 3줄 입력받기(엔터로 구분)\n",
    "\n",
    "#4. 한 문자열(숫자ex.12345) 받아서 한 글자씩 나누어 더하기\n",
    "s = input()\n",
    "for i in range(len(s)):\n",
    "\tsum += int(s[i])  #문자열은 슬라이싱 가능!! + 문자열 형변환\n",
    "\n",
    "#5. 띄어쓰기 없이 정수 여러개 입력받아 2차원 배열로 저장하기 \n",
    "two_d = [list(map(int, input())) for _ in range(n)] #예시는 4줄 입력받음\n",
    "\n",
    "#6. 열은 띄어쓰기로 행은 엔터로 구분하여 입력받아 2차원 배열 저장하기\n",
    "t_d = [list(map(int, input().split())) for _ in range(n)]#예시는 4줄. 4.-와 결과는 같다."
   ]
  },
  {
   "cell_type": "code",
   "execution_count": 1,
   "metadata": {},
   "outputs": [
    {
     "name": "stdout",
     "output_type": "stream",
     "text": [
      "[0, 0, 0]\n"
     ]
    },
    {
     "data": {
      "text/plain": [
       "[[0, 0, 0], [0, 1, 0], [0, 0, 0]]"
      ]
     },
     "execution_count": 1,
     "metadata": {},
     "output_type": "execute_result"
    }
   ],
   "source": [
    "## list is mutable\n",
    "# append(value), remove(value), insert(index, value), count(vlaue), A[i:j]\n",
    "\n",
    "# 초기화 연산\n",
    "C = [0] * 3\n",
    "print(C)\n",
    "C[0] = 1 # 정수객체는 immutable 이라 새로운 값 1에 대한 객체 생성됨\n",
    "\n",
    "# 3차원 리스트 초기화\n",
    "# 잘못된 방법의 초기화\n",
    "A = [[0] * 3] *3\n",
    "A[1][1] = 1 # A[0], A[1], A[2] 모두 일차원리스트 [0,0,0]을 가르킨다.\n",
    "            # list 는 mutable 하기 때문에  \n",
    "            # A[1][1] 로 초기화하면 A[0][1], A[1][1], A[2][1] 모두 1을 가르키게된다.\n",
    "\n",
    "# 제대로된 방법의 초기화\n",
    "A = []\n",
    "for i in range(3):\n",
    "    A.append([0]*3)\n",
    "A[1][1] = 1\n",
    "A"
   ]
  },
  {
   "cell_type": "code",
   "execution_count": null,
   "metadata": {},
   "outputs": [],
   "source": [
    "# 10810\n",
    "# 리스트 초기화\n",
    "a, b = map(int, input().split())    # map(fuction, literabe)\n",
    "                                    # input은 기본적으로 str을 입력받음\n",
    "list = [0] * a  # 1차원 리스트 초기화 생성(list 대입연산은 literable 해야함)\n",
    "for i in range(b):\n",
    "    c,d,e = map(int,input().split())\n",
    "    newlist = [e] * ((d)-(c-1)) # 대입시킬 새로운 list 생성\n",
    "    list[c-1:d] = newlist   # slicing 한 list에 대입연산은 literable 해야함!(new_list 가능)\n",
    "\n",
    "for i in list:\n",
    "    print(i, end=\" \")\n"
   ]
  },
  {
   "cell_type": "code",
   "execution_count": null,
   "metadata": {},
   "outputs": [],
   "source": [
    "# 10813\n",
    "a,b = map(int,input().split())\n",
    "list = []\n",
    "for i in range(a):  # 채워진 바구니 만들기\n",
    "    list.append(i+1)\n",
    "for i in range(b):  # 입력받은 b번동안 교환을 진행\n",
    "    c,d = map(int,input().split())\n",
    "    list[c-1],list[d-1] = list[d-1],list[c-1]\n",
    "for i in list:\n",
    "    print(i,end = \" \")"
   ]
  },
  {
   "cell_type": "code",
   "execution_count": null,
   "metadata": {},
   "outputs": [],
   "source": [
    "# 1546\n",
    "a = int(input())\n",
    "list = list(map(int, input().split())) # 유동적으로 값을 입력받기 (list)\n",
    "list.sort()\n",
    "m = list[a-1]\n",
    "def cal(max_score,score_list):\n",
    "    for i in range(a):\n",
    "        score_list[i] = score_list[i]/max_score*100\n",
    "    s = sum(score_list)\n",
    "    return s\n",
    "s = cal(m,list)\n",
    "result = s/a\n",
    "print(result)"
   ]
  },
  {
   "cell_type": "code",
   "execution_count": 3,
   "metadata": {},
   "outputs": [
    {
     "name": "stdout",
     "output_type": "stream",
     "text": [
      "[2, 1, 3]\n"
     ]
    }
   ],
   "source": [
    "# list swap 연산!\n",
    "\n",
    "list = [1,2,3]\n",
    "# 0번인덱스와 1번인덱스를 교환하고 싶을때\n",
    "list[0] = list[1] # 1번인덱스의 값을 0번인덱스로 대입\n",
    "list[1] = list[0] # 문제발생 0번인덱스는 바뀌고 난 값이므로 1이아닌 2가저장\n",
    "\n",
    "list = [1,2,3]\n",
    "list[0], list[1] = list[1], list[0] # swap 진행 복사가 한번에 이루어짐!\n",
    "print(list)"
   ]
  },
  {
   "cell_type": "code",
   "execution_count": null,
   "metadata": {},
   "outputs": [],
   "source": [
    "# string 연산\n",
    "a = int(input())\n",
    "s = [None] * a\n",
    "# s = []\n",
    "for i in range(a):\n",
    "    s[i] = input()  # index 유의 ! list(range(3)) = [0,1,2]\n",
    "                    # 대입이아닌 append 연산하면 list길이 늘어남\n",
    "for i in s:\n",
    "    print(i[0],i[-1],sep=\"\")    # print 파라미터.."
   ]
  },
  {
   "cell_type": "code",
   "execution_count": 2,
   "metadata": {},
   "outputs": [
    {
     "data": {
      "text/plain": [
       "[0, 1, 2]"
      ]
     },
     "execution_count": 2,
     "metadata": {},
     "output_type": "execute_result"
    }
   ],
   "source": [
    "# ascii code\n",
    "a = input()\n",
    "print(ord(a))\n",
    "# chr"
   ]
  },
  {
   "cell_type": "code",
   "execution_count": null,
   "metadata": {},
   "outputs": [],
   "source": [
    "# 문자열\n",
    "a = int(input())\n",
    "b = input()\n",
    "result = 0\n",
    "for i in range(len(b)):\n",
    "    result += int(b[i]) #string의 인덱스를 가져와서 int 변환후 더해준다.\n",
    "print(result)"
   ]
  },
  {
   "cell_type": "code",
   "execution_count": 20,
   "metadata": {},
   "outputs": [
    {
     "data": {
      "text/plain": [
       "array([0, 1, 2, 3, 4, 5, 6, 7, 8, 9])"
      ]
     },
     "execution_count": 20,
     "metadata": {},
     "output_type": "execute_result"
    }
   ],
   "source": [
    "# python numpy의 array 자료구조\n",
    "import numpy as np\n",
    "\n",
    "# numpy 객체생성\n",
    "A = np.arange(10)\n",
    "\n",
    "# numpy array 과 python list의 특징과 차이점\n",
    " # 1) 인덱스로 접근\n",
    " # 2) mutable\n",
    " # 3) 한 종류 타입의 값만 저장 가능하다\n",
    " # 4) 배열단위의 연산이 빠르고, 메모리를 list 보다 적게 사용한다"
   ]
  },
  {
   "cell_type": "code",
   "execution_count": 11,
   "metadata": {},
   "outputs": [
    {
     "name": "stdout",
     "output_type": "stream",
     "text": [
      "[1, 2, 3, 4, 5, 6, 7, 8, 9, 10] 136 \t\n"
     ]
    }
   ],
   "source": [
    "import sys\n",
    "S = [1,2,3,4,5,6,7,8,9,10]\n",
    "print(S, sys.getsizeof(S) , \"\\t\")"
   ]
  },
  {
   "cell_type": "code",
   "execution_count": 13,
   "metadata": {},
   "outputs": [
    {
     "name": "stdout",
     "output_type": "stream",
     "text": [
      "[1, 2, 3, 4, 5, 6, 7, 8, 9, 10, 1, 2, 3, 4, 5, 6, 7, 8, 9, 10, 1, 2, 3, 4, 5, 6, 7, 8, 9, 10, 1, 2, 3, 4, 5, 6, 7, 8, 9, 10, 1, 2, 3, 4, 5, 6, 7, 8, 9, 10, 1, 2, 3, 4, 5, 6, 7, 8, 9, 10, 1, 2, 3, 4, 5, 6, 7, 8, 9, 10] 616 \t\n"
     ]
    }
   ],
   "source": [
    "B = [1,2,3,4,5,6,7,8,9,10] * 7\n",
    "print(B, sys.getsizeof(B) , \"\\t\")"
   ]
  }
 ],
 "metadata": {
  "kernelspec": {
   "display_name": "Python 3",
   "language": "python",
   "name": "python3"
  },
  "language_info": {
   "codemirror_mode": {
    "name": "ipython",
    "version": 3
   },
   "file_extension": ".py",
   "mimetype": "text/x-python",
   "name": "python",
   "nbconvert_exporter": "python",
   "pygments_lexer": "ipython3",
   "version": "3.11.9"
  }
 },
 "nbformat": 4,
 "nbformat_minor": 2
}
