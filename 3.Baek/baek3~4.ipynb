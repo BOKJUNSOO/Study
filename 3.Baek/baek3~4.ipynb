{
 "cells": [
  {
   "cell_type": "code",
   "execution_count": 33,
   "metadata": {},
   "outputs": [
    {
     "ename": "ValueError",
     "evalue": "invalid literal for int() with base 10: ''",
     "output_type": "error",
     "traceback": [
      "\u001b[1;31m---------------------------------------------------------------------------\u001b[0m",
      "\u001b[1;31mValueError\u001b[0m                                Traceback (most recent call last)",
      "Cell \u001b[1;32mIn[33], line 1\u001b[0m\n\u001b[1;32m----> 1\u001b[0m a \u001b[38;5;241m=\u001b[39m \u001b[38;5;28;43mint\u001b[39;49m\u001b[43m(\u001b[49m\u001b[38;5;28;43minput\u001b[39;49m\u001b[43m(\u001b[49m\u001b[43m)\u001b[49m\u001b[43m)\u001b[49m\n\u001b[0;32m      2\u001b[0m n \u001b[38;5;241m=\u001b[39m \u001b[38;5;28mlist\u001b[39m(\u001b[38;5;28mrange\u001b[39m(\u001b[38;5;241m1\u001b[39m,\u001b[38;5;241m10\u001b[39m))\n\u001b[0;32m      3\u001b[0m \u001b[38;5;28;01mfor\u001b[39;00m i \u001b[38;5;129;01min\u001b[39;00m n:\n",
      "\u001b[1;31mValueError\u001b[0m: invalid literal for int() with base 10: ''"
     ]
    }
   ],
   "source": [
    "a = int(input())\n",
    "n = list(range(1,10))\n",
    "for i in n:\n",
    "    print(f\"{a} * {i} =\", (a * i))\n",
    "\n",
    "#\n",
    "for i in range(1,10):\n",
    "    print(\"%s * %s = %s\" %(a, i , a*i)) # s와 d 차이?"
   ]
  },
  {
   "cell_type": "code",
   "execution_count": null,
   "metadata": {},
   "outputs": [],
   "source": [
    "# 7/16 note)\n",
    "# format 함수\n",
    "# https://twix.tistory.com/10\n",
    "for i in (range(2,11,2)):\n",
    "    print('{0:2d} {1:3d}'.format(i,i*i))\n",
    "\n",
    "print('I like {} and {}'.format('Python', 'Java'))"
   ]
  },
  {
   "cell_type": "code",
   "execution_count": null,
   "metadata": {},
   "outputs": [
    {
     "name": "stdout",
     "output_type": "stream",
     "text": [
      "2\n",
      "4\n",
      "6\n"
     ]
    }
   ],
   "source": [
    "# while 문 알고리즘 **\n",
    "t = int(input()) #초기식1\n",
    "i = 1   #초기식2\n",
    "while i < t+1:  #조건식\n",
    "    a, b = map(int, input().split()) #반복할 코드\n",
    "    print(a+b)  #반복할 코드\n",
    "    i += 1  #변화식 (코드를 반복하고, 초깃값에 1씩 더해준다)\n",
    "\n",
    "# 초기식을 조건식에 대입한다.\n",
    "# 조건식이 참 -> 코드를 반복한다\n",
    "# 조건식이 거짓 -> while문 탈출\n",
    "\n",
    "# literable 한 자료에서 i가 식에 포함 안돼도 된다.\n",
    "# 횟수만큼 그저 반복!!!\n",
    "t = int(input())\n",
    "for i in range(t):\n",
    "    a, b = map(int, input().split())\n",
    "    print(a+b)\n",
    "\n"
   ]
  },
  {
   "cell_type": "code",
   "execution_count": null,
   "metadata": {},
   "outputs": [
    {
     "data": {
      "text/plain": [
       "6"
      ]
     },
     "execution_count": 53,
     "metadata": {},
     "output_type": "execute_result"
    }
   ],
   "source": [
    "a = int(input())\n",
    "# 3-> 3+2+1 n-> n+(n-1)+ ... +1\n",
    "s = list(range(1,a+1))\n",
    "sum(s)"
   ]
  },
  {
   "cell_type": "code",
   "execution_count": null,
   "metadata": {},
   "outputs": [
    {
     "name": "stdout",
     "output_type": "stream",
     "text": [
      "YES\n"
     ]
    }
   ],
   "source": [
    "X = int(input()) # total\n",
    "N = int(input()) # 종류\n",
    "T = []\n",
    "\n",
    "# for in 구문내의 모든 것을 반복한다는 생각 할것!\n",
    "for i in range(1,N+1):\n",
    "    a, b = map(int, input().split())\n",
    "    T.append(a*b)\n",
    "c = sum(T)\n",
    "\n",
    "if c == X:\n",
    "    print(\"Yes\")\n",
    "else:\n",
    "    print(\"No\")"
   ]
  },
  {
   "cell_type": "code",
   "execution_count": null,
   "metadata": {},
   "outputs": [
    {
     "name": "stdout",
     "output_type": "stream",
     "text": [
      "long long None\n",
      "long long int\n"
     ]
    }
   ],
   "source": [
    "# None 이 뭐지..\n",
    "N = int(input())\n",
    "k = N//4\n",
    "for i in range(k):\n",
    "    str1 = 'long'\n",
    "    str2 = print('long', end = \" \")\n",
    "\n",
    "type(str2) # str2 는 print의 반환값이 들어있는것,\n",
    "           # 의미가 없을 수 있음\n",
    "           # 문자열이 들어있는것이 아님.\n",
    "type(str(str2))\n",
    "\n",
    "print(str2)\n",
    "\n",
    "#\n",
    "N = int(input())\n",
    "k = N//4\n",
    "#for i in range(k):\n",
    "\n",
    "print('long '*(k) + \"int\") # str 데이터에 정수 곱하기 가능하다.\n"
   ]
  },
  {
   "cell_type": "code",
   "execution_count": null,
   "metadata": {},
   "outputs": [],
   "source": [
    "import sys\n",
    "sys.stdin.readline().strip() # input() 대신?\n",
    "N = int(sys.stdin.readline().strip())\n",
    "for i in range(N):\n",
    "    a, b = map(int, sys.stdin.readline().strip().split())\n",
    "    print(a+b)\n"
   ]
  },
  {
   "cell_type": "code",
   "execution_count": null,
   "metadata": {},
   "outputs": [
    {
     "name": "stdout",
     "output_type": "stream",
     "text": [
      "Case #1: 2\n",
      "Case #2: 4\n",
      "Case #3: 6\n"
     ]
    }
   ],
   "source": [
    "T = int(input())\n",
    "for i in range(1,T+1):\n",
    "    a, b = map(int, input().split())\n",
    "    print('Case #%d:'%i,a+b)"
   ]
  },
  {
   "cell_type": "code",
   "execution_count": null,
   "metadata": {},
   "outputs": [
    {
     "name": "stdout",
     "output_type": "stream",
     "text": [
      "Case #1: 1 + 1 = 2\n",
      "Case #2: 2 + 2 = 4\n",
      "Case #3: 3 + 3 = 6\n",
      "Case #4: 4 + 4 = 8\n",
      "Case #5: 5 + 5 = 10\n"
     ]
    }
   ],
   "source": [
    "T = int(input())\n",
    "for i in range(1,T+1):  # T = 5 이면 루프를 다섯번 시행하고, i가 가능한 값도 정해짐을 인지하자!\n",
    "    a, b= (map(int, input().split()))\n",
    "    c = a+b\n",
    "    print('Case #%i:'%i,f'{a} + {b} = {c}')"
   ]
  },
  {
   "cell_type": "code",
   "execution_count": null,
   "metadata": {},
   "outputs": [
    {
     "name": "stdout",
     "output_type": "stream",
     "text": [
      "*\n",
      "**\n",
      "***\n",
      "****\n",
      "*****\n"
     ]
    }
   ],
   "source": [
    "N = int(input())\n",
    "for i in range(1,N+1):  # 마찬가지로 i가 가질수 있는값, 반복 횟수를 모두 담고있다!\n",
    "    print('*'*i)"
   ]
  },
  {
   "cell_type": "code",
   "execution_count": null,
   "metadata": {},
   "outputs": [
    {
     "name": "stdout",
     "output_type": "stream",
     "text": [
      "  *\n",
      " **\n",
      "***\n"
     ]
    }
   ],
   "source": [
    "N = int(input())\n",
    "for i in range(1,N+1):\n",
    "    print(' '*(N-i)+'*'*i) #괄호에 유의\n",
    "\n",
    "# print 함수 end 파라미터?\n",
    "\n",
    "n = int(input())\n",
    "\n",
    "for i in range(n):\n",
    "    print(\" \"*(n - i - 1), end = \"\")\n",
    "    print(\"*\"*(i + 1))\n",
    "\n",
    "# 참고)\n",
    "print('첫줄', end = '')\n",
    "print('두번쨰')"
   ]
  },
  {
   "cell_type": "code",
   "execution_count": null,
   "metadata": {},
   "outputs": [
    {
     "name": "stdout",
     "output_type": "stream",
     "text": [
      "[1, 2, 3, 4, 5, 6, 7, 8, 9, 10, 11, 12, 13, 14, 15, 16, 17, 18, 19, 20, 21, 22, 23, 24, 25, 26, 27, 28, 29, 30, 31, 32, 33, 34, 35, 36, 37, 38, 39, 40, 41, 42, 43, 44, 45, 46, 47, 48, 49, 50, 51, 52, 53, 54, 55, 56, 57, 58, 59, 60, 61, 62, 63, 64, 65, 66, 67, 68, 69, 70, 71, 72, 73, 74, 75, 76, 77, 78, 79, 80, 81, 82, 83, 84, 85, 86, 87, 88, 89, 90, 91, 92, 93, 94, 95, 96, 97, 98, 99, 100]\n"
     ]
    }
   ],
   "source": [
    "# 적당한 숫자쌍을 입력해서 합을 출력하다가\n",
    "# 0 0 을 입력하면 더이상 입력을 받지 않는 함수\n",
    "# break 로 루프 탈출 가능하다!\n",
    "M = []\n",
    "i = 0\n",
    "while True:\n",
    "    i += 1\n",
    "    M.append(i)\n",
    "    if i == 100:    # 100이 되기전까지 거짓인 조건이므로 통과불가\n",
    "        break\n",
    "print(M)\n"
   ]
  },
  {
   "cell_type": "code",
   "execution_count": null,
   "metadata": {},
   "outputs": [],
   "source": [
    "# break 이용\n",
    "while True: # 통과\n",
    "    A, B = map(int, input().split())    # 입력을 받고\n",
    "    if A == 0 and B ==0:    # 조건에 따라수행\n",
    "        break\n",
    "    else :\n",
    "        print(A+B)"
   ]
  },
  {
   "cell_type": "code",
   "execution_count": null,
   "metadata": {},
   "outputs": [
    {
     "name": "stdout",
     "output_type": "stream",
     "text": [
      "3\n",
      "7\n",
      "10\n"
     ]
    }
   ],
   "source": [
    "# while try except\n",
    "# try와 except 는 같이 써야함\n",
    "while True:\n",
    "    try:\n",
    "        A, B = map(int, input().split())\n",
    "        print(A+B)\n",
    "    except:\n",
    "        break"
   ]
  },
  {
   "cell_type": "markdown",
   "metadata": {},
   "source": [
    "# 4단계"
   ]
  },
  {
   "cell_type": "code",
   "execution_count": null,
   "metadata": {},
   "outputs": [
    {
     "name": "stdout",
     "output_type": "stream",
     "text": [
      "2\n"
     ]
    }
   ],
   "source": [
    "N = int(input())\n",
    "numbers = list(map(int, input().split()))\n",
    "v = int(input())\n",
    "answer = 0\n",
    "\n",
    "for i in range(N):\n",
    "    if numbers[i] == v:\n",
    "        answer += 1\n",
    "print(answer)\n",
    "\n"
   ]
  },
  {
   "cell_type": "code",
   "execution_count": null,
   "metadata": {},
   "outputs": [
    {
     "name": "stdout",
     "output_type": "stream",
     "text": [
      "1 4 2 3 "
     ]
    }
   ],
   "source": [
    "N, X = map(int, input().split())\n",
    "A = list(map(int, input().split()))\n",
    "S = []\n",
    "for i in range(N):\n",
    "    if A[i] < X:    # if 구문에서 조건절이 참이여야 : 를 통과한다.\n",
    "        S.append(A[i])\n",
    "for i in S: # 이 루프를 실행하지 않으면 안되는 이유 생각하기!\n",
    "    print(i, end = ' ')"
   ]
  },
  {
   "cell_type": "code",
   "execution_count": null,
   "metadata": {},
   "outputs": [],
   "source": [
    "#\n",
    "N = int(input())\n",
    "a = list(map(int, input().split()))\n",
    "print(min(a), max(a), end = ' ')\n",
    "\n",
    "#\n",
    "\n",
    "N = int(input())\n",
    "a = list(map(int, input().split())) # 입력값 --> a b c d ...\n",
    "max1 = a[0]\n",
    "min2 = a[0]\n",
    "\n",
    "for i in range(N):\n",
    "    if max1 < a[i]:  # 임의의 i에 대해서(최대최소정의 생각?)\n",
    "        max1 = a[i]\n",
    "    elif min2 > a[i]:    # 조건절이 참이여야 : 를 통과한다\n",
    "        min2 = a[i]\n",
    "\n",
    "print(min2, max1)"
   ]
  },
  {
   "cell_type": "code",
   "execution_count": null,
   "metadata": {},
   "outputs": [],
   "source": [
    "A = []\n",
    "for i in range(9):\n",
    "    A.append(int(input()))  # 입력값 --> a (e) b (e) ... (e)== enter\n",
    "print(max(A))\n",
    "print((A.index(max(A)))+1)\n",
    "\n"
   ]
  },
  {
   "cell_type": "code",
   "execution_count": null,
   "metadata": {},
   "outputs": [
    {
     "name": "stdout",
     "output_type": "stream",
     "text": [
      "{1, 5, 6, 7, 8, 9, 10} {1, 2, 3, 4, 5, 6, 7, 8, 9, 10}\n",
      "2\n",
      "8\n"
     ]
    }
   ],
   "source": [
    "# set method - without sort\n",
    "arr = set([5,6,1,7,8,9,10])\n",
    "arr2 = set(range(1,11))\n",
    "print(arr, arr2)\n",
    "# 오름차순 정렬 + 유니크한 값만 나열\n",
    "\n",
    "# \n",
    "N = []\n",
    "for _ in range(28):\n",
    "    N.append(int(input()))\n",
    "N = set(N)\n",
    "N2 = set(range(1,31))\n",
    "\n",
    "K = list(N2-N)\n",
    "K.sort()\n",
    "\n",
    "for i in range(2):\n",
    "    print(K[i])\n",
    "\n",
    "# sort\n"
   ]
  },
  {
   "cell_type": "code",
   "execution_count": null,
   "metadata": {},
   "outputs": [
    {
     "name": "stdout",
     "output_type": "stream",
     "text": [
      "1\n"
     ]
    }
   ],
   "source": [
    "J = []\n",
    "for _ in range(10):\n",
    "     s = int(input())\n",
    "     J.append(s)\n",
    "\n",
    "J2 = []\n",
    "for i in range(10):\n",
    "    r = J[i]%42\n",
    "    J2.append(r)  #J2에 추가된 값을 반환한것. J2.append() 자체는 의미없는 none 이다.\n",
    "\n",
    "J2 = set(J2) # 메서드는 none 을 반환. 직접 지정해야한다?\n",
    "print(len(J2))\n",
    "\n",
    "#\n",
    "J = []\n",
    "for _ in range(10):\n",
    "     n = int(input())\n",
    "     if n%42 not in J:      #list에 없다면추가, 있다면 조건문 통과 불가\n",
    "          J.append(n%42)\n",
    "print(J)"
   ]
  },
  {
   "cell_type": "code",
   "execution_count": null,
   "metadata": {},
   "outputs": [],
   "source": [
    "# M은 바구니의 갯수\n",
    "# N은 바꾸는 시행 횟수\n",
    "M, N = map(int, input().split())\n",
    "# 바구니의 갯수만큼 리스트를 만든다.\n",
    "B = list(range(1,M+1)) #바구니\n",
    "\n",
    "# 시행 횟수만큼 순서쌍을 받는다.\n",
    "for i in range(N):\n",
    "    a, b = map(int, input().split())\n",
    "    temp = B[a-1:b] # slicing\n",
    "    temp.reverse()  # reverse method\n",
    "    B[a-1:b] = temp\n",
    "\n",
    "for i in range(M):\n",
    "    print(B[i], end=' ')"
   ]
  },
  {
   "cell_type": "code",
   "execution_count": null,
   "metadata": {},
   "outputs": [
    {
     "name": "stdout",
     "output_type": "stream",
     "text": [
      "<class 'NoneType'>\n"
     ]
    }
   ],
   "source": [
    "# reverse() 함수는 list 내장 함수이다..!\n",
    "B = [1,2,3,4,5,6]\n",
    "\n",
    "# 첫번째 원소부터 4번째 원소까지 slicing [0:4]\n",
    "\n",
    "temp = B[0:4]   # reverse() 는 메서드 이기 떄문에 리턴값이 none 이다.\n",
    "print(type(temp.reverse())) # 이 리턴값 자체는 none 이므로 새로 저장해야함\n",
    "B[0:4] = temp               # temp는 reverse 된 리스트이므로 지정가능.!\n",
    "\n",
    "# B[0:4] = B[0:4].reverse() # 불가능!"
   ]
  }
 ],
 "metadata": {
  "kernelspec": {
   "display_name": "Python 3",
   "language": "python",
   "name": "python3"
  },
  "language_info": {
   "codemirror_mode": {
    "name": "ipython",
    "version": 3
   },
   "file_extension": ".py",
   "mimetype": "text/x-python",
   "name": "python",
   "nbconvert_exporter": "python",
   "pygments_lexer": "ipython3",
   "version": "3.11.9"
  }
 },
 "nbformat": 4,
 "nbformat_minor": 2
}
