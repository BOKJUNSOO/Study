{
 "cells": [
  {
   "cell_type": "markdown",
   "metadata": {},
   "source": [
    "# input()\n",
    " - print 함수 -> \"컴퓨터에게 출력해달라는 함수\" (내가 직접 값을 입력함)\n",
    " - input() -> \"사용자가 입력을 받을 수 있도록 하는 함수\"\n",
    " : input()을 시행하면 컴퓨터가 입력을 받는 상태가 된다.\n",
    " : 입력받은 값은 str 형태로 출력해준다.\n",
    "\n",
    " https://wikidocs.net/25#input"
   ]
  },
  {
   "cell_type": "markdown",
   "metadata": {},
   "source": [
    "- parameter 로는 입력을 유도하는 str을 넣을 수 있다."
   ]
  },
  {
   "cell_type": "code",
   "execution_count": 19,
   "metadata": {},
   "outputs": [],
   "source": [
    "a = input()\n",
    "a = int(a)\n",
    "k1 = a/100"
   ]
  },
  {
   "cell_type": "code",
   "execution_count": 20,
   "metadata": {},
   "outputs": [],
   "source": [
    "a = input() #472\n",
    "a = int(a)\n",
    "k1 = a//100 #4\n",
    "k2 = a//10 - k1*10 #7\n",
    "k3 = a - (k1*100 + k2*10) #2"
   ]
  },
  {
   "cell_type": "code",
   "execution_count": 23,
   "metadata": {},
   "outputs": [
    {
     "name": "stdout",
     "output_type": "stream",
     "text": [
      "2\n"
     ]
    }
   ],
   "source": [
    "print(k3)"
   ]
  },
  {
   "cell_type": "code",
   "execution_count": 24,
   "metadata": {},
   "outputs": [],
   "source": [
    "b = input() #385\n",
    "b = int(b)\n",
    "q1 = b//100 #3\n",
    "q2 = b//10 - q1*10 # 38 - 30 = 8\n",
    "q3 = b - (q1*100 + q2*10) # 5"
   ]
  },
  {
   "cell_type": "code",
   "execution_count": 26,
   "metadata": {},
   "outputs": [
    {
     "data": {
      "text/plain": [
       "int"
      ]
     },
     "execution_count": 26,
     "metadata": {},
     "output_type": "execute_result"
    }
   ],
   "source": [
    "type(q1)"
   ]
  },
  {
   "cell_type": "code",
   "execution_count": 29,
   "metadata": {},
   "outputs": [
    {
     "name": "stdout",
     "output_type": "stream",
     "text": [
      "472\n"
     ]
    }
   ],
   "source": [
    "print((k1*100 + k2*10 + k3)\n",
    "      )\n"
   ]
  },
  {
   "cell_type": "code",
   "execution_count": 30,
   "metadata": {},
   "outputs": [],
   "source": [
    "b = input()"
   ]
  },
  {
   "cell_type": "code",
   "execution_count": 33,
   "metadata": {},
   "outputs": [
    {
     "name": "stdout",
     "output_type": "stream",
     "text": [
      "472 <class 'str'>\n",
      "4 7 2\n"
     ]
    }
   ],
   "source": [
    "print(b , type(b))\n",
    "print(b[0],\n",
    "      b[1],\n",
    "      b[2]) # str 문자열 특정정보만 가져오기..!"
   ]
  },
  {
   "cell_type": "code",
   "execution_count": null,
   "metadata": {},
   "outputs": [],
   "source": [
    "# solve 1\n",
    "a = input() #472\n",
    "a = int(a)\n",
    "k1 = a//100 #4\n",
    "k2 = a//10 - k1*10 #7\n",
    "k3 = a - (k1*100 + k2*10) #2\n",
    "\n",
    "b = input() #385\n",
    "b = int(b)\n",
    "q1 = b//100 #3\n",
    "q2 = b//10 - q1*10 # 38 - 30 = 8\n",
    "q3 = b - (q1*100 + q2*10) # 5\n",
    "\n",
    "print((k1*100 + k2*10 + k3) * q3)\n",
    "print((k1*100 + k2*10 + k3) * q2)\n",
    "print((k1*100 + k2*10 + k3) * q1)\n",
    "print(((k1*100 + k2*10 + k3) * q3)\n",
    "      +((k1*100 + k2*10 + k3) * q2)*10\n",
    "      +((k1*100 + k2*10 + k3) * q1)*100)\n",
    "\n",
    "# solve 2\n",
    "a= int(input())\n",
    "b= input()\n",
    "\n",
    "n3= a*int(b[2])\n",
    "n4= a*int(b[1])\n",
    "n5= a*int(b[0])\n",
    "print(n3)\n",
    "print(n4)\n",
    "print(n5)\n",
    "\n",
    "n6 = n5*100 + n4*10 + n3\n",
    "print(n6)"
   ]
  },
  {
   "cell_type": "code",
   "execution_count": null,
   "metadata": {},
   "outputs": [],
   "source": [
    "a= int(input())\n",
    "b= input()\n",
    "\n",
    "n3= a*int(b[2])\n",
    "n4= a*int(b[1])\n",
    "n5= a*int(b[0])\n",
    "print(n3)\n",
    "print(n4)\n",
    "print(n5)\n",
    "\n",
    "n6 = n5*100 + n4*10 + n3\n",
    "print(n6)"
   ]
  },
  {
   "cell_type": "code",
   "execution_count": 43,
   "metadata": {},
   "outputs": [],
   "source": [
    "a = input()"
   ]
  },
  {
   "cell_type": "code",
   "execution_count": 59,
   "metadata": {},
   "outputs": [
    {
     "name": "stdout",
     "output_type": "stream",
     "text": [
      "|\\_/|\n",
      "|q p|   /}\n",
      "( 0 )\"\"\"\\\n",
      "|\"^\"`   |\n",
      "||_/=\\\\__|\n"
     ]
    }
   ],
   "source": [
    "print(\"|\\_/|\")\n",
    "print(\"|q p|   /}\")\n",
    "print(\"( 0 )\\\"\\\"\\\"\\\\\")\n",
    "print(\"|\\\"^\\\"`    |\")\n",
    "print(\"||_/=\\\\\\\\__|\")"
   ]
  },
  {
   "cell_type": "markdown",
   "metadata": {},
   "source": [
    "# 2) 조건문"
   ]
  },
  {
   "cell_type": "code",
   "execution_count": 62,
   "metadata": {},
   "outputs": [
    {
     "name": "stdout",
     "output_type": "stream",
     "text": [
      "==\n"
     ]
    }
   ],
   "source": [
    "a, b = map(int, input().split())\n",
    "if a > b:\n",
    "    print(\">\")\n",
    "if a < b:\n",
    "    print(\"<\")\n",
    "if a == b:\n",
    "    print(\"==\")\n",
    "\n",
    "\n",
    "# \n",
    "if a > b:\n",
    "    print('>')\n",
    "elif a < b:\n",
    "    print('<')\n",
    "else:\n",
    "    print('==')\n",
    "\n"
   ]
  },
  {
   "cell_type": "code",
   "execution_count": 69,
   "metadata": {},
   "outputs": [
    {
     "name": "stdout",
     "output_type": "stream",
     "text": [
      "A\n"
     ]
    }
   ],
   "source": [
    "a = int(input())\n",
    "\n",
    "if 100 >= a >= 90:\n",
    "    print('A')\n",
    "elif 89 >= a >= 80:\n",
    "    print('B')\n",
    "elif 79 >= a >= 70:\n",
    "    print('C')\n",
    "elif 69 >= a >= 60:\n",
    "    print('D')\n",
    "else :\n",
    "    print('F')"
   ]
  },
  {
   "cell_type": "code",
   "execution_count": 71,
   "metadata": {},
   "outputs": [
    {
     "name": "stdout",
     "output_type": "stream",
     "text": [
      "1\n"
     ]
    }
   ],
   "source": [
    "a = int(input())\n",
    "if a%4 == 0 and a%100 != 0:\n",
    "    print('1')\n",
    "elif a%400 == 0:\n",
    "    print('1')\n",
    "else :\n",
    "    print('0')\n",
    "\n",
    "#\n",
    "a = int(input())\n",
    "if (a%4==0) and (a%100!=0) or (a%400==0):\n",
    "    print('1')\n",
    "else: print('0')"
   ]
  },
  {
   "cell_type": "code",
   "execution_count": 72,
   "metadata": {},
   "outputs": [
    {
     "name": "stdout",
     "output_type": "stream",
     "text": [
      "4\n"
     ]
    }
   ],
   "source": [
    "x = int(input())\n",
    "y = int(input())\n",
    "if x > 0 and y > 0:\n",
    "    print('1')\n",
    "elif x > 0 and y < 0:\n",
    "    print('4')\n",
    "elif x < 0 and y > 0:\n",
    "    print('2')\n",
    "else :\n",
    "    print('3')"
   ]
  },
  {
   "cell_type": "code",
   "execution_count": 91,
   "metadata": {},
   "outputs": [
    {
     "name": "stdout",
     "output_type": "stream",
     "text": [
      "9 25\n"
     ]
    }
   ],
   "source": [
    "a, b = map(int, input().split())\n",
    "if b > 45:\n",
    "    print(a, b-45)\n",
    "elif a != 0 and b < 45:\n",
    "    print(a-1, b+15)\n",
    "elif a == 0 and b < 45:\n",
    "    print(23, b+15)\n",
    "else :\n",
    "    print(a,0)  # 모든 경우 고려하기\n",
    "\n",
    "#\n",
    "H, M = map(int, input().split())\n",
    "\n",
    "if M < 45 :\t# 분단위가 45분보다 작을 때 \n",
    "    if H == 0 :\t# 0 시이면\n",
    "        H = 23\n",
    "        M += 60\n",
    "    else :\t# 0시가 아니면 (0시보다 크면)\n",
    "        H -= 1\t\n",
    "        M += 60\n",
    "        \n",
    "print(H, M-45)\t\n"
   ]
  },
  {
   "cell_type": "code",
   "execution_count": 33,
   "metadata": {},
   "outputs": [
    {
     "name": "stdout",
     "output_type": "stream",
     "text": [
      "0 13\n"
     ]
    }
   ],
   "source": [
    "# hard? (출력에서 조건이 24:00 은 00:00 으로, a:60 은 a:00 으로 표기)\n",
    "#       (따라서 시간과 분에대한 조건을 각각 나눠줘야함)\n",
    "a, b = map(int, input().split()) # 시간 분\n",
    "m = int(input()) # 0 ~ 1000\n",
    "q1 = (b+m)//60 #올림되는 시간\n",
    "q2 = (q1+a)//24\n",
    "if b + m < 60:  # 시간 올림이 안된다.\n",
    "    if a == 24:\n",
    "        print(0, b+m)\n",
    "    else :\n",
    "        print(a, b+m)\n",
    "\n",
    "if b + m >= 60: #q1 올림되는 시간이 1이상이라는 말과 필요충분조건이다.\n",
    "    if q1 + a < 24:\n",
    "        print(q1+a, b+m-int(q1)*60)\n",
    "    else :\n",
    "        print(q1+a-int(q2)*24, b+m-int(q1)*60) \n",
    "    \n",
    "\n"
   ]
  },
  {
   "cell_type": "code",
   "execution_count": 56,
   "metadata": {},
   "outputs": [],
   "source": [
    "# note)\n",
    "a = list(map(int, input().split()))\n",
    "type(a)\n",
    "int(a[0]        # list get!\n",
    "    + a[1])"
   ]
  },
  {
   "cell_type": "code",
   "execution_count": 84,
   "metadata": {},
   "outputs": [
    {
     "name": "stdout",
     "output_type": "stream",
     "text": [
      "600\n"
     ]
    }
   ],
   "source": [
    "a, b, c = map(\n",
    "    int, input().split()\n",
    ")\n",
    "# python 비교연산자의 유의\n",
    "# python 에서 3가지 값에 대하여 비교할때, a != b != c 를 한번에 판단하지 않음..\n",
    "# a != b --> true or false (true =1 , false = 0 취급)\n",
    "# true != c # c가 0이 아니라면 무조건 조건문을 통과하게됨.\n",
    "if a == b == c:\n",
    "    print(10000+a*1000)\n",
    "elif a == b and a != c:\n",
    "    print(1000 + a*100)\n",
    "elif a == c and a != b:\n",
    "    print(1000 +a*100)\n",
    "elif b == c and a != b:\n",
    "    print(1000 +b*100)\n",
    "else :\n",
    "    print(max(a,b,c)*100)"
   ]
  },
  {
   "cell_type": "code",
   "execution_count": null,
   "metadata": {},
   "outputs": [],
   "source": []
  }
 ],
 "metadata": {
  "kernelspec": {
   "display_name": "Python 3",
   "language": "python",
   "name": "python3"
  },
  "language_info": {
   "codemirror_mode": {
    "name": "ipython",
    "version": 3
   },
   "file_extension": ".py",
   "mimetype": "text/x-python",
   "name": "python",
   "nbconvert_exporter": "python",
   "pygments_lexer": "ipython3",
   "version": "3.11.9"
  }
 },
 "nbformat": 4,
 "nbformat_minor": 2
}
